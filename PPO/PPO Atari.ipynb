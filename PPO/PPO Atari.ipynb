{
 "cells": [
  {
   "cell_type": "code",
   "execution_count": 39,
   "metadata": {},
   "outputs": [
    {
     "name": "stdout",
     "output_type": "stream",
     "text": [
      "The autoreload extension is already loaded. To reload it, use:\n",
      "  %reload_ext autoreload\n"
     ]
    }
   ],
   "source": [
    "%load_ext autoreload\n",
    "%autoreload 2"
   ]
  },
  {
   "cell_type": "code",
   "execution_count": 42,
   "metadata": {},
   "outputs": [
    {
     "name": "stdout",
     "output_type": "stream",
     "text": [
      "Running experiment with device: cuda:0\n"
     ]
    }
   ],
   "source": [
    "import pdb\n",
    "import gym\n",
    "import copy\n",
    "import functools\n",
    "import matplotlib.pyplot as plt\n",
    "\n",
    "import torch\n",
    "import numpy as np\n",
    "from collections import deque\n",
    "\n",
    "from Config import Config\n",
    "from Models import ActorCritic\n",
    "from PPO import PPOPixel\n",
    "from Networks import cnn_head_model, actor_model, critic_model, head_model\n",
    "from Memory import Memory\n",
    "# from baselines.common.cmd_util import make_env\n",
    "from baselines.common.atari_wrappers import wrap_deepmind, make_atari\n",
    "\n",
    "\n",
    "env_id = \"BreakoutNoFrameskip-v4\"\n",
    "env = make_atari(env_id)\n",
    "env = wrap_deepmind(env, episode_life=True, clip_rewards=True, frame_stack=True, scale=False)\n",
    "\n",
    "config = Config(env)\n",
    "\n",
    "config.update_every = 500\n",
    "config.num_learn = 4\n",
    "config.win_condition = 230\n",
    "config.n_episodes = 2000000\n",
    "config.max_t = 700\n",
    "config.lr = 2.5e-4\n",
    "config.hidden_size = 512\n",
    "\n",
    "config.Memory = Memory\n",
    "config.Model = ActorCritic\n",
    "config.head_model = functools.partial(cnn_head_model, config)\n",
    "config.actor_model = functools.partial(actor_model, config)\n",
    "config.critic_model = functools.partial(critic_model, config)\n"
   ]
  },
  {
   "cell_type": "code",
   "execution_count": null,
   "metadata": {},
   "outputs": [
    {
     "name": "stdout",
     "output_type": "stream",
     "text": [
      "Episode 700\tAverage Score: 0.31\tScore: 0.00"
     ]
    }
   ],
   "source": [
    "def train(config):\n",
    "    env = copy.deepcopy(config.env)\n",
    "    steps = 0\n",
    "    scores_deque = deque(maxlen=100)\n",
    "    scores = []\n",
    "    average_scores = []\n",
    "    max_score = -np.Inf\n",
    "\n",
    "    agent = PPOPixel(config)\n",
    "\n",
    "    for i_episode in range(1, config.n_episodes+1):\n",
    "        state = env.reset()\n",
    "        score = 0\n",
    "        while True:\n",
    "            steps += 1\n",
    "\n",
    "            action, log_prob, value, entr = agent.act(state)\n",
    "            next_state, reward, done, _ = env.step(action)\n",
    "            agent.add_to_mem(state, action, reward, log_prob, done)\n",
    "\n",
    "            # Update \n",
    "            state = next_state\n",
    "            score += reward\n",
    "\n",
    "            if steps >= config.update_every:\n",
    "                agent.learn(config.num_learn)\n",
    "                agent.mem.clear()\n",
    "                steps = 0\n",
    "\n",
    "            if done:\n",
    "                break \n",
    "\n",
    "        # Book Keeping\n",
    "        scores_deque.append(score)\n",
    "        scores.append(score)\n",
    "        average_scores.append(np.mean(scores_deque))\n",
    "\n",
    "        if i_episode % 10 == 0:\n",
    "            print(\"\\rEpisode {}\tAverage Score: {:.2f}\tScore: {:.2f}\".format(i_episode, np.mean(scores_deque), score), end=\"\")\n",
    "        if i_episode % 1000 == 0:\n",
    "            print(\"\\rEpisode {}\tAverage Score: {:.2f}\".format(i_episode, np.mean(scores_deque)))   \n",
    "\n",
    "        if np.mean(scores_deque) > config.win_condition:\n",
    "            print(\"\\nEnvironment Solved!\")\n",
    "            break\n",
    "\n",
    "    return scores, average_scores\n",
    "\n",
    "scores, average_scores = train(config)"
   ]
  },
  {
   "cell_type": "code",
   "execution_count": null,
   "metadata": {},
   "outputs": [],
   "source": []
  }
 ],
 "metadata": {
  "kernelspec": {
   "display_name": "Python 3",
   "language": "python",
   "name": "python3"
  },
  "language_info": {
   "codemirror_mode": {
    "name": "ipython",
    "version": 3
   },
   "file_extension": ".py",
   "mimetype": "text/x-python",
   "name": "python",
   "nbconvert_exporter": "python",
   "pygments_lexer": "ipython3",
   "version": "3.8.5"
  }
 },
 "nbformat": 4,
 "nbformat_minor": 4
}
