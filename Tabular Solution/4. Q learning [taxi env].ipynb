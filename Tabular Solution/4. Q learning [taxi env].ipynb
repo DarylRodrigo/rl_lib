{
 "cells": [
  {
   "cell_type": "markdown",
   "metadata": {},
   "source": [
    "# Q-Learning"
   ]
  },
  {
   "cell_type": "code",
   "execution_count": 9,
   "metadata": {},
   "outputs": [
    {
     "name": "stdout",
     "output_type": "stream",
     "text": [
      "+---------+\n",
      "|R: | : :G|\n",
      "| : : : : |\n",
      "| : : : : |\n",
      "| | :\u001b[43m \u001b[0m| : |\n",
      "|\u001b[34;1mY\u001b[0m| : |\u001b[35mB\u001b[0m: |\n",
      "+---------+\n",
      "\n",
      "351 -10 False\n",
      "+---------+\n",
      "|R: | : :G|\n",
      "| : : : : |\n",
      "| : : : : |\n",
      "| | :\u001b[43m \u001b[0m| : |\n",
      "|\u001b[34;1mY\u001b[0m| : |\u001b[35mB\u001b[0m: |\n",
      "+---------+\n",
      "  (Dropoff)\n",
      "331 -1 False\n",
      "+---------+\n",
      "|R: | : :G|\n",
      "| : : : : |\n",
      "| : : : : |\n",
      "| |\u001b[43m \u001b[0m: | : |\n",
      "|\u001b[34;1mY\u001b[0m| : |\u001b[35mB\u001b[0m: |\n",
      "+---------+\n",
      "  (West)\n",
      "331 -10 False\n",
      "+---------+\n",
      "|R: | : :G|\n",
      "| : : : : |\n",
      "| : : : : |\n",
      "| |\u001b[43m \u001b[0m: | : |\n",
      "|\u001b[34;1mY\u001b[0m| : |\u001b[35mB\u001b[0m: |\n",
      "+---------+\n",
      "  (Pickup)\n",
      "231 -1 False\n",
      "+---------+\n",
      "|R: | : :G|\n",
      "| : : : : |\n",
      "| :\u001b[43m \u001b[0m: : : |\n",
      "| | : | : |\n",
      "|\u001b[34;1mY\u001b[0m| : |\u001b[35mB\u001b[0m: |\n",
      "+---------+\n",
      "  (North)\n",
      "231 -10 False\n"
     ]
    }
   ],
   "source": [
    "import gym\n",
    "import numpy as np\n",
    "import random\n",
    "from collections import deque\n",
    "from matplotlib import pyplot as plt\n",
    "\n",
    "env = gym.make('Taxi-v2')\n",
    "env.reset()\n",
    "\n",
    "for t in range(5):\n",
    "    env.render()\n",
    "    action = env.action_space.sample()\n",
    "    observation, reward, done, info = env.step(action)\n",
    "    \n",
    "    # state which taxi is in is literally represented by a number.\n",
    "    print(observation, reward, done)\n",
    "\n",
    "    if done:\n",
    "        print(\"Episode finished after {} timesteps\".format(t+1))\n",
    "        break\n",
    "env.close()"
   ]
  },
  {
   "cell_type": "code",
   "execution_count": 103,
   "metadata": {},
   "outputs": [],
   "source": [
    "# CONSTANTS\n",
    "\n",
    "ALPHA = 0.05\n",
    "ALPHA_START = 0.1\n",
    "ALPHA_TAPER = 0.01\n",
    "GAMMA = 0.95\n",
    "\n",
    "EPSILON_START = 1\n",
    "EPSILON_TAPER = 0.01\n",
    "\n",
    "NUM_EPISODES = 500\n",
    "MAX_STEPS = env.spec.timestep_limit\n",
    "\n",
    "# Logging\n",
    "reward_history = deque(maxlen=1000)\n",
    "\n",
    "# Initialise Q table\n",
    "\n",
    "available_state_size = env.observation_space.n\n",
    "available_action_size = env.action_space.n\n",
    "\n",
    "Q = np.zeros((available_state_size, available_action_size))\n",
    "\n",
    "update_counts = np.zeros((available_state_size, available_action_size), dtype=np.dtype(int))"
   ]
  },
  {
   "cell_type": "code",
   "execution_count": 104,
   "metadata": {},
   "outputs": [],
   "source": [
    "def greed_epsilon(Q, state, eps):\n",
    "    if ( random.random() < (1-eps)):\n",
    "        # index of largest action no the value of the largest action\n",
    "        return np.argmax(Q[state])\n",
    "    else:\n",
    "        return env.action_space.sample()\n",
    "\n",
    "def update_q_table(state, action, reward, next_state, Q):\n",
    "    alpha = ALPHA_START / (1.0 + update_counts[state][action] * ALPHA_TAPER)\n",
    "    update_counts[state][action] += 1\n",
    "    \n",
    "    current_Q = Q[state, action]\n",
    "    max_a_Q = Q[next_state, np.argmax((Q[next_state]))]\n",
    "\n",
    "    Q[state, action] = current_Q + alpha * ( reward +  GAMMA * max_a_Q - current_Q)\n",
    "    \n",
    "    return Q"
   ]
  },
  {
   "cell_type": "code",
   "execution_count": 105,
   "metadata": {},
   "outputs": [
    {
     "name": "stdout",
     "output_type": "stream",
     "text": [
      "epi:  0 \tmoving average reward:  nan \tEps:  1.0\n",
      "epi:  1000 \tmoving average reward:  -165.902 \tEps:  0.09090909090909091\n",
      "epi:  2000 \tmoving average reward:  0.49 \tEps:  0.047619047619047616\n",
      "epi:  3000 \tmoving average reward:  5.966 \tEps:  0.03225806451612903\n",
      "epi:  4000 \tmoving average reward:  7.111 \tEps:  0.024390243902439025\n"
     ]
    }
   ],
   "source": [
    "reward_log = []\n",
    "\n",
    "for episode in range(5000):\n",
    "    total_reward = 0\n",
    "\n",
    "    eps = EPSILON_START / (1.0 + episode * EPSILON_TAPER)\n",
    "    \n",
    "    if (episode % 1000 == 0):\n",
    "        print(\"epi: \" ,episode, \"\\tmoving average reward: \",np.mean(reward_history) , \"\\tEps: \", eps)\n",
    "\n",
    "    state = env.reset()\n",
    "    \n",
    "    while t in range(MAX_STEPS):\n",
    "\n",
    "        action = greed_epsilon(Q, state, eps)\n",
    "        next_state, reward, done, info = env.step(int(action))\n",
    "        Q = update_q_table(state, int(action), reward, next_state, Q)\n",
    "        \n",
    "        state = next_state\n",
    "        \n",
    "        total_reward += reward\n",
    "\n",
    "        \n",
    "        if done:\n",
    "            break\n",
    "    \n",
    "    reward_history.append(total_reward)\n",
    "    reward_log.append(np.mean(reward_history))"
   ]
  },
  {
   "cell_type": "code",
   "execution_count": 106,
   "metadata": {},
   "outputs": [
    {
     "data": {
      "text/plain": [
       "[<matplotlib.lines.Line2D at 0x1208b6ac8>]"
      ]
     },
     "execution_count": 106,
     "metadata": {},
     "output_type": "execute_result"
    },
    {
     "data": {
      "image/png": "[encoded data removed]",
      "text/plain": [
       "<Figure size 432x288 with 1 Axes>"
      ]
     },
     "metadata": {
      "needs_background": "light"
     },
     "output_type": "display_data"
    }
   ],
   "source": [
    "plt.plot(reward_log)"
   ]
  },
  {
   "cell_type": "markdown",
   "metadata": {},
   "source": [
    "## Good other blog posts.\n",
    "\n",
    "- https://www.freecodecamp.org/news/an-introduction-to-q-learning-reinforcement-learning-14ac0b4493cc/\n",
    "    - good diagrams\n",
    "- https://towardsdatascience.com/simple-reinforcement-learning-q-learning-fcddc4b6fe56\n",
    "    - simple and straight forward, it's nice to have code snippets to explain parts, perhaps it should be text, code, equation rather than text, equation, diagram. Perhaps look at which is best for the situtation"
   ]
  }
 ],
 "metadata": {
  "kernelspec": {
   "display_name": "Python 3",
   "language": "python",
   "name": "python3"
  },
  "language_info": {
   "codemirror_mode": {
    "name": "ipython",
    "version": 3
   },
   "file_extension": ".py",
   "mimetype": "text/x-python",
   "name": "python",
   "nbconvert_exporter": "python",
   "pygments_lexer": "ipython3",
   "version": "3.6.8"
  }
 },
 "nbformat": 4,
 "nbformat_minor": 2
}
