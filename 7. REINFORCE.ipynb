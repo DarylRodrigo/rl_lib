{
 "cells": [
  {
   "cell_type": "code",
   "execution_count": 18,
   "metadata": {},
   "outputs": [
    {
     "name": "stdout",
     "output_type": "stream",
     "text": [
      "The autoreload extension is already loaded. To reload it, use:\n",
      "  %reload_ext autoreload\n"
     ]
    }
   ],
   "source": [
    "%load_ext autoreload\n",
    "%autoreload 2"
   ]
  },
  {
   "cell_type": "code",
   "execution_count": 23,
   "metadata": {},
   "outputs": [],
   "source": [
    "import numpy as np\n",
    "from collections import deque\n",
    "\n",
    "import torch\n",
    "import torch.nn as nn\n",
    "import torch.optim as optim\n",
    "import torch.nn.functional as F\n",
    "from torch.distributions import Categorical\n",
    "\n",
    "class Network(nn.Module):\n",
    "    def __init__(self, state_space, action_space, seed):\n",
    "        super(Network, self).__init__()\n",
    "\n",
    "        self.model = nn.Sequential(\n",
    "            nn.Linear(state_space, 16),\n",
    "            nn.ReLU(),\n",
    "#             nn.Linear(64, 64),\n",
    "#             nn.ReLU(),\n",
    "            nn.Linear(16, action_space)\n",
    "        )\n",
    "\n",
    "    def forward(self, x):\n",
    "        return F.softmax(self.model(torch.tensor(x).float()))\n",
    "    \n",
    "    \n",
    "    def act(self, x):\n",
    "        # https://pytorch.org/docs/stable/distributions.html#score-function\n",
    "        probabilities = self.forward(x)\n",
    "        m = Categorical(probabilities)\n",
    "        action = m.sample()\n",
    "        log = m.log_prob(action)\n",
    "        \n",
    "        return action, log\n",
    "        "
   ]
  },
  {
   "cell_type": "code",
   "execution_count": 24,
   "metadata": {},
   "outputs": [],
   "source": [
    "import gym\n",
    "env = gym.make(\"CartPole-v1\")\n",
    "\n",
    "state_space = env.observation_space.shape[0]\n",
    "action_space =env.action_space.n"
   ]
  },
  {
   "cell_type": "code",
   "execution_count": 25,
   "metadata": {},
   "outputs": [],
   "source": [
    "max_episodes = 2000\n",
    "max_t = 200\n",
    "update_every = 4\n",
    "gamma = 0.99"
   ]
  },
  {
   "cell_type": "code",
   "execution_count": 26,
   "metadata": {},
   "outputs": [
    {
     "name": "stderr",
     "output_type": "stream",
     "text": [
      "/Library/Frameworks/Python.framework/Versions/3.6/lib/python3.6/site-packages/ipykernel_launcher.py:23: UserWarning: Implicit dimension choice for softmax has been deprecated. Change the call to include dim=X as an argument.\n"
     ]
    },
    {
     "name": "stdout",
     "output_type": "stream",
     "text": [
      "Episode: 0\tmean reward: 13.0\n",
      "Episode: 100\tmean reward: 25.57\n",
      "Episode: 200\tmean reward: 54.44\n",
      "Episode: 300\tmean reward: 122.11\n",
      "Episode: 400\tmean reward: 88.67\n",
      "Episode: 500\tmean reward: 132.69\n",
      "Episode: 600\tmean reward: 184.41\n",
      "Episode: 700\tmean reward: 137.93\n",
      "Episode: 800\tmean reward: 160.5\n",
      "Episode: 900\tmean reward: 171.7\n",
      "Episode: 1000\tmean reward: 167.2\n",
      "Episode: 1100\tmean reward: 156.49\n",
      "Episode: 1200\tmean reward: 163.01\n",
      "Episode: 1300\tmean reward: 190.78\n",
      "Episode: 1400\tmean reward: 186.7\n",
      "Episode: 1500\tmean reward: 198.88\n",
      "Episode: 1600\tmean reward: 180.19\n",
      "Episode: 1700\tmean reward: 166.89\n",
      "Episode: 1800\tmean reward: 187.99\n",
      "Episode: 1900\tmean reward: 200.0\n"
     ]
    }
   ],
   "source": [
    "model = Network(state_space, action_space, 1234)\n",
    "optimiser = optim.Adam(model.parameters(),lr=1e-2)\n",
    "\n",
    "scores_deque = deque(maxlen=100)\n",
    "\n",
    "for episode in range(max_episodes):\n",
    "    state = env.reset()\n",
    "    \n",
    "    policy_log = []\n",
    "    reward_log = []\n",
    "    \n",
    "    for t in range(max_t):\n",
    "        action, log = model.act(state)\n",
    "        state, reward, done, info = env.step(action.item())\n",
    "        \n",
    "        reward_log.append(reward)\n",
    "        policy_log.append(log)\n",
    "        \n",
    "        if done:\n",
    "            break\n",
    "        \n",
    "    discounts = [gamma ** i for i in range(len(reward_log)+1)]    \n",
    "    rewards = [discount * reward for (discount, reward) in zip(discounts, reward_log)]\n",
    "    G = np.array(rewards).sum()\n",
    "    \n",
    "    policy_loss = np.array([ -log * G for log in policy_log]).sum()\n",
    "    \n",
    "    optimiser.zero_grad()\n",
    "    policy_loss.backward()\n",
    "    optimiser.step()\n",
    "    \n",
    "    scores_deque.append(np.array(reward_log).sum())\n",
    "    \n",
    "    \n",
    "    if episode % 100 == 0:\n",
    "        print(\"Episode: {}\\tmean reward: {}\".format(episode, np.array(scores_deque).mean()))\n",
    "        "
   ]
  },
  {
   "cell_type": "code",
   "execution_count": null,
   "metadata": {},
   "outputs": [],
   "source": []
  },
  {
   "cell_type": "code",
   "execution_count": null,
   "metadata": {},
   "outputs": [],
   "source": []
  }
 ],
 "metadata": {
  "kernelspec": {
   "display_name": "Python 3",
   "language": "python",
   "name": "python3"
  },
  "language_info": {
   "codemirror_mode": {
    "name": "ipython",
    "version": 3
   },
   "file_extension": ".py",
   "mimetype": "text/x-python",
   "name": "python",
   "nbconvert_exporter": "python",
   "pygments_lexer": "ipython3",
   "version": "3.6.8"
  }
 },
 "nbformat": 4,
 "nbformat_minor": 2
}
