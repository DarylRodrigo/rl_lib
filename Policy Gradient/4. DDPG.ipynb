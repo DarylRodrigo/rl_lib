{
 "cells": [
  {
   "cell_type": "code",
   "execution_count": 1,
   "metadata": {},
   "outputs": [],
   "source": [
    "%load_ext autoreload\n",
    "%autoreload 2"
   ]
  },
  {
   "cell_type": "code",
   "execution_count": 2,
   "metadata": {},
   "outputs": [],
   "source": [
    "from collections import deque, namedtuple\n",
    "from matplotlib import pyplot as plt\n",
    "import numpy as np\n",
    "import random\n",
    "import gym\n",
    "import pdb\n",
    "\n",
    "from src.utils.OUNoise import OUNoise \n",
    "\n",
    "import torch\n",
    "import torch.nn as nn\n",
    "import torch.optim as optim\n",
    "import torch.nn.functional as F\n",
    "from torch.distributions import Categorical"
   ]
  },
  {
   "cell_type": "code",
   "execution_count": 3,
   "metadata": {},
   "outputs": [],
   "source": [
    "device = torch.device(\"cuda:0\" if torch.cuda.is_available() else \"cpu\")"
   ]
  },
  {
   "cell_type": "markdown",
   "metadata": {},
   "source": [
    "## Define Networks"
   ]
  },
  {
   "cell_type": "code",
   "execution_count": 4,
   "metadata": {},
   "outputs": [],
   "source": [
    "class Actor(nn.Module):\n",
    "    def __init__(self, state_space, action_space):\n",
    "        super(Actor, self).__init__()\n",
    "        \n",
    "        self.noise = OUNoise(action_space)\n",
    "        \n",
    "        self.head = nn.Sequential(\n",
    "            nn.Linear(state_space, 512),\n",
    "            nn.ReLU(),\n",
    "            nn.Linear(512, 128),\n",
    "            nn.ReLU(),\n",
    "            nn.Linear(128, action_space),\n",
    "            nn.Tanh()\n",
    "        )\n",
    "    \n",
    "    def forward(self, x):\n",
    "        return self.head(x)\n",
    "    \n",
    "    def act(self, state, add_noise=True):\n",
    "        \n",
    "        state = torch.from_numpy(state).float()\n",
    "        \n",
    "        action = self.forward(state).cpu().data.numpy()\n",
    "        if add_noise:\n",
    "            action += self.noise.noise()\n",
    "\n",
    "        return np.clip(action, -1, 1)\n"
   ]
  },
  {
   "cell_type": "code",
   "execution_count": 5,
   "metadata": {},
   "outputs": [],
   "source": [
    "# class Critic(nn.Module):\n",
    "#     def __init__(self, state_space, action_space):\n",
    "#         super(Critic, self).__init__()\n",
    "        \n",
    "#         self.head = nn.Sequential(\n",
    "#             nn.Linear(state_space, 1024),\n",
    "#             nn.ReLU(),\n",
    "#         )\n",
    "        \n",
    "#         self.body = nn.Sequential(\n",
    "#             nn.Linear(1024 + action_space, 512),\n",
    "#             nn.ReLU(),\n",
    "#             nn.Linear(512, 300),\n",
    "#             nn.ReLU(),\n",
    "#             nn.Linear(300, 1),\n",
    "#         )\n",
    "        \n",
    "#         self.single = nn.Sequential(\n",
    "#             nn.Linear(state_space + action_space, 256),\n",
    "#             nn.ReLU(),\n",
    "#             nn.Linear(256, 256),\n",
    "#             nn.ReLU(),\n",
    "#             nn.Linear(256, 1),\n",
    "#         )\n",
    "    \n",
    "#     def forward(self, x, actions):\n",
    "#         actions = torch.tensor(actions).float()\n",
    "#         x = torch.tensor(x).float()\n",
    "        \n",
    "#         x = self.head(x)\n",
    "#         x = self.body(torch.cat((x, actions), dim=1))\n",
    "        \n",
    "# #         x = self.single(torch.cat((x, actions), dim=1))\n",
    "#         return x"
   ]
  },
  {
   "cell_type": "code",
   "execution_count": 6,
   "metadata": {},
   "outputs": [],
   "source": [
    "class Critic(nn.Module):\n",
    "\n",
    "    def __init__(self, obs_dim, action_dim):\n",
    "        super(Critic, self).__init__()\n",
    "\n",
    "        self.obs_dim = obs_dim\n",
    "        self.action_dim = action_dim\n",
    "\n",
    "        self.linear1 = nn.Linear(self.obs_dim, 1024)\n",
    "        self.linear2 = nn.Linear(1024 + self.action_dim, 512)\n",
    "        self.linear3 = nn.Linear(512, 300)\n",
    "        self.linear4 = nn.Linear(300, 1)\n",
    "\n",
    "    def forward(self, x, a):\n",
    "        x = F.relu(self.linear1(x))\n",
    "        xa_cat = torch.cat([x,a], 1)\n",
    "        xa = F.relu(self.linear2(xa_cat))\n",
    "        xa = F.relu(self.linear3(xa))\n",
    "        qval = self.linear4(xa)\n",
    "\n",
    "        return qval"
   ]
  },
  {
   "cell_type": "markdown",
   "metadata": {},
   "source": [
    "## Create environment with Agents"
   ]
  },
  {
   "cell_type": "markdown",
   "metadata": {},
   "source": [
    "https://github.com/openai/gym/wiki/Pendulum-v0"
   ]
  },
  {
   "cell_type": "code",
   "execution_count": 7,
   "metadata": {},
   "outputs": [
    {
     "name": "stdout",
     "output_type": "stream",
     "text": [
      "State space: 3\n",
      "Action space: 1\n"
     ]
    },
    {
     "name": "stderr",
     "output_type": "stream",
     "text": [
      "/Library/Frameworks/Python.framework/Versions/3.6/lib/python3.6/site-packages/gym/envs/registration.py:14: PkgResourcesDeprecationWarning: Parameters to load are deprecated.  Call .resolve and .require separately.\n",
      "  result = entry_point.load(False)\n"
     ]
    }
   ],
   "source": [
    "import gym\n",
    "\n",
    "# env = gym.make(\"MountainCarContinuous-v0\")\n",
    "env = gym.make(\"Pendulum-v0\")\n",
    "\n",
    "state_space = env.observation_space.shape[0]\n",
    "action_space = env.action_space.shape[0]\n",
    "\n",
    "print(\"State space: {}\".format(state_space))\n",
    "print(\"Action space: {}\".format(action_space))"
   ]
  },
  {
   "cell_type": "code",
   "execution_count": 8,
   "metadata": {},
   "outputs": [],
   "source": [
    "actor = Actor(state_space, action_space).to(device)\n",
    "critic = Critic(state_space, action_space).to(device)\n",
    "\n",
    "actor_target = Actor(state_space, action_space).to(device)\n",
    "critic_target = Critic(state_space, action_space).to(device)"
   ]
  },
  {
   "cell_type": "markdown",
   "metadata": {},
   "source": [
    "### Replay Buffer"
   ]
  },
  {
   "cell_type": "code",
   "execution_count": 10,
   "metadata": {},
   "outputs": [],
   "source": [
    "class ReplayBuffer:\n",
    "    def __init__(self, buffer_size):\n",
    "        self.buffer = deque(maxlen=int(buffer_size))\n",
    "        self.Experience = namedtuple(\"experience\", [\"state\", \"action\", \"reward\", \"next_state\", \"done\"])\n",
    "    \n",
    "    def push(self, state, action, reward, next_state, done):\n",
    "        e = self.Experience(state, action, np.array([reward]), next_state ,done)\n",
    "        self.buffer.append(e)\n",
    "    \n",
    "    def sample(self, batch_size):\n",
    "        samples = random.sample(self.buffer, batch_size)\n",
    "        \n",
    "        states = [ exp.state for exp in samples]\n",
    "        actions = [ exp.action for exp in samples]\n",
    "        rewards = [ exp.reward for exp in samples]\n",
    "        next_states = [ exp.next_state for exp in samples]\n",
    "        dones = [ exp.done for exp in samples]\n",
    "        \n",
    "        return (states, actions, rewards, next_states, dones)\n",
    "    \n",
    "    def __len__(self):\n",
    "        return len(self.buffer)"
   ]
  },
  {
   "cell_type": "markdown",
   "metadata": {},
   "source": [
    "## Computing loss and updating Networks"
   ]
  },
  {
   "cell_type": "code",
   "execution_count": 11,
   "metadata": {},
   "outputs": [],
   "source": [
    "actor_optimiser = optim.Adam(actor.parameters(), lr=1e-3)\n",
    "critic_optimiser = optim.Adam(critic.parameters(), lr=1e-3)"
   ]
  },
  {
   "cell_type": "code",
   "execution_count": 12,
   "metadata": {},
   "outputs": [],
   "source": [
    "def learn():\n",
    "\n",
    "    state_batch, action_batch, reward_batch, next_state_batch, masks = mem.sample(batch_size)\n",
    "    \n",
    "    state_batch = torch.FloatTensor(state_batch)\n",
    "    action_batch = torch.FloatTensor(action_batch)\n",
    "    reward_batch = torch.FloatTensor(reward_batch)\n",
    "    next_state_batch = torch.FloatTensor(next_state_batch)\n",
    "    masks = torch.FloatTensor(masks)\n",
    "\n",
    "\n",
    "    update_critic(\n",
    "        states=state_batch,\n",
    "        next_states=next_state_batch,\n",
    "        actions=action_batch,\n",
    "        rewards=reward_batch,\n",
    "        dones=masks\n",
    "    )\n",
    "    update_actor(states=state_batch)\n",
    "    update_target_networks()\n"
   ]
  },
  {
   "cell_type": "markdown",
   "metadata": {},
   "source": [
    "### Actor Update\n",
    "\n",
    "<img src=\"./img/ddpg/actor_update.png\" alt=\"Drawing\" style=\"height: 50px;\"/>"
   ]
  },
  {
   "cell_type": "code",
   "execution_count": 13,
   "metadata": {},
   "outputs": [],
   "source": [
    "def update_actor(states):\n",
    "    actions_pred = actor(states)  \n",
    "    loss = -critic(states, actions_pred).mean()\n",
    "    \n",
    "    actor_optimiser.zero_grad()\n",
    "    loss.backward()\n",
    "    actor_optimiser.step()"
   ]
  },
  {
   "cell_type": "markdown",
   "metadata": {},
   "source": [
    "### Critic Update\n",
    "\n",
    "Critic Loss:\n",
    "<img src=\"./img/ddpg/critic_loss.png\" alt=\"Drawing\" style=\"height: 30px;\"/>\n",
    "\n",
    "Critic $y_i$:\n",
    "<img src=\"./img/ddpg/critic_yi.png\" alt=\"Drawing\" style=\"height: 35px;\"/>"
   ]
  },
  {
   "cell_type": "code",
   "execution_count": 14,
   "metadata": {},
   "outputs": [],
   "source": [
    "def update_critic(states, next_states, actions, rewards, dones):\n",
    "    next_actions = actor_target.forward(next_states)\n",
    "    \n",
    "    y_i =  rewards + ( gamma * critic_target(next_states, next_actions) * (1-dones ))\n",
    "    expected_Q = critic(states, actions)\n",
    "\n",
    "    loss = F.mse_loss(y_i, expected_Q)\n",
    "    \n",
    "    critic_optimiser.zero_grad()\n",
    "    loss.backward()\n",
    "    critic_optimiser.step()"
   ]
  },
  {
   "cell_type": "markdown",
   "metadata": {},
   "source": [
    "### Copy Weights Over"
   ]
  },
  {
   "cell_type": "code",
   "execution_count": 15,
   "metadata": {},
   "outputs": [],
   "source": [
    "def update_target_networks():\n",
    "    for target, local in zip(actor_target.parameters(), actor.parameters()):\n",
    "        target.data.copy_(tau*local.data + (1.0-tau)*target.data)\n",
    "        \n",
    "    for target, local in zip(critic_target.parameters(), critic.parameters()):\n",
    "        target.data.copy_(tau*local.data + (1.0-tau)*target.data)"
   ]
  },
  {
   "cell_type": "markdown",
   "metadata": {},
   "source": [
    "## Runner"
   ]
  },
  {
   "cell_type": "code",
   "execution_count": 20,
   "metadata": {},
   "outputs": [],
   "source": [
    "max_e = 300\n",
    "max_t = 500\n",
    "buffer_size = 100000\n",
    "batch_size = 32\n",
    "learn_every = 1\n",
    "\n",
    "gamma = 0.99\n",
    "tau = 1e-2"
   ]
  },
  {
   "cell_type": "code",
   "execution_count": 17,
   "metadata": {},
   "outputs": [],
   "source": [
    "mem = ReplayBuffer(buffer_size)\n",
    "\n",
    "score_log = []\n",
    "score_window = deque(maxlen=100)"
   ]
  },
  {
   "cell_type": "code",
   "execution_count": 21,
   "metadata": {
    "scrolled": true
   },
   "outputs": [
    {
     "name": "stderr",
     "output_type": "stream",
     "text": [
      "/Library/Frameworks/Python.framework/Versions/3.6/lib/python3.6/site-packages/ipykernel_launcher.py:10: UserWarning: Using a target size (torch.Size([32, 1])) that is different to the input size (torch.Size([32, 32])). This will likely lead to incorrect results due to broadcasting. Please ensure they have the same size.\n",
      "  # Remove the CWD from sys.path while we load stuff.\n"
     ]
    },
    {
     "name": "stdout",
     "output_type": "stream",
     "text": [
      "Epsiode: 0.0\tMean Score: -723.9885\tScore: -128.5097\n",
      "Epsiode: 1.0\tMean Score: -705.3404\tScore: -127.2470\n",
      "Epsiode: 2.0\tMean Score: -698.6947\tScore: -486.0341\n",
      "Epsiode: 3.0\tMean Score: -681.8138\tScore: -124.7451\n",
      "Epsiode: 4.0\tMean Score: -669.4169\tScore: -247.9212\n",
      "Epsiode: 5.0\tMean Score: -657.8248\tScore: -252.1006\n",
      "Epsiode: 6.0\tMean Score: -643.4520\tScore: -126.0304\n",
      "Epsiode: 7.0\tMean Score: -640.1857\tScore: -519.3338\n",
      "Epsiode: 8.0\tMean Score: -623.8489\tScore: -3.0514\n",
      "Epsiode: 9.0\tMean Score: -611.4766\tScore: -128.9550\n",
      "Epsiode: 10.0\tMean Score: -599.5574\tScore: -122.7909\n",
      "Epsiode: 11.0\tMean Score: -588.2952\tScore: -126.5428\n",
      "Epsiode: 12.0\tMean Score: -583.0838\tScore: -364.2055\n",
      "Epsiode: 13.0\tMean Score: -569.9233\tScore: -4.0247\n",
      "Epsiode: 14.0\tMean Score: -562.5000\tScore: -235.8721\n",
      "Epsiode: 15.0\tMean Score: -553.0546\tScore: -128.0142\n",
      "Epsiode: 16.0\tMean Score: -549.1617\tScore: -370.0856\n",
      "Epsiode: 17.0\tMean Score: -545.4121\tScore: -369.1816\n",
      "Epsiode: 18.0\tMean Score: -539.1262\tScore: -237.4022\n",
      "Epsiode: 19.0\tMean Score: -530.8933\tScore: -127.4848\n",
      "Epsiode: 20.0\tMean Score: -525.2364\tScore: -242.3870\n",
      "Epsiode: 21.0\tMean Score: -517.6164\tScore: -128.9974\n",
      "Epsiode: 22.0\tMean Score: -540.6212\tScore: -1736.8699\n",
      "Epsiode: 23.0\tMean Score: -535.2770\tScore: -252.0358\n",
      "Epsiode: 24.0\tMean Score: -529.8919\tScore: -239.0996\n",
      "Epsiode: 25.0\tMean Score: -522.6192\tScore: -122.6194\n",
      "Epsiode: 26.0\tMean Score: -519.7584\tScore: -359.5503\n",
      "Epsiode: 27.0\tMean Score: -520.9700\tScore: -590.0312\n",
      "Epsiode: 28.0\tMean Score: -520.1508\tScore: -472.6406\n",
      "Epsiode: 29.0\tMean Score: -517.5548\tScore: -364.3922\n",
      "Epsiode: 30.0\tMean Score: -509.1241\tScore: -3.2814\n",
      "Epsiode: 31.0\tMean Score: -500.9618\tScore: -3.0568\n",
      "Epsiode: 32.0\tMean Score: -494.9865\tScore: -124.5210\n",
      "Epsiode: 33.0\tMean Score: -491.1375\tScore: -248.6497\n",
      "Epsiode: 34.0\tMean Score: -485.4498\tScore: -121.4388\n",
      "Epsiode: 35.0\tMean Score: -481.7889\tScore: -243.8270\n",
      "Epsiode: 36.0\tMean Score: -478.1137\tScore: -235.5554\n",
      "Epsiode: 37.0\tMean Score: -474.6874\tScore: -245.1240\n",
      "Epsiode: 38.0\tMean Score: -475.6657\tScore: -542.1893\n",
      "Epsiode: 39.0\tMean Score: -472.4299\tScore: -249.1558\n",
      "Epsiode: 40.0\tMean Score: -467.5433\tScore: -125.4830\n",
      "Epsiode: 41.0\tMean Score: -464.4656\tScore: -245.9516\n",
      "Epsiode: 42.0\tMean Score: -459.8255\tScore: -125.7401\n",
      "Epsiode: 43.0\tMean Score: -456.8663\tScore: -240.8430\n",
      "Epsiode: 44.0\tMean Score: -452.5030\tScore: -129.6171\n",
      "Epsiode: 45.0\tMean Score: -449.7682\tScore: -244.6564\n",
      "Epsiode: 46.0\tMean Score: -447.1159\tScore: -245.5465\n",
      "Epsiode: 47.0\tMean Score: -446.0386\tScore: -363.0837\n",
      "Epsiode: 48.0\tMean Score: -448.7659\tScore: -661.4984\n",
      "Epsiode: 49.0\tMean Score: -444.6982\tScore: -123.3462\n",
      "Epsiode: 50.0\tMean Score: -439.2390\tScore: -2.5046\n",
      "Epsiode: 51.0\tMean Score: -441.4165\tScore: -617.7945\n",
      "Epsiode: 52.0\tMean Score: -438.9959\tScore: -240.5072\n",
      "Epsiode: 53.0\tMean Score: -435.2517\tScore: -124.4795\n",
      "Epsiode: 54.0\tMean Score: -431.6029\tScore: -125.1018\n",
      "Epsiode: 55.0\tMean Score: -428.0540\tScore: -126.4027\n",
      "Epsiode: 56.0\tMean Score: -428.9643\tScore: -507.2493\n",
      "Epsiode: 57.0\tMean Score: -425.5355\tScore: -127.2275\n",
      "Epsiode: 58.0\tMean Score: -427.4925\tScore: -599.7073\n",
      "Epsiode: 59.0\tMean Score: -422.8039\tScore: -5.5185\n",
      "Epsiode: 60.0\tMean Score: -419.5685\tScore: -128.3825\n",
      "Epsiode: 61.0\tMean Score: -421.8992\tScore: -633.9917\n",
      "Epsiode: 62.0\tMean Score: -420.0089\tScore: -246.1057\n",
      "Epsiode: 63.0\tMean Score: -416.8787\tScore: -125.7710\n",
      "Epsiode: 64.0\tMean Score: -412.5468\tScore: -5.3492\n",
      "Epsiode: 65.0\tMean Score: -413.5045\tScore: -504.4816\n",
      "Epsiode: 66.0\tMean Score: -412.9964\tScore: -364.2184\n",
      "Epsiode: 67.0\tMean Score: -410.0863\tScore: -127.8107\n",
      "Epsiode: 68.0\tMean Score: -407.2541\tScore: -129.7003\n",
      "Epsiode: 69.0\tMean Score: -405.6067\tScore: -242.5098\n",
      "Epsiode: 70.0\tMean Score: -396.2596\tScore: -242.1201\n",
      "Epsiode: 71.0\tMean Score: -385.5539\tScore: -256.3458\n",
      "Epsiode: 72.0\tMean Score: -373.0568\tScore: -129.4143\n",
      "Epsiode: 73.0\tMean Score: -362.1032\tScore: -236.0339\n",
      "Epsiode: 74.0\tMean Score: -350.0507\tScore: -129.3366\n",
      "Epsiode: 75.0\tMean Score: -333.8568\tScore: -4.0505\n",
      "Epsiode: 76.0\tMean Score: -324.0033\tScore: -244.7667\n",
      "Epsiode: 77.0\tMean Score: -315.1539\tScore: -128.1968\n",
      "Epsiode: 78.0\tMean Score: -311.1927\tScore: -592.3924\n",
      "Epsiode: 79.0\tMean Score: -306.0907\tScore: -369.1757\n",
      "Epsiode: 80.0\tMean Score: -303.3714\tScore: -598.5060\n",
      "Epsiode: 81.0\tMean Score: -293.4660\tScore: -4.7970\n",
      "Epsiode: 82.0\tMean Score: -289.1900\tScore: -473.4311\n",
      "Epsiode: 83.0\tMean Score: -281.7159\tScore: -123.8029\n",
      "Epsiode: 84.0\tMean Score: -277.4389\tScore: -243.5433\n",
      "Epsiode: 85.0\tMean Score: -270.7714\tScore: -128.6478\n",
      "Epsiode: 86.0\tMean Score: -268.3166\tScore: -257.7344\n",
      "Epsiode: 87.0\tMean Score: -268.1494\tScore: -362.0844\n",
      "Epsiode: 88.0\tMean Score: -261.8622\tScore: -131.2454\n",
      "Epsiode: 89.0\tMean Score: -260.6083\tScore: -250.4328\n",
      "Epsiode: 90.0\tMean Score: -261.7766\tScore: -243.1080\n",
      "Epsiode: 91.0\tMean Score: -262.8685\tScore: -360.2659\n",
      "Epsiode: 92.0\tMean Score: -260.4329\tScore: -123.8615\n",
      "Epsiode: 93.0\tMean Score: -258.0261\tScore: -130.3986\n",
      "Epsiode: 94.0\tMean Score: -255.7105\tScore: -128.2167\n",
      "Epsiode: 95.0\tMean Score: -258.2862\tScore: -617.3745\n",
      "Epsiode: 96.0\tMean Score: -253.9407\tScore: -129.4822\n",
      "Epsiode: 97.0\tMean Score: -253.8773\tScore: -246.3550\n",
      "Epsiode: 98.0\tMean Score: -255.0669\tScore: -247.1996\n",
      "Epsiode: 99.0\tMean Score: -253.8251\tScore: -4.6589\n",
      "Epsiode: 100.0\tMean Score: -256.1865\tScore: -364.6418\n",
      "Epsiode: 101.0\tMean Score: -254.9715\tScore: -5.7465\n",
      "Epsiode: 102.0\tMean Score: -251.3770\tScore: -126.5842\n",
      "Epsiode: 103.0\tMean Score: -251.4405\tScore: -131.1039\n",
      "Epsiode: 104.0\tMean Score: -252.7197\tScore: -375.8356\n",
      "Epsiode: 105.0\tMean Score: -252.6550\tScore: -245.6343\n",
      "Epsiode: 106.0\tMean Score: -255.0389\tScore: -364.4223\n",
      "Epsiode: 107.0\tMean Score: -251.1314\tScore: -128.5838\n",
      "Epsiode: 108.0\tMean Score: -252.4107\tScore: -130.9783\n",
      "Epsiode: 109.0\tMean Score: -252.4254\tScore: -130.4236\n",
      "Epsiode: 110.0\tMean Score: -253.6096\tScore: -241.2123\n",
      "Epsiode: 111.0\tMean Score: -253.6069\tScore: -126.2731\n",
      "Epsiode: 112.0\tMean Score: -253.6019\tScore: -363.7023\n",
      "Epsiode: 113.0\tMean Score: -254.8261\tScore: -126.4472\n",
      "Epsiode: 114.0\tMean Score: -253.7330\tScore: -126.5656\n",
      "Epsiode: 115.0\tMean Score: -257.2511\tScore: -479.8168\n",
      "Epsiode: 116.0\tMean Score: -259.7544\tScore: -620.4232\n",
      "Epsiode: 117.0\tMean Score: -257.3166\tScore: -125.3942\n",
      "Epsiode: 118.0\tMean Score: -256.2439\tScore: -130.1333\n",
      "Epsiode: 119.0\tMean Score: -256.2777\tScore: -130.8656\n",
      "Epsiode: 120.0\tMean Score: -255.1397\tScore: -128.5895\n",
      "Epsiode: 121.0\tMean Score: -255.1138\tScore: -126.4017\n",
      "Epsiode: 122.0\tMean Score: -241.4340\tScore: -368.8904\n",
      "Epsiode: 123.0\tMean Score: -243.8046\tScore: -489.0995\n",
      "Epsiode: 124.0\tMean Score: -244.9570\tScore: -354.3416\n",
      "Epsiode: 125.0\tMean Score: -246.2025\tScore: -247.1680\n",
      "Epsiode: 126.0\tMean Score: -243.8652\tScore: -125.8197\n",
      "Epsiode: 127.0\tMean Score: -242.8545\tScore: -488.9589\n",
      "Epsiode: 128.0\tMean Score: -241.6886\tScore: -356.0520\n",
      "Epsiode: 129.0\tMean Score: -239.3596\tScore: -131.4969\n",
      "Epsiode: 130.0\tMean Score: -241.7288\tScore: -240.2018\n",
      "Epsiode: 131.0\tMean Score: -243.0078\tScore: -130.9501\n",
      "Epsiode: 132.0\tMean Score: -244.2691\tScore: -250.6569\n",
      "Epsiode: 133.0\tMean Score: -243.0770\tScore: -129.4319\n",
      "Epsiode: 134.0\tMean Score: -244.3312\tScore: -246.8609\n",
      "Epsiode: 135.0\tMean Score: -243.1433\tScore: -125.0361\n",
      "Epsiode: 136.0\tMean Score: -244.4176\tScore: -362.9898\n",
      "Epsiode: 137.0\tMean Score: -243.2140\tScore: -124.7636\n",
      "Epsiode: 138.0\tMean Score: -240.2104\tScore: -241.8249\n",
      "Epsiode: 139.0\tMean Score: -239.0012\tScore: -128.2433\n",
      "Epsiode: 140.0\tMean Score: -239.0498\tScore: -130.3380\n",
      "Epsiode: 141.0\tMean Score: -239.0435\tScore: -245.3268\n",
      "Epsiode: 142.0\tMean Score: -240.2106\tScore: -242.4457\n",
      "Epsiode: 143.0\tMean Score: -239.0387\tScore: -123.6553\n",
      "Epsiode: 144.0\tMean Score: -241.2659\tScore: -352.3312\n",
      "Epsiode: 145.0\tMean Score: -244.9973\tScore: -617.8022\n",
      "Epsiode: 146.0\tMean Score: -247.6277\tScore: -508.5796\n",
      "Epsiode: 147.0\tMean Score: -247.6012\tScore: -360.4349\n",
      "Epsiode: 148.0\tMean Score: -242.2395\tScore: -125.3346\n",
      "Epsiode: 149.0\tMean Score: -242.2763\tScore: -127.0205\n",
      "Epsiode: 150.0\tMean Score: -243.4854\tScore: -123.4209\n",
      "Epsiode: 151.0\tMean Score: -239.7416\tScore: -243.4080\n",
      "Epsiode: 152.0\tMean Score: -238.5761\tScore: -123.9609\n",
      "Epsiode: 153.0\tMean Score: -239.7617\tScore: -243.0425\n",
      "Epsiode: 154.0\tMean Score: -239.7387\tScore: -122.7939\n"
     ]
    },
    {
     "name": "stdout",
     "output_type": "stream",
     "text": [
      "Epsiode: 155.0\tMean Score: -238.4791\tScore: -0.4490\n",
      "Epsiode: 156.0\tMean Score: -238.3586\tScore: -495.2005\n",
      "Epsiode: 157.0\tMean Score: -238.3552\tScore: -126.8823\n",
      "Epsiode: 158.0\tMean Score: -237.4138\tScore: -505.5656\n",
      "Epsiode: 159.0\tMean Score: -238.6164\tScore: -125.7797\n",
      "Epsiode: 160.0\tMean Score: -239.7440\tScore: -241.1408\n",
      "Epsiode: 161.0\tMean Score: -236.9993\tScore: -359.5291\n",
      "Epsiode: 162.0\tMean Score: -235.7898\tScore: -125.1525\n",
      "Epsiode: 163.0\tMean Score: -236.9548\tScore: -242.2741\n",
      "Epsiode: 164.0\tMean Score: -238.1571\tScore: -125.5764\n",
      "Epsiode: 165.0\tMean Score: -235.5113\tScore: -239.9002\n",
      "Epsiode: 166.0\tMean Score: -236.5448\tScore: -467.5660\n",
      "Epsiode: 167.0\tMean Score: -236.4854\tScore: -121.8779\n",
      "Epsiode: 168.0\tMean Score: -236.4390\tScore: -125.0571\n",
      "Epsiode: 169.0\tMean Score: -235.2332\tScore: -121.9280\n",
      "Epsiode: 170.0\tMean Score: -234.0618\tScore: -124.9833\n",
      "Epsiode: 171.0\tMean Score: -232.7083\tScore: -120.9890\n",
      "Epsiode: 172.0\tMean Score: -233.7395\tScore: -232.5367\n",
      "Epsiode: 173.0\tMean Score: -238.5364\tScore: -715.7245\n",
      "Epsiode: 174.0\tMean Score: -242.9530\tScore: -570.9957\n",
      "Epsiode: 175.0\tMean Score: -244.1448\tScore: -123.2331\n",
      "Epsiode: 176.0\tMean Score: -245.3228\tScore: -362.5661\n",
      "Epsiode: 177.0\tMean Score: -245.2906\tScore: -124.9821\n",
      "Epsiode: 178.0\tMean Score: -241.7908\tScore: -242.4115\n",
      "Epsiode: 179.0\tMean Score: -242.7477\tScore: -464.8656\n",
      "Epsiode: 180.0\tMean Score: -240.3316\tScore: -356.8897\n",
      "Epsiode: 181.0\tMean Score: -241.5406\tScore: -125.6975\n",
      "Epsiode: 182.0\tMean Score: -242.3412\tScore: -553.4981\n",
      "Epsiode: 183.0\tMean Score: -244.6868\tScore: -358.3583\n",
      "Epsiode: 184.0\tMean Score: -244.6561\tScore: -240.4750\n",
      "Epsiode: 185.0\tMean Score: -244.6067\tScore: -123.7073\n",
      "Epsiode: 186.0\tMean Score: -243.2914\tScore: -126.1983\n",
      "Epsiode: 187.0\tMean Score: -242.2084\tScore: -253.7887\n",
      "Epsiode: 188.0\tMean Score: -243.3988\tScore: -250.2888\n",
      "Epsiode: 189.0\tMean Score: -244.4049\tScore: -351.0441\n",
      "Epsiode: 190.0\tMean Score: -245.5316\tScore: -355.7775\n",
      "Epsiode: 191.0\tMean Score: -245.5725\tScore: -364.3556\n",
      "Epsiode: 192.0\tMean Score: -246.7530\tScore: -241.9045\n",
      "Epsiode: 193.0\tMean Score: -247.7871\tScore: -233.8166\n",
      "Epsiode: 194.0\tMean Score: -247.7727\tScore: -126.7723\n",
      "Epsiode: 195.0\tMean Score: -242.8218\tScore: -122.2839\n",
      "Epsiode: 196.0\tMean Score: -241.5288\tScore: -0.1871\n",
      "Epsiode: 197.0\tMean Score: -244.1974\tScore: -513.2090\n",
      "Epsiode: 198.0\tMean Score: -246.5721\tScore: -484.6673\n",
      "Epsiode: 199.0\tMean Score: -250.1116\tScore: -358.6099\n",
      "Epsiode: 200.0\tMean Score: -250.0374\tScore: -357.2275\n",
      "Epsiode: 201.0\tMean Score: -252.3550\tScore: -237.5050\n",
      "Epsiode: 202.0\tMean Score: -253.5173\tScore: -242.8107\n",
      "Epsiode: 203.0\tMean Score: -258.1372\tScore: -593.0918\n",
      "Epsiode: 204.0\tMean Score: -255.6382\tScore: -125.9401\n",
      "Epsiode: 205.0\tMean Score: -254.3585\tScore: -117.6601\n",
      "Epsiode: 206.0\tMean Score: -251.9856\tScore: -127.1348\n",
      "Epsiode: 207.0\tMean Score: -255.6632\tScore: -496.3477\n",
      "Epsiode: 208.0\tMean Score: -255.6080\tScore: -125.4565\n",
      "Epsiode: 209.0\tMean Score: -255.5436\tScore: -123.9811\n",
      "Epsiode: 210.0\tMean Score: -255.5274\tScore: -239.5931\n",
      "Epsiode: 211.0\tMean Score: -257.8588\tScore: -359.4157\n",
      "Epsiode: 212.0\tMean Score: -257.8466\tScore: -362.4819\n",
      "Epsiode: 213.0\tMean Score: -257.7783\tScore: -119.6200\n",
      "Epsiode: 214.0\tMean Score: -256.5155\tScore: -0.2851\n",
      "Epsiode: 215.0\tMean Score: -252.9862\tScore: -126.8829\n",
      "Epsiode: 216.0\tMean Score: -251.7103\tScore: -492.8315\n",
      "Epsiode: 217.0\tMean Score: -252.8632\tScore: -240.6831\n",
      "Epsiode: 218.0\tMean Score: -255.1558\tScore: -359.3927\n",
      "Epsiode: 219.0\tMean Score: -256.2566\tScore: -240.9501\n",
      "Epsiode: 220.0\tMean Score: -259.9306\tScore: -495.9849\n",
      "Epsiode: 221.0\tMean Score: -259.9276\tScore: -126.1027\n",
      "Epsiode: 222.0\tMean Score: -257.4806\tScore: -124.1969\n",
      "Epsiode: 223.0\tMean Score: -258.6853\tScore: -609.5710\n",
      "Epsiode: 224.0\tMean Score: -256.3776\tScore: -123.5634\n",
      "Epsiode: 225.0\tMean Score: -255.1292\tScore: -122.3281\n",
      "Epsiode: 226.0\tMean Score: -253.8766\tScore: -0.5630\n",
      "Epsiode: 227.0\tMean Score: -251.3978\tScore: -241.0780\n",
      "Epsiode: 228.0\tMean Score: -250.2255\tScore: -238.8223\n",
      "Epsiode: 229.0\tMean Score: -250.1564\tScore: -124.5924\n",
      "Epsiode: 230.0\tMean Score: -249.0166\tScore: -126.2208\n",
      "Epsiode: 231.0\tMean Score: -251.2645\tScore: -355.7402\n",
      "Epsiode: 232.0\tMean Score: -250.0144\tScore: -125.6387\n",
      "Epsiode: 233.0\tMean Score: -253.4347\tScore: -471.4671\n",
      "Epsiode: 234.0\tMean Score: -253.3724\tScore: -240.6326\n",
      "Epsiode: 235.0\tMean Score: -256.9540\tScore: -483.1901\n",
      "Epsiode: 236.0\tMean Score: -254.5180\tScore: -119.3967\n",
      "Epsiode: 237.0\tMean Score: -255.7436\tScore: -247.3227\n",
      "Epsiode: 238.0\tMean Score: -254.5274\tScore: -120.2010\n",
      "Epsiode: 239.0\tMean Score: -255.6825\tScore: -243.7506\n",
      "Epsiode: 240.0\tMean Score: -254.3813\tScore: -0.2234\n",
      "Epsiode: 241.0\tMean Score: -253.1467\tScore: -121.8631\n",
      "Epsiode: 242.0\tMean Score: -251.9186\tScore: -119.6374\n",
      "Epsiode: 243.0\tMean Score: -253.0664\tScore: -238.4338\n",
      "Epsiode: 244.0\tMean Score: -250.7983\tScore: -125.5215\n",
      "Epsiode: 245.0\tMean Score: -247.0016\tScore: -238.1314\n",
      "Epsiode: 246.0\tMean Score: -245.5203\tScore: -360.4482\n",
      "Epsiode: 247.0\tMean Score: -243.1489\tScore: -123.2979\n",
      "Epsiode: 248.0\tMean Score: -243.1651\tScore: -126.9545\n",
      "Epsiode: 249.0\tMean Score: -246.6912\tScore: -479.6305\n",
      "Epsiode: 250.0\tMean Score: -246.7342\tScore: -127.7270\n",
      "Epsiode: 251.0\tMean Score: -250.5312\tScore: -623.1037\n",
      "Epsiode: 252.0\tMean Score: -250.5748\tScore: -128.3235\n",
      "Epsiode: 253.0\tMean Score: -248.1730\tScore: -2.8620\n",
      "Epsiode: 254.0\tMean Score: -246.9667\tScore: -2.1564\n",
      "Epsiode: 255.0\tMean Score: -248.2020\tScore: -123.9828\n",
      "Epsiode: 256.0\tMean Score: -249.2470\tScore: -599.7019\n",
      "Epsiode: 257.0\tMean Score: -250.4029\tScore: -242.4676\n",
      "Epsiode: 258.0\tMean Score: -246.5388\tScore: -119.1591\n",
      "Epsiode: 259.0\tMean Score: -253.2010\tScore: -791.9996\n",
      "Epsiode: 260.0\tMean Score: -254.4302\tScore: -364.0581\n",
      "Epsiode: 261.0\tMean Score: -252.0773\tScore: -124.2442\n",
      "Epsiode: 262.0\tMean Score: -252.0608\tScore: -123.5013\n",
      "Epsiode: 263.0\tMean Score: -250.8145\tScore: -117.6440\n",
      "Epsiode: 264.0\tMean Score: -253.2529\tScore: -369.4134\n",
      "Epsiode: 265.0\tMean Score: -257.3236\tScore: -646.9776\n",
      "Epsiode: 266.0\tMean Score: -255.0848\tScore: -243.6863\n",
      "Epsiode: 267.0\tMean Score: -255.1141\tScore: -124.8010\n",
      "Epsiode: 268.0\tMean Score: -255.1277\tScore: -126.4189\n",
      "Epsiode: 269.0\tMean Score: -257.5564\tScore: -364.8011\n",
      "Epsiode: 270.0\tMean Score: -258.7314\tScore: -242.4798\n",
      "Epsiode: 271.0\tMean Score: -261.0753\tScore: -355.3826\n",
      "Epsiode: 272.0\tMean Score: -260.0009\tScore: -125.0981\n",
      "Epsiode: 273.0\tMean Score: -252.8529\tScore: -0.9236\n",
      "Epsiode: 274.0\tMean Score: -247.1499\tScore: -0.6894\n",
      "Epsiode: 275.0\tMean Score: -252.0487\tScore: -613.1209\n",
      "Epsiode: 276.0\tMean Score: -251.9392\tScore: -351.6159\n",
      "Epsiode: 277.0\tMean Score: -254.2045\tScore: -351.5075\n",
      "Epsiode: 278.0\tMean Score: -253.0445\tScore: -126.4119\n",
      "Epsiode: 279.0\tMean Score: -249.6544\tScore: -125.8592\n",
      "Epsiode: 280.0\tMean Score: -246.0865\tScore: -0.0925\n",
      "Epsiode: 281.0\tMean Score: -249.9010\tScore: -507.1550\n",
      "Epsiode: 282.0\tMean Score: -247.9403\tScore: -357.4201\n",
      "Epsiode: 283.0\tMean Score: -245.6324\tScore: -127.5697\n",
      "Epsiode: 284.0\tMean Score: -246.7625\tScore: -353.4848\n",
      "Epsiode: 285.0\tMean Score: -246.7707\tScore: -124.5318\n",
      "Epsiode: 286.0\tMean Score: -245.5216\tScore: -1.2865\n",
      "Epsiode: 287.0\tMean Score: -246.5500\tScore: -356.6318\n",
      "Epsiode: 288.0\tMean Score: -245.3238\tScore: -127.6696\n",
      "Epsiode: 289.0\tMean Score: -245.3836\tScore: -357.0178\n",
      "Epsiode: 290.0\tMean Score: -243.0558\tScore: -122.9988\n",
      "Epsiode: 291.0\tMean Score: -240.6748\tScore: -126.2606\n",
      "Epsiode: 292.0\tMean Score: -241.9585\tScore: -370.2738\n",
      "Epsiode: 293.0\tMean Score: -242.0721\tScore: -245.1700\n",
      "Epsiode: 294.0\tMean Score: -247.2498\tScore: -644.5411\n",
      "Epsiode: 295.0\tMean Score: -248.4631\tScore: -243.6206\n",
      "Epsiode: 296.0\tMean Score: -249.6839\tScore: -122.2615\n",
      "Epsiode: 297.0\tMean Score: -249.3591\tScore: -480.7288\n",
      "Epsiode: 298.0\tMean Score: -244.5159\tScore: -0.3526\n",
      "Epsiode: 299.0\tMean Score: -247.0214\tScore: -609.1605\n"
     ]
    }
   ],
   "source": [
    "for episode in range(max_e):\n",
    "    state = env.reset()\n",
    "    score = 0\n",
    "    for t in range(max_t):\n",
    "        action = actor.act(state, add_noise=False)\n",
    "        next_state, reward, done, _ = env.step(action)\n",
    "        mem.push(state, action, reward, next_state, done)\n",
    "        score += reward\n",
    "\n",
    "\n",
    "        \n",
    "        if len(mem) > batch_size and t % learn_every == 0:\n",
    "            learn()\n",
    "\n",
    "        if done:\n",
    "            break;\n",
    "        \n",
    "        state = next_state\n",
    "    \n",
    "    score_log.append(score)\n",
    "    score_window.append(score)\n",
    "    \n",
    "#     print(\"\\rEpsiode: {:.1f}\\tWindow Score: {:.4f}\\tScore: {:.4f}\".format(episode, np.mean(score_window), score), end=\"\")    \n",
    "#     if (episode % 100 == 0):\n",
    "#         print(\"\\rEpsiode: {:.1f}\\tWindow Score: {:.4f}\\tScore: {:.4f}\".format(episode, np.mean(score_window), score))\n",
    "    print(\"\\rEpsiode: {:.1f}\\tMean Score: {:.4f}\\tScore: {:.4f}\".format(episode, np.mean(score_window), score))\n",
    "\n",
    "\n"
   ]
  },
  {
   "cell_type": "code",
   "execution_count": 22,
   "metadata": {},
   "outputs": [
    {
     "data": {
      "text/plain": [
       "[<matplotlib.lines.Line2D at 0x1242096d8>]"
      ]
     },
     "execution_count": 22,
     "metadata": {},
     "output_type": "execute_result"
    },
    {
     "data": {
      "image/png": "[encoded data removed]",
      "text/plain": [
       "<Figure size 432x288 with 1 Axes>"
      ]
     },
     "metadata": {
      "needs_background": "light"
     },
     "output_type": "display_data"
    }
   ],
   "source": [
    "plt.plot(score_log)"
   ]
  },
  {
   "cell_type": "markdown",
   "metadata": {},
   "source": [
    "## Watch"
   ]
  },
  {
   "cell_type": "code",
   "execution_count": 27,
   "metadata": {},
   "outputs": [
    {
     "name": "stdout",
     "output_type": "stream",
     "text": [
      "\n",
      "-1522.3271243317822\n",
      "\n",
      "-1186.9506447086071\n",
      "\n",
      "-1173.126308050237\n"
     ]
    }
   ],
   "source": [
    "for episode in range(3):\n",
    "    state = env.reset()\n",
    "    score = 0\n",
    "    input()\n",
    "\n",
    "    for t in range(max_t):\n",
    "        action = actor.act(state, add_noise=False)\n",
    "        next_state, reward, done, _ = env.step(action)\n",
    "        env.render()\n",
    "        \n",
    "        score += reward\n",
    "        \n",
    "        if done:\n",
    "            print(score)\n",
    "            break;\n",
    "\n",
    "env.close()"
   ]
  },
  {
   "cell_type": "code",
   "execution_count": 24,
   "metadata": {},
   "outputs": [],
   "source": []
  },
  {
   "cell_type": "code",
   "execution_count": null,
   "metadata": {},
   "outputs": [],
   "source": []
  }
 ],
 "metadata": {
  "kernelspec": {
   "display_name": "Python 3",
   "language": "python",
   "name": "python3"
  },
  "language_info": {
   "codemirror_mode": {
    "name": "ipython",
    "version": 3
   },
   "file_extension": ".py",
   "mimetype": "text/x-python",
   "name": "python",
   "nbconvert_exporter": "python",
   "pygments_lexer": "ipython3",
   "version": "3.6.8"
  }
 },
 "nbformat": 4,
 "nbformat_minor": 2
}
