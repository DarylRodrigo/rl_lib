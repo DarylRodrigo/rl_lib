{
 "cells": [
  {
   "cell_type": "markdown",
   "metadata": {},
   "source": [
    "# Deep Deterministic Policy Gradient\n",
    "\n",
    "https://arxiv.org/pdf/1509.02971.pdf"
   ]
  },
  {
   "cell_type": "code",
   "execution_count": 1,
   "metadata": {},
   "outputs": [],
   "source": [
    "%load_ext autoreload\n",
    "%autoreload 2"
   ]
  },
  {
   "cell_type": "code",
   "execution_count": 2,
   "metadata": {},
   "outputs": [],
   "source": [
    "from collections import deque, namedtuple\n",
    "from matplotlib import pyplot as plt\n",
    "import numpy as np\n",
    "import random\n",
    "import gym\n",
    "import pdb\n",
    "\n",
    "from src.utils.OUNoise import OUNoise \n",
    "import torch\n",
    "import torch.nn as nn\n",
    "import torch.optim as optim\n",
    "import torch.nn.functional as F\n",
    "from torch.distributions import Categorical"
   ]
  },
  {
   "cell_type": "code",
   "execution_count": 3,
   "metadata": {},
   "outputs": [],
   "source": [
    "device = torch.device(\"cuda:0\" if torch.cuda.is_available() else \"cpu\")"
   ]
  },
  {
   "cell_type": "markdown",
   "metadata": {},
   "source": [
    "## Define Networks"
   ]
  },
  {
   "cell_type": "code",
   "execution_count": 4,
   "metadata": {},
   "outputs": [],
   "source": [
    "class Actor(nn.Module):\n",
    "    def __init__(self, state_space, action_space):\n",
    "        super(Actor, self).__init__()\n",
    "        \n",
    "        self.noise = OUNoise(action_space)\n",
    "        \n",
    "        self.head = nn.Sequential(\n",
    "            nn.Linear(state_space, 512),\n",
    "            nn.ReLU(),\n",
    "            nn.Linear(512, 128),\n",
    "            nn.ReLU(),\n",
    "            nn.Linear(128, action_space),\n",
    "            nn.Tanh()\n",
    "        )\n",
    "    \n",
    "    def forward(self, x):\n",
    "        return self.head(x)\n",
    "    \n",
    "    def act(self, state, add_noise=True):\n",
    "        \n",
    "        state = torch.from_numpy(state).float().to(device)\n",
    "        \n",
    "        action = self.forward(state).cpu().data.numpy()\n",
    "        if add_noise:\n",
    "            action += self.noise.noise()\n",
    "\n",
    "        return np.clip(action, -1, 1)\n"
   ]
  },
  {
   "cell_type": "code",
   "execution_count": 5,
   "metadata": {},
   "outputs": [],
   "source": [
    "class Critic(nn.Module):\n",
    "    def __init__(self, state_space, action_space):\n",
    "        super(Critic, self).__init__()\n",
    "        \n",
    "        self.head = nn.Sequential(\n",
    "            nn.Linear(state_space, 1024),\n",
    "            nn.ReLU(),\n",
    "        )\n",
    "        \n",
    "        self.body = nn.Sequential(\n",
    "            nn.Linear(1024 + action_space, 512),\n",
    "            nn.ReLU(),\n",
    "            nn.Linear(512, 300),\n",
    "            nn.ReLU(),\n",
    "            nn.Linear(300, 1),\n",
    "        )\n",
    "    \n",
    "    def forward(self, x, actions):\n",
    "        x = self.head(x)\n",
    "        x = self.body(torch.cat((x, actions), dim=1))\n",
    "        return x"
   ]
  },
  {
   "cell_type": "markdown",
   "metadata": {},
   "source": [
    "## Create environment with Agents"
   ]
  },
  {
   "cell_type": "markdown",
   "metadata": {},
   "source": [
    "https://github.com/openai/gym/wiki/Pendulum-v0"
   ]
  },
  {
   "cell_type": "code",
   "execution_count": 6,
   "metadata": {},
   "outputs": [
    {
     "name": "stdout",
     "output_type": "stream",
     "text": [
      "State space: 24\n",
      "Action space: 4\n"
     ]
    },
    {
     "name": "stderr",
     "output_type": "stream",
     "text": [
      "/home/daryl/.local/lib/python3.8/site-packages/gym/logger.py:30: UserWarning: \u001b[33mWARN: Box bound precision lowered by casting to float32\u001b[0m\n",
      "  warnings.warn(colorize('%s: %s'%('WARN', msg % args), 'yellow'))\n"
     ]
    }
   ],
   "source": [
    "import gym\n",
    "\n",
    "# env_name = \"Pendulum-v0\"\n",
    "env_name = \"BipedalWalker-v3\"\n",
    "env = gym.make(env_name)\n",
    "\n",
    "state_space = env.observation_space.shape[0]\n",
    "action_space = env.action_space.shape[0]\n",
    "\n",
    "print(\"State space: {}\".format(state_space))\n",
    "print(\"Action space: {}\".format(action_space))"
   ]
  },
  {
   "cell_type": "code",
   "execution_count": 7,
   "metadata": {},
   "outputs": [],
   "source": [
    "actor = Actor(state_space, action_space).to(device)\n",
    "critic = Critic(state_space, action_space).to(device)\n",
    "\n",
    "actor_target = Actor(state_space, action_space).to(device)\n",
    "critic_target = Critic(state_space, action_space).to(device)"
   ]
  },
  {
   "cell_type": "markdown",
   "metadata": {},
   "source": [
    "### Replay Buffer"
   ]
  },
  {
   "cell_type": "code",
   "execution_count": 8,
   "metadata": {},
   "outputs": [],
   "source": [
    "class ReplayBuffer:\n",
    "    def __init__(self, buffer_size):\n",
    "        self.buffer = deque(maxlen=int(buffer_size))\n",
    "        self.Experience = namedtuple(\"experience\", [\"state\", \"action\", \"reward\", \"next_state\", \"done\"])\n",
    "    \n",
    "    def push(self, state, action, reward, next_state, done):\n",
    "        e = self.Experience(state, action, np.array([reward]), next_state ,done)\n",
    "        self.buffer.append(e)\n",
    "    \n",
    "    def sample(self, batch_size):\n",
    "        samples = random.sample(self.buffer, batch_size)\n",
    "        \n",
    "        states = [ exp.state for exp in samples]\n",
    "        actions = [ exp.action for exp in samples]\n",
    "        rewards = [ exp.reward for exp in samples]\n",
    "        next_states = [ exp.next_state for exp in samples]\n",
    "        dones = [ exp.done for exp in samples]\n",
    "        \n",
    "        return (states, actions, rewards, next_states, dones)\n",
    "    \n",
    "    def __len__(self):\n",
    "        return len(self.buffer)"
   ]
  },
  {
   "cell_type": "markdown",
   "metadata": {},
   "source": [
    "## Computing loss and updating Networks\n",
    "\n",
    "This code has broken up the update for the actor and critic seperately so it's easy to see what's going on."
   ]
  },
  {
   "cell_type": "code",
   "execution_count": 9,
   "metadata": {},
   "outputs": [],
   "source": [
    "actor_optimiser = optim.Adam(actor.parameters(), lr=1e-3)\n",
    "critic_optimiser = optim.Adam(critic.parameters(), lr=1e-3)"
   ]
  },
  {
   "cell_type": "code",
   "execution_count": 10,
   "metadata": {},
   "outputs": [],
   "source": [
    "def learn():\n",
    "\n",
    "    state_batch, action_batch, reward_batch, next_state_batch, masks = mem.sample(batch_size)\n",
    "    \n",
    "    state_batch = torch.FloatTensor(state_batch).to(device)\n",
    "    action_batch = torch.FloatTensor(action_batch).to(device)\n",
    "    reward_batch = torch.FloatTensor(reward_batch).to(device)\n",
    "    next_state_batch = torch.FloatTensor(next_state_batch).to(device)\n",
    "    masks = torch.FloatTensor(masks).to(device)\n",
    "\n",
    "    # Update Critic\n",
    "    update_critic(\n",
    "        states=state_batch,\n",
    "        next_states=next_state_batch,\n",
    "        actions=action_batch,\n",
    "        rewards=reward_batch,\n",
    "        dones=masks\n",
    "    )\n",
    "    \n",
    "    # Update actor\n",
    "    update_actor(states=state_batch)\n",
    "    \n",
    "    # Update target networks\n",
    "    update_target_networks()"
   ]
  },
  {
   "cell_type": "markdown",
   "metadata": {},
   "source": [
    "### Actor Update\n",
    "\n",
    "The **critic** is responsible for calculating the loss from the **actor**. Essentially, we look at the actions that the actor took in the given state, and then work out how good that action was.\n",
    "\n",
    "<img src=\"./img/ddpg/actor_update.png\" alt=\"Drawing\" style=\"height: 50px;\"/>\n",
    "\n",
    "This complicated looking formula is basically saying:\n",
    "\n",
    "> The loss is the average of the estimated Q value from the critic, given the action taken by the actor in a given state.\n",
    "\n"
   ]
  },
  {
   "cell_type": "code",
   "execution_count": 11,
   "metadata": {},
   "outputs": [],
   "source": [
    "def update_actor(states):\n",
    "    actions_pred = actor(states)  \n",
    "    loss = -critic(states, actions_pred).mean()\n",
    "    \n",
    "    actor_optimiser.zero_grad()\n",
    "    loss.backward()\n",
    "    actor_optimiser.step()"
   ]
  },
  {
   "cell_type": "markdown",
   "metadata": {},
   "source": [
    "### Critic Update\n",
    "\n",
    "The critic update looks very similar to that of a DQN. The loss of the critic is **mean squared error** of the **Q value** which we predicted with our current network, and what the actual reward was + the discounted future reward from our target critic network.\n",
    "\n",
    "#### Critic Loss:\n",
    "<img src=\"./img/ddpg/critic_loss.png\" alt=\"Drawing\" style=\"height: 30px;\"/>\n",
    "\n",
    "#### Critic $y_i$:\n",
    "<img src=\"./img/ddpg/critic_yi.png\" alt=\"Drawing\" style=\"height: 35px;\"/>\n",
    "\n",
    "Essentially it is working out:\n",
    "> How right was I in predicting the current state I am in."
   ]
  },
  {
   "cell_type": "code",
   "execution_count": 12,
   "metadata": {},
   "outputs": [],
   "source": [
    "def update_critic(states, next_states, actions, rewards, dones):\n",
    "    next_actions = actor_target.forward(next_states)\n",
    "    \n",
    "    y_i =  rewards + ( gamma * critic_target(next_states, next_actions) * (1-dones ))\n",
    "    expected_Q = critic(states, actions)\n",
    "\n",
    "    loss = F.mse_loss(y_i, expected_Q)\n",
    "    \n",
    "    critic_optimiser.zero_grad()\n",
    "    loss.backward()\n",
    "    critic_optimiser.step()"
   ]
  },
  {
   "cell_type": "markdown",
   "metadata": {},
   "source": [
    "### Soft Weights Updates\n",
    "\n",
    "Because the DDPG network is prone to divergance, as with our DQN, we \"phase in\" the weights from our current network to our target network slowly. This is to give the networks consistant targets during back propogation.\n",
    "\n",
    "<img src=\"./img/ddpg/target_update.png\" alt=\"Drawing\" style=\"height:100px;\"/>"
   ]
  },
  {
   "cell_type": "code",
   "execution_count": 13,
   "metadata": {},
   "outputs": [],
   "source": [
    "def update_target_networks():\n",
    "    for target, local in zip(actor_target.parameters(), actor.parameters()):\n",
    "        target.data.copy_(tau*local.data + (1.0-tau)*target.data)\n",
    "        \n",
    "    for target, local in zip(critic_target.parameters(), critic.parameters()):\n",
    "        target.data.copy_(tau*local.data + (1.0-tau)*target.data)"
   ]
  },
  {
   "cell_type": "markdown",
   "metadata": {},
   "source": [
    "## Runner"
   ]
  },
  {
   "cell_type": "code",
   "execution_count": 17,
   "metadata": {},
   "outputs": [],
   "source": [
    "max_e = 2000\n",
    "max_t = 700\n",
    "buffer_size = 100000\n",
    "batch_size = 32\n",
    "learn_every = 1\n",
    "\n",
    "gamma = 0.99\n",
    "tau = 1e-2"
   ]
  },
  {
   "cell_type": "code",
   "execution_count": 18,
   "metadata": {},
   "outputs": [],
   "source": [
    "mem = ReplayBuffer(buffer_size)\n",
    "\n",
    "score_log = []\n",
    "average_score_log = []\n",
    "score_window = deque(maxlen=100)"
   ]
  },
  {
   "cell_type": "code",
   "execution_count": 19,
   "metadata": {
    "scrolled": true
   },
   "outputs": [
    {
     "name": "stderr",
     "output_type": "stream",
     "text": [
      "<ipython-input-12-36e5e9791986>:7: UserWarning: Using a target size (torch.Size([32, 1])) that is different to the input size (torch.Size([32, 32])). This will likely lead to incorrect results due to broadcasting. Please ensure they have the same size.\n",
      "  loss = F.mse_loss(y_i, expected_Q)\n"
     ]
    },
    {
     "name": "stdout",
     "output_type": "stream",
     "text": [
      "Epsiode: 0.0\tWindow Score: -119.5326\tScore: -119.5326\n",
      "Epsiode: 100.0\tWindow Score: -108.6696\tScore: -103.4488\n",
      "Epsiode: 200.0\tWindow Score: -108.9527\tScore: -134.9309\n",
      "Epsiode: 300.0\tWindow Score: -113.4450\tScore: -127.4593\n",
      "Epsiode: 400.0\tWindow Score: -114.7104\tScore: -102.8233\n",
      "Epsiode: 500.0\tWindow Score: -117.8390\tScore: -108.5431\n",
      "Epsiode: 600.0\tWindow Score: -109.3763\tScore: -105.2513\n",
      "Epsiode: 700.0\tWindow Score: -106.9208\tScore: -78.06558\n",
      "Epsiode: 800.0\tWindow Score: -107.3720\tScore: -106.2750\n",
      "Epsiode: 900.0\tWindow Score: -106.9978\tScore: -117.6274\n",
      "Epsiode: 1000.0\tWindow Score: -96.8444\tScore: -103.0916\n",
      "Epsiode: 1100.0\tWindow Score: -108.8564\tScore: -109.7025\n",
      "Epsiode: 1200.0\tWindow Score: -93.0367\tScore: -77.840706\n",
      "Epsiode: 1300.0\tWindow Score: -110.3972\tScore: -115.3117\n",
      "Epsiode: 1400.0\tWindow Score: -116.6776\tScore: -113.1296\n",
      "Epsiode: 1500.0\tWindow Score: -116.2246\tScore: -118.0413\n",
      "Epsiode: 1600.0\tWindow Score: -117.7150\tScore: -117.8173\n",
      "Epsiode: 1700.0\tWindow Score: -118.4970\tScore: -121.3109\n",
      "Epsiode: 1800.0\tWindow Score: -116.6652\tScore: -119.4528\n",
      "Epsiode: 1900.0\tWindow Score: -121.8632\tScore: -121.9650\n",
      "Epsiode: 1999.0\tWindow Score: -122.4076\tScore: -117.1215"
     ]
    }
   ],
   "source": [
    "for episode in range(max_e):\n",
    "    state = env.reset()\n",
    "    score = 0\n",
    "    for t in range(max_t):\n",
    "        action = actor.act(state, add_noise=False)\n",
    "        next_state, reward, done, _ = env.step(action)\n",
    "        mem.push(state, action, reward, next_state, done)\n",
    "        score += reward\n",
    "\n",
    "\n",
    "        \n",
    "        if len(mem) > batch_size and t % learn_every == 0:\n",
    "            learn()\n",
    "\n",
    "        if done:\n",
    "            break;\n",
    "        \n",
    "        state = next_state\n",
    "    \n",
    "    score_log.append(score)\n",
    "    score_window.append(score)\n",
    "    average_score_log.append(np.mean(score_window))\n",
    "    \n",
    "    print(\"\\rEpsiode: {:.1f}\\tWindow Score: {:.4f}\\tScore: {:.4f}\".format(episode, np.mean(score_window), score), end=\"\")    \n",
    "    if (episode % 100 == 0):\n",
    "        print(\"\\rEpsiode: {:.1f}\\tWindow Score: {:.4f}\\tScore: {:.4f}\".format(episode, np.mean(score_window), score))\n",
    "\n",
    "\n"
   ]
  },
  {
   "cell_type": "code",
   "execution_count": 20,
   "metadata": {},
   "outputs": [
    {
     "data": {
      "text/plain": [
       "[<matplotlib.lines.Line2D at 0x7fbca84f5a30>]"
      ]
     },
     "execution_count": 20,
     "metadata": {},
     "output_type": "execute_result"
    },
    {
     "data": {
      "image/png": "[encoded data removed]",
      "text/plain": [
       "<Figure size 432x288 with 1 Axes>"
      ]
     },
     "metadata": {
      "needs_background": "light"
     },
     "output_type": "display_data"
    }
   ],
   "source": [
    "plt.plot(score_log)\n",
    "plt.plot(average_score_log)"
   ]
  },
  {
   "cell_type": "code",
   "execution_count": 20,
   "metadata": {},
   "outputs": [],
   "source": [
    "torch.save(actor.state_dict(), \"{}_actor_model.pth\".format(env_name))\n",
    "torch.save(critic.state_dict(), \"{}_critic_model.pth\".format(env_name))"
   ]
  },
  {
   "cell_type": "markdown",
   "metadata": {},
   "source": [
    "## Watch"
   ]
  },
  {
   "cell_type": "code",
   "execution_count": null,
   "metadata": {},
   "outputs": [],
   "source": [
    "for episode in range(3):\n",
    "    state = env.reset()\n",
    "    score = 0\n",
    "    input()\n",
    "\n",
    "    for t in range(max_t):\n",
    "        action = actor.act(state, add_noise=False)\n",
    "        next_state, reward, done, _ = env.step(action)\n",
    "        env.render()\n",
    "        \n",
    "        score += reward\n",
    "        \n",
    "        if done:\n",
    "            print(score)\n",
    "            break;\n",
    "\n",
    "env.close()"
   ]
  },
  {
   "cell_type": "code",
   "execution_count": null,
   "metadata": {},
   "outputs": [],
   "source": []
  },
  {
   "cell_type": "code",
   "execution_count": null,
   "metadata": {},
   "outputs": [],
   "source": []
  }
 ],
 "metadata": {
  "kernelspec": {
   "display_name": "Python 3",
   "language": "python",
   "name": "python3"
  },
  "language_info": {
   "codemirror_mode": {
    "name": "ipython",
    "version": 3
   },
   "file_extension": ".py",
   "mimetype": "text/x-python",
   "name": "python",
   "nbconvert_exporter": "python",
   "pygments_lexer": "ipython3",
   "version": "3.8.5"
  }
 },
 "nbformat": 4,
 "nbformat_minor": 2
}
