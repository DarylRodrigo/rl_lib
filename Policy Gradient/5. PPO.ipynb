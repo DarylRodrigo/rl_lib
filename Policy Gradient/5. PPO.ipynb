{
 "cells": [
  {
   "cell_type": "code",
   "execution_count": 14,
   "metadata": {},
   "outputs": [
    {
     "name": "stdout",
     "output_type": "stream",
     "text": [
      "The autoreload extension is already loaded. To reload it, use:\n",
      "  %reload_ext autoreload\n"
     ]
    }
   ],
   "source": [
    "%load_ext autoreload\n",
    "%autoreload 2"
   ]
  },
  {
   "cell_type": "code",
   "execution_count": 15,
   "metadata": {},
   "outputs": [],
   "source": [
    "import gym\n",
    "import random\n",
    "import torch\n",
    "import numpy as np\n",
    "from collections import deque\n",
    "import matplotlib.pyplot as plt\n",
    "from src.PPO.PPO import PPO\n",
    "\n",
    "# env = gym.make('CartPole-v1')\n",
    "env = gym.make('LunarLander-v2')\n",
    "env.seed(1234)\n",
    "\n",
    "state_size = env.observation_space.shape[0]\n",
    "action_size =env.action_space.n\n",
    "\n",
    "# PPO Settings\n",
    "update_every = 2000 # This is the roll out length\n",
    "num_learn = 20\n",
    "win_condition = 200\n",
    "\n",
    "# Agent settings\n",
    "hidden_size=512\n",
    "epsilon=0.2\n",
    "entropy_beta=0.01\n",
    "gamma=0.99\n",
    "lr=0.002\n",
    "\n",
    "agent = PPO(state_size, action_size, hidden_size=hidden_size, epsilon=epsilon, entropy_beta=entropy_beta, gamma=gamma, lr=lr)"
   ]
  },
  {
   "cell_type": "code",
   "execution_count": 16,
   "metadata": {},
   "outputs": [],
   "source": [
    "def train(n_episodes=2000, max_t=700):\n",
    "  steps = 0\n",
    "  scores_deque = deque(maxlen=100)\n",
    "  scores = []\n",
    "  average_scores = []\n",
    "  max_score = -np.Inf\n",
    "\n",
    "#   agent = PPO(state_size, action_size, hidden_size=hidden_size, epsilon=epsilon, entropy_beta=entropy_beta, gamma=gamma, lr=lr)\n",
    "\n",
    "  for episode in range(1, n_episodes+1):\n",
    "    state = env.reset()\n",
    "    score = 0\n",
    "    \n",
    "    for t in range(max_t):\n",
    "      steps += 1\n",
    "\n",
    "      action, log_prob = agent.act(torch.FloatTensor(state))\n",
    "      next_state, reward, done, _ = env.step(action.item())\n",
    "\n",
    "      agent.mem.add(torch.FloatTensor(state), action, reward, log_prob, done)\n",
    "\n",
    "      # Update \n",
    "      state = next_state\n",
    "      score += reward\n",
    "\n",
    "      if steps >= update_every:\n",
    "        agent.learn(num_learn)\n",
    "        agent.mem.clear()\n",
    "        steps = 0\n",
    "\n",
    "      if done:\n",
    "        break\n",
    "    \n",
    "    # Book Keeping\n",
    "    scores_deque.append(score)\n",
    "    scores.append(score)\n",
    "    average_scores.append(np.mean(scores_deque))\n",
    "      \n",
    "    if episode % 10 == 0:\n",
    "      print(\"\\rEpisode {}\tAverage Score: {:.2f}\tScore: {:.2f}\".format(episode, np.mean(scores_deque), score), end=\"\")\n",
    "    if episode % 100 == 0:\n",
    "      print(\"\\rEpisode {}\tAverage Score: {:.2f}\".format(episode, np.mean(scores_deque)))   \n",
    "    \n",
    "    if np.mean(scores_deque) > win_condition:\n",
    "      print(\"\\rEnvironment Solved in {} episodes!\".format(episode))\n",
    "      break\n",
    "\n",
    "\n",
    "  return scores, average_scores"
   ]
  },
  {
   "cell_type": "code",
   "execution_count": 17,
   "metadata": {},
   "outputs": [
    {
     "name": "stdout",
     "output_type": "stream",
     "text": [
      "Episode 100\tAverage Score: -107.13\tScore: -45.24\n",
      "Episode 200\tAverage Score: -66.29\tScore: 20.1230\n",
      "Episode 300\tAverage Score: -30.95\tScore: -149.35\n",
      "Episode 400\tAverage Score: 187.67\tScore: 277.43\n",
      "Environment Solved in 409 episodes!\n"
     ]
    }
   ],
   "source": [
    "scores, average_scores = train(n_episodes=2000)"
   ]
  },
  {
   "cell_type": "code",
   "execution_count": 18,
   "metadata": {},
   "outputs": [
    {
     "data": {
      "text/plain": [
       "[<matplotlib.lines.Line2D at 0x124f927b8>]"
      ]
     },
     "execution_count": 18,
     "metadata": {},
     "output_type": "execute_result"
    },
    {
     "data": {
      "image/png": "[encoded data removed]",
      "text/plain": [
       "<Figure size 432x288 with 1 Axes>"
      ]
     },
     "metadata": {
      "needs_background": "light"
     },
     "output_type": "display_data"
    }
   ],
   "source": [
    "plt.plot(scores)\n",
    "plt.plot(average_scores)"
   ]
  },
  {
   "cell_type": "code",
   "execution_count": 22,
   "metadata": {},
   "outputs": [],
   "source": [
    "# torch.save(agent.model.state_dict(), \"lunar_lander_ppo_model.pth\")\n",
    "# torch.save(agent.model_old.state_dict(), \"lunar_lander_ppo_model_old.pth\")"
   ]
  },
  {
   "cell_type": "code",
   "execution_count": null,
   "metadata": {},
   "outputs": [],
   "source": [
    "model_path=\"trained_models/ppo/lunar_lander_ppo_model.pth\"\n",
    "model_old_path=\"trained_models/ppo/lunar_lander_ppo_model_old.pth\"\n",
    "\n",
    "agent.model.load_state_dict(torch.load(model_path))\n",
    "agent.model_old.load_state_dict(torch.load(model_old_path))"
   ]
  },
  {
   "cell_type": "code",
   "execution_count": 19,
   "metadata": {},
   "outputs": [
    {
     "name": "stdout",
     "output_type": "stream",
     "text": [
      "\n"
     ]
    }
   ],
   "source": [
    "env = gym.wrappers.Monitor(env, \"./vid\", video_callable=lambda episode_id: True,force=True)\n",
    "\n",
    "for episode in range(1model_path=\"trained_models/ppo/Pendulum-v0_ppo_model.pth\"\n",
    "model_old_path=\"trained_models/ppo/Pendulum-v0_ppo_model_old.pth\"\n",
    "\n",
    "agent.model.load_state_dict(torch.load(model_path))\n",
    "agent.model_old.load_state_dict(torch.load(model_old_path))):\n",
    "    state = env.reset()\n",
    "    score = 0\n",
    "    input()\n",
    "\n",
    "    for t in range(700):\n",
    "        action, log_prob = agent.act(torch.FloatTensor(state))\n",
    "        next_state, reward, done, _ = env.step(action.item())\n",
    "        env.render()\n",
    "        \n",
    "        score += reward\n",
    "        \n",
    "        if done:\n",
    "            print(score)\n",
    "            break;\n",
    "        \n",
    "        state = next_state\n",
    "\n",
    "env.close()"
   ]
  },
  {
   "cell_type": "code",
   "execution_count": null,
   "metadata": {},
   "outputs": [],
   "source": []
  }
 ],
 "metadata": {
  "kernelspec": {
   "display_name": "Python 3",
   "language": "python",
   "name": "python3"
  },
  "language_info": {
   "codemirror_mode": {
    "name": "ipython",
    "version": 3
   },
   "file_extension": ".py",
   "mimetype": "text/x-python",
   "name": "python",
   "nbconvert_exporter": "python",
   "pygments_lexer": "ipython3",
   "version": "3.6.8"
  }
 },
 "nbformat": 4,
 "nbformat_minor": 2
}
