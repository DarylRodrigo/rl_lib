{
 "cells": [
  {
   "cell_type": "code",
   "execution_count": 38,
   "metadata": {},
   "outputs": [
    {
     "name": "stdout",
     "output_type": "stream",
     "text": [
      "The autoreload extension is already loaded. To reload it, use:\n",
      "  %reload_ext autoreload\n"
     ]
    }
   ],
   "source": [
    "%load_ext autoreload\n",
    "%autoreload 2\n",
    "\n",
    "import gym\n",
    "from matplotlib import pyplot as plt\n",
    "from collections import deque\n",
    "import numpy as np\n",
    "\n",
    "import numpy as np\n",
    "import torch\n",
    "import torch.nn as nn\n",
    "import torch.nn.functional as F\n",
    "import torch.optim as optim\n",
    "from torch.distributions import Categorical"
   ]
  },
  {
   "cell_type": "code",
   "execution_count": 39,
   "metadata": {},
   "outputs": [],
   "source": [
    "class Actor(nn.Module):\n",
    "    \"\"\"Some Information about ActorCritic\"\"\"\n",
    "    def __init__(self, state_size, action_size):\n",
    "        super(Actor, self).__init__()\n",
    "\n",
    "        self.model = nn.Sequential(\n",
    "            nn.Linear(state_size, 64),\n",
    "            nn.ReLU(),\n",
    "            nn.Linear(64, 64),\n",
    "            nn.ReLU(),\n",
    "            nn.Linear(64, action_size)\n",
    "        )\n",
    "\n",
    "    def forward(self, x):\n",
    "        return self.model(x)\n",
    "    \n",
    "class Critic(nn.Module):\n",
    "    \"\"\"Some Information about ActorCritic\"\"\"\n",
    "    def __init__(self, state_size):\n",
    "        super(Critic, self).__init__()\n",
    "\n",
    "        self.model = nn.Sequential(\n",
    "            nn.Linear(state_size, 64),\n",
    "            nn.ReLU(),\n",
    "            nn.Linear(64, 64),\n",
    "            nn.ReLU(),\n",
    "            nn.Linear(64, 1)\n",
    "        )\n",
    "\n",
    "    def forward(self, x):\n",
    "        return self.model(x)\n",
    "\n",
    "class Memory:\n",
    "    def __init__(self):\n",
    "        self.log_probs = []\n",
    "        self.values = []\n",
    "        self.dones = []\n",
    "        self.rewards = []\n",
    "    \n",
    "    def add(self, log_prob, value, done, reward):\n",
    "        self.log_probs.append(log_prob)\n",
    "        self.values.append(value)\n",
    "        self.dones.append(done)\n",
    "        self.rewards.append(reward)\n",
    "    \n",
    "    def clear(self):\n",
    "        self.log_probs = []\n",
    "        self.values = []\n",
    "        self.dones = []\n",
    "        self.rewards = []\n",
    "    \n",
    "    def __len__(self):\n",
    "        return len(self.log_probs)"
   ]
  },
  {
   "cell_type": "code",
   "execution_count": 40,
   "metadata": {},
   "outputs": [],
   "source": [
    "def update(mem, next_state):\n",
    "    q_values = []\n",
    "    \n",
    "    # Do not add this one as it's for the next state\n",
    "    running_reward = critic(torch.tensor(next_state).float())\n",
    "    \n",
    "    for reward, done in zip(reversed(mem.rewards), reversed(mem.dones)):\n",
    "        running_reward = (reward + gamma * running_reward) * (1-done)\n",
    "        \n",
    "        q_values.append(running_reward)\n",
    "    \n",
    "    q_values = torch.stack(q_values)\n",
    "    values = torch.stack(mem.values)\n",
    "    log_probs = torch.stack(mem.log_probs)\n",
    "    \n",
    "    advantage = q_values - values\n",
    "    \n",
    "    critic_loss = torch.pow(advantage, 2).mean()\n",
    "    actor_loss = (-log_probs * advantage).sum()\n",
    "    \n",
    "    critic_optim.zero_grad()\n",
    "    critic_loss.backward(retain_graph=True)\n",
    "    critic_optim.step()\n",
    "    \n",
    "    actor_optim.zero_grad()\n",
    "    actor_loss.backward(retain_graph=True)\n",
    "    actor_optim.step()"
   ]
  },
  {
   "cell_type": "code",
   "execution_count": 41,
   "metadata": {},
   "outputs": [],
   "source": [
    "env = gym.make(\"CartPole-v1\")\n",
    "# env = gym.make(\"LunarLander-v2\")\n",
    "\n",
    "\n",
    "state_space = env.observation_space.shape[0]\n",
    "action_space = env.action_space.n"
   ]
  },
  {
   "cell_type": "code",
   "execution_count": 42,
   "metadata": {},
   "outputs": [],
   "source": [
    "win_condition = 200\n",
    "\n",
    "num_episodes = 500\n",
    "bootstrap_len = 5\n",
    "\n",
    "gamma = 0.99"
   ]
  },
  {
   "cell_type": "code",
   "execution_count": 43,
   "metadata": {},
   "outputs": [],
   "source": [
    "mem = Memory()\n",
    "\n",
    "actor = Actor(state_space, action_space)\n",
    "critic = Critic(state_space)\n",
    "\n",
    "actor_optim = optim.Adam(actor.parameters(), lr=1e-3)\n",
    "critic_optim = optim.Adam(critic.parameters(), lr=1e-3)"
   ]
  },
  {
   "cell_type": "code",
   "execution_count": 44,
   "metadata": {},
   "outputs": [
    {
     "name": "stderr",
     "output_type": "stream",
     "text": [
      "/Library/Frameworks/Python.framework/Versions/3.6/lib/python3.6/site-packages/ipykernel_launcher.py:16: UserWarning: Implicit dimension choice for softmax has been deprecated. Change the call to include dim=X as an argument.\n",
      "  app.launch_new_instance()\n"
     ]
    },
    {
     "name": "stdout",
     "output_type": "stream",
     "text": [
      "Episode: 0\taverage: 15.0\tReward: 15.0\n",
      "Episode: 50\taverage: 22.372549019607842\tReward: 26.0\n",
      "Episode: 100\taverage: 25.17\tReward: 22.0Reward: 21.0\n",
      "Episode: 150\taverage: 31.19\tReward: 47.00\n",
      "Episode: 200\taverage: 43.4\tReward: 99.000\n",
      "Episode: 250\taverage: 46.27\tReward: 65.00\n",
      "Episode: 300\taverage: 63.24\tReward: 71.00\n",
      "Episode: 350\taverage: 132.96\tReward: 150.0\n",
      "Episode: 400\taverage: 177.25\tReward: 290.0\n",
      "Episode: 415\taverage: 202.52\tReward: 277.0Environment Solved!\n",
      "Episode: 416\taverage: 202.69\tReward: 182.0Environment Solved!\n",
      "Episode: 417\taverage: 202.6\tReward: 176.0Environment Solved!\n",
      "Episode: 418\taverage: 202.89\tReward: 181.0Environment Solved!\n",
      "Episode: 419\taverage: 202.75\tReward: 204.0Environment Solved!\n",
      "Episode: 445\taverage: 200.78\tReward: 157.0Environment Solved!\n",
      "Episode: 446\taverage: 201.18\tReward: 174.0Environment Solved!\n",
      "Episode: 447\taverage: 201.82\tReward: 222.0Environment Solved!\n",
      "Episode: 448\taverage: 204.4\tReward: 277.0Environment Solved!\n",
      "Episode: 449\taverage: 205.51\tReward: 259.0Environment Solved!\n",
      "Episode: 450\taverage: 206.29\tReward: 228.0\n",
      "Environment Solved!\n",
      "Episode: 451\taverage: 206.78\tReward: 222.0Environment Solved!\n",
      "Episode: 452\taverage: 208.48\tReward: 324.0Environment Solved!\n",
      "Episode: 453\taverage: 210.4\tReward: 327.0Environment Solved!\n",
      "Episode: 454\taverage: 211.81\tReward: 274.0Environment Solved!\n",
      "Episode: 455\taverage: 213.47\tReward: 284.0Environment Solved!\n",
      "Episode: 456\taverage: 214.68\tReward: 242.0Environment Solved!\n",
      "Episode: 457\taverage: 216.25\tReward: 280.0Environment Solved!\n",
      "Episode: 458\taverage: 217.52\tReward: 248.0Environment Solved!\n",
      "Episode: 459\taverage: 222.31\tReward: 500.0Environment Solved!\n",
      "Episode: 460\taverage: 226.43\tReward: 431.0Environment Solved!\n",
      "Episode: 461\taverage: 229.61\tReward: 330.0Environment Solved!\n",
      "Episode: 462\taverage: 232.43\tReward: 299.0Environment Solved!\n",
      "Episode: 463\taverage: 236.84\tReward: 457.0Environment Solved!\n",
      "Episode: 464\taverage: 239.86\tReward: 403.0Environment Solved!\n",
      "Episode: 465\taverage: 242.08\tReward: 238.0Environment Solved!\n",
      "Episode: 466\taverage: 243.11\tReward: 201.0Environment Solved!\n",
      "Episode: 467\taverage: 244.89\tReward: 195.0Environment Solved!\n",
      "Episode: 468\taverage: 246.42\tReward: 167.0Environment Solved!\n",
      "Episode: 469\taverage: 247.18\tReward: 195.0Environment Solved!\n",
      "Episode: 470\taverage: 247.6\tReward: 187.0Environment Solved!\n",
      "Episode: 471\taverage: 248.02\tReward: 200.0Environment Solved!\n",
      "Episode: 472\taverage: 247.92\tReward: 199.0Environment Solved!\n",
      "Episode: 473\taverage: 248.06\tReward: 191.0Environment Solved!\n",
      "Episode: 474\taverage: 248.17\tReward: 185.0Environment Solved!\n",
      "Episode: 475\taverage: 247.67\tReward: 155.0Environment Solved!\n",
      "Episode: 476\taverage: 247.16\tReward: 145.0Environment Solved!\n",
      "Episode: 477\taverage: 246.21\tReward: 143.0Environment Solved!\n",
      "Episode: 478\taverage: 245.81\tReward: 166.0Environment Solved!\n",
      "Episode: 479\taverage: 244.96\tReward: 145.0Environment Solved!\n",
      "Episode: 480\taverage: 243.99\tReward: 131.0Environment Solved!\n",
      "Episode: 481\taverage: 242.74\tReward: 131.0Environment Solved!\n",
      "Episode: 482\taverage: 241.69\tReward: 117.0Environment Solved!\n",
      "Episode: 483\taverage: 239.85\tReward: 114.0Environment Solved!\n",
      "Episode: 484\taverage: 238.11\tReward: 110.0Environment Solved!\n",
      "Episode: 485\taverage: 236.1\tReward: 99.0Environment Solved!\n",
      "Episode: 486\taverage: 234.17\tReward: 71.0Environment Solved!\n",
      "Episode: 487\taverage: 232.58\tReward: 54.0Environment Solved!\n",
      "Episode: 488\taverage: 231.4\tReward: 84.0Environment Solved!\n",
      "Episode: 489\taverage: 229.97\tReward: 43.0Environment Solved!\n",
      "Episode: 490\taverage: 228.54\tReward: 40.0Environment Solved!\n",
      "Episode: 491\taverage: 226.82\tReward: 32.0Environment Solved!\n",
      "Episode: 492\taverage: 225.44\tReward: 31.0Environment Solved!\n",
      "Episode: 493\taverage: 223.55\tReward: 34.0Environment Solved!\n",
      "Episode: 494\taverage: 220.79\tReward: 28.0Environment Solved!\n",
      "Episode: 495\taverage: 218.67\tReward: 31.0Environment Solved!\n",
      "Episode: 496\taverage: 216.14\tReward: 35.0Environment Solved!\n",
      "Episode: 497\taverage: 213.84\tReward: 42.0Environment Solved!\n",
      "Episode: 498\taverage: 211.41\tReward: 45.0Environment Solved!\n",
      "Episode: 499\taverage: 208.47\tReward: 61.0Environment Solved!\n"
     ]
    }
   ],
   "source": [
    "running_scores = deque(maxlen=100)\n",
    "score_log = []\n",
    "average_score_log = []\n",
    "\n",
    "\n",
    "t = 0\n",
    "for i in range(num_episodes):\n",
    "    state = env.reset()\n",
    "    steps = 0\n",
    "    score = 0\n",
    "    \n",
    "    while True:\n",
    "        steps += 1\n",
    "            \n",
    "        value = critic(torch.tensor(state).float())\n",
    "        logits = F.softmax(actor(torch.tensor(state).float()))\n",
    "        \n",
    "        probabilities = Categorical(logits)\n",
    "        action = probabilities.sample()\n",
    "        log_probs = probabilities.log_prob(action)\n",
    "\n",
    "        next_state, reward, done, _ = env.step(action.numpy())\n",
    "        score += reward\n",
    "\n",
    "        mem.add(log_probs, value, done, reward)\n",
    "\n",
    "        if (done or steps % bootstrap_len == 0):\n",
    "            update(mem, next_state)\n",
    "            mem.clear()\n",
    "        \n",
    "        if done:\n",
    "            break\n",
    "        \n",
    "        state = next_state\n",
    "\n",
    "    score_log.append(score)\n",
    "    running_scores.append(score)\n",
    "    average_score_log.append(np.mean(running_scores))\n",
    "    \n",
    "    print(\"\\rEpisode: {:.4f}\\taverage: {:.4f}\\tReward: {:.4f}\".format(i, np.mean(running_scores), score), end=\"\")\n",
    "    \n",
    "    if i % 50 == 0:\n",
    "        print(\"\\rEpisode: {:.4f}\\taverage: {:.4f}\\tReward: {:.4f}\".format(i, np.mean(running_scores), score))\n",
    "    \n",
    "    if np.mean(running_scores) > win_condition:\n",
    "        print(\"Environment Solved!\")\n",
    "        break"
   ]
  },
  {
   "cell_type": "code",
   "execution_count": 46,
   "metadata": {},
   "outputs": [
    {
     "data": {
      "text/plain": [
       "[<matplotlib.lines.Line2D at 0x1223364e0>]"
      ]
     },
     "execution_count": 46,
     "metadata": {},
     "output_type": "execute_result"
    },
    {
     "data": {
      "image/png": "[encoded data removed]",
      "text/plain": [
       "<Figure size 432x288 with 1 Axes>"
      ]
     },
     "metadata": {
      "needs_background": "light"
     },
     "output_type": "display_data"
    }
   ],
   "source": [
    "plt.plot(score_log)\n",
    "plt.plot(average_score_log)"
   ]
  },
  {
   "cell_type": "markdown",
   "metadata": {},
   "source": [
    "## Tests"
   ]
  },
  {
   "cell_type": "code",
   "execution_count": 9,
   "metadata": {},
   "outputs": [
    {
     "name": "stderr",
     "output_type": "stream",
     "text": [
      "/Library/Frameworks/Python.framework/Versions/3.6/lib/python3.6/site-packages/ipykernel_launcher.py:6: UserWarning: Implicit dimension choice for softmax has been deprecated. Change the call to include dim=X as an argument.\n",
      "  \n"
     ]
    }
   ],
   "source": [
    "state = env.reset()\n",
    "# logits = F.softmax(actor(torch.tensor(state).float()))\n",
    "# probabilities = Categorical(logits)\n",
    "# action = probabilities.sample()\n",
    "\n",
    "logits = F.softmax(actor(torch.tensor(state).float()))\n",
    "probs = Categorical(logits)\n",
    "\n",
    "log_probs = probabilities.log_prob(action)\n",
    "action = probabilities.sample()\n",
    "\n",
    "value = critic(torch.tensor(state).float())\n",
    "\n",
    "state, reward, done, _ = env.step(action.numpy())\n",
    "\n",
    "mem.add(log_probs, value, done, reward)"
   ]
  },
  {
   "cell_type": "code",
   "execution_count": null,
   "metadata": {},
   "outputs": [],
   "source": []
  }
 ],
 "metadata": {
  "kernelspec": {
   "display_name": "Python 3",
   "language": "python",
   "name": "python3"
  },
  "language_info": {
   "codemirror_mode": {
    "name": "ipython",
    "version": 3
   },
   "file_extension": ".py",
   "mimetype": "text/x-python",
   "name": "python",
   "nbconvert_exporter": "python",
   "pygments_lexer": "ipython3",
   "version": "3.6.8"
  }
 },
 "nbformat": 4,
 "nbformat_minor": 2
}
