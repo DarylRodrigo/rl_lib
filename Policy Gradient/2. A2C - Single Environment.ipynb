{
 "cells": [
  {
   "cell_type": "markdown",
   "metadata": {},
   "source": [
    "### Advantage Actor Critic\n",
    "\n",
    "Policy based methods update the policy based on how the agent has played. It will try and increase the probability of taking good actions and reduce the probability of taking bad actions. Unlike value based methods, which estimate the value of a state, and then choose the best action, policy based methods can handle continuous actions spaces (though also discrete by adding a argmax).\n",
    "\n",
    "The method of updating a policy based agent can be derived.\n",
    "\n",
    "There are several ways of getting the experiences to update the agent with. In the REINFORCE algorithm a monte-carol approach it taken. We let the agent play out an entire game, and then work out what the expected reward was. This will have low bias, because they will be all true events, however high variability because they might lead to completely different outcomes.\n",
    "\n",
    "A in-between method is to use a value-based approach to guess how much the following steps are worth. For example, you might let the agent take 2 steps and then guess what the expected reward would be. This will then allow you to update the policy. However, because you’re making a guess, you’ll probably have a high bias, because we do not know what a good state is yet. on the flip side, we’ll have low variance as what we think is a good state now we’ll likely also still find a good state later. This means we end up training the agent faster and has less problem converging.\n",
    "\n",
    "Over time the we’ll learn what a good value state is. This is what the actor citric method is. The actor makes the decisions and the critic tells us how good or bad those actions will be in the future."
   ]
  },
  {
   "cell_type": "code",
   "execution_count": 24,
   "metadata": {},
   "outputs": [
    {
     "name": "stdout",
     "output_type": "stream",
     "text": [
      "The autoreload extension is already loaded. To reload it, use:\n",
      "  %reload_ext autoreload\n"
     ]
    }
   ],
   "source": [
    "%load_ext autoreload\n",
    "%autoreload 2\n",
    "\n",
    "import gym\n",
    "from matplotlib import pyplot as plt\n",
    "from collections import deque\n",
    "import numpy as np\n",
    "\n",
    "import numpy as np\n",
    "import torch\n",
    "import torch.nn as nn\n",
    "import torch.nn.functional as F\n",
    "import torch.optim as optim\n",
    "from torch.distributions import Categorical"
   ]
  },
  {
   "cell_type": "code",
   "execution_count": 25,
   "metadata": {},
   "outputs": [],
   "source": [
    "device = torch.device(\"cuda:0\" if torch.cuda.is_available() else \"cpu\")"
   ]
  },
  {
   "cell_type": "code",
   "execution_count": 26,
   "metadata": {},
   "outputs": [],
   "source": [
    "class Actor(nn.Module):\n",
    "    \"\"\"Some Information about ActorCritic\"\"\"\n",
    "    def __init__(self, state_size, action_size):\n",
    "        super(Actor, self).__init__()\n",
    "\n",
    "        self.model = nn.Sequential(\n",
    "            nn.Linear(state_size, 64),\n",
    "            nn.ReLU(),\n",
    "            nn.Linear(64, 64),\n",
    "            nn.ReLU(),\n",
    "            nn.Linear(64, action_size)\n",
    "        )\n",
    "\n",
    "    def forward(self, x):\n",
    "        return self.model(x)\n",
    "    \n",
    "class Critic(nn.Module):\n",
    "    \"\"\"Some Information about ActorCritic\"\"\"\n",
    "    def __init__(self, state_size):\n",
    "        super(Critic, self).__init__()\n",
    "\n",
    "        self.model = nn.Sequential(\n",
    "            nn.Linear(state_size, 64),\n",
    "            nn.ReLU(),\n",
    "            nn.Linear(64, 64),\n",
    "            nn.ReLU(),\n",
    "            nn.Linear(64, 1)\n",
    "        )\n",
    "\n",
    "    def forward(self, x):\n",
    "        return self.model(x)\n",
    "\n",
    "class Memory:\n",
    "    def __init__(self):\n",
    "        self.log_probs = []\n",
    "        self.values = []\n",
    "        self.dones = []\n",
    "        self.rewards = []\n",
    "    \n",
    "    def add(self, log_prob, value, done, reward):\n",
    "        self.log_probs.append(log_prob)\n",
    "        self.values.append(value)\n",
    "        self.dones.append(done)\n",
    "        self.rewards.append(reward)\n",
    "    \n",
    "    def clear(self):\n",
    "        self.log_probs = []\n",
    "        self.values = []\n",
    "        self.dones = []\n",
    "        self.rewards = []\n",
    "    \n",
    "    def __len__(self):\n",
    "        return len(self.log_probs)"
   ]
  },
  {
   "cell_type": "code",
   "execution_count": 27,
   "metadata": {},
   "outputs": [],
   "source": [
    "def update(mem, next_state):\n",
    "    q_values = []\n",
    "    \n",
    "    # Do not add this one as it's for the next state\n",
    "    running_reward = critic(torch.tensor(next_state).float().to(device))\n",
    "    \n",
    "    for reward, done in zip(reversed(mem.rewards), reversed(mem.dones)):\n",
    "        running_reward = (reward + gamma * running_reward) * (1-done)\n",
    "        \n",
    "        q_values.append(running_reward)\n",
    "    \n",
    "    q_values = torch.stack(q_values).to(device)\n",
    "    values = torch.stack(mem.values).to(device)\n",
    "    log_probs = torch.stack(mem.log_probs).to(device)\n",
    "    \n",
    "    advantage = q_values - values\n",
    "    \n",
    "    critic_loss = torch.pow(advantage, 2).mean()\n",
    "    actor_loss = (-log_probs * advantage).sum()\n",
    "    \n",
    "    critic_optim.zero_grad()\n",
    "    critic_loss.backward(retain_graph=True)\n",
    "    critic_optim.step()\n",
    "    \n",
    "    actor_optim.zero_grad()\n",
    "    actor_loss.backward(retain_graph=True)\n",
    "    actor_optim.step()"
   ]
  },
  {
   "cell_type": "code",
   "execution_count": 28,
   "metadata": {},
   "outputs": [],
   "source": [
    "env = gym.make(\"CartPole-v1\")\n",
    "# env = gym.make(\"LunarLander-v2\")\n",
    "\n",
    "\n",
    "state_space = env.observation_space.shape[0]\n",
    "action_space = env.action_space.n"
   ]
  },
  {
   "cell_type": "code",
   "execution_count": 29,
   "metadata": {},
   "outputs": [],
   "source": [
    "win_condition = 200\n",
    "\n",
    "num_episodes = 500\n",
    "bootstrap_len = 5\n",
    "\n",
    "gamma = 0.99"
   ]
  },
  {
   "cell_type": "code",
   "execution_count": 30,
   "metadata": {},
   "outputs": [],
   "source": [
    "mem = Memory()\n",
    "\n",
    "actor = Actor(state_space, action_space).to(device)\n",
    "critic = Critic(state_space).to(device)\n",
    "\n",
    "actor_optim = optim.Adam(actor.parameters(), lr=1e-3)\n",
    "critic_optim = optim.Adam(critic.parameters(), lr=1e-3)"
   ]
  },
  {
   "cell_type": "code",
   "execution_count": 32,
   "metadata": {},
   "outputs": [
    {
     "name": "stderr",
     "output_type": "stream",
     "text": [
      "/home/ubuntu/anaconda3/lib/python3.6/site-packages/ipykernel_launcher.py:16: UserWarning: Implicit dimension choice for softmax has been deprecated. Change the call to include dim=X as an argument.\n",
      "  app.launch_new_instance()\n"
     ]
    },
    {
     "name": "stdout",
     "output_type": "stream",
     "text": [
      "Episode: 0.0000\taverage: 41.0000\tReward: 41.0000\n",
      "Episode: 100.0000\taverage: 119.8400\tReward: 500.0000\n",
      "Episode: 127.0000\taverage: 202.1700\tReward: 369.0000Environment Solved!\n"
     ]
    }
   ],
   "source": [
    "running_scores = deque(maxlen=100)\n",
    "score_log = []\n",
    "average_score_log = []\n",
    "\n",
    "\n",
    "t = 0\n",
    "for i in range(num_episodes):\n",
    "    state = env.reset()\n",
    "    steps = 0\n",
    "    score = 0\n",
    "    \n",
    "    while True:\n",
    "        steps += 1\n",
    "            \n",
    "        value = critic(torch.tensor(state).float().to(device))\n",
    "        logits = F.softmax(actor(torch.tensor(state).float().to(device)))\n",
    "        \n",
    "        probabilities = Categorical(logits)\n",
    "        action = probabilities.sample()\n",
    "        log_probs = probabilities.log_prob(action)\n",
    "\n",
    "        next_state, reward, done, _ = env.step(action.cpu().numpy())\n",
    "        score += reward\n",
    "\n",
    "        mem.add(log_probs, value, done, reward)\n",
    "\n",
    "        if (done or steps % bootstrap_len == 0):\n",
    "            update(mem, next_state)\n",
    "            mem.clear()\n",
    "        \n",
    "        if done:\n",
    "            break\n",
    "        \n",
    "        state = next_state\n",
    "\n",
    "    score_log.append(score)\n",
    "    running_scores.append(score)\n",
    "    average_score_log.append(np.mean(running_scores))\n",
    "    \n",
    "    print(\"\\rEpisode: {:.4f}\\taverage: {:.4f}\\tReward: {:.4f}\".format(i, np.mean(running_scores), score), end=\"\")\n",
    "    \n",
    "    if i % 100 == 0:\n",
    "        print(\"\\rEpisode: {:.4f}\\taverage: {:.4f}\\tReward: {:.4f}\".format(i, np.mean(running_scores), score))\n",
    "    \n",
    "    if np.mean(running_scores) > win_condition:\n",
    "        print(\"\\rEnvironment Solved!\")\n",
    "        break"
   ]
  },
  {
   "cell_type": "code",
   "execution_count": 33,
   "metadata": {},
   "outputs": [
    {
     "data": {
      "text/plain": [
       "[<matplotlib.lines.Line2D at 0x7f84d0314978>]"
      ]
     },
     "execution_count": 33,
     "metadata": {},
     "output_type": "execute_result"
    },
    {
     "data": {
      "image/png": "[encoded data removed]",
      "text/plain": [
       "<Figure size 432x288 with 1 Axes>"
      ]
     },
     "metadata": {},
     "output_type": "display_data"
    }
   ],
   "source": [
    "plt.plot(score_log)\n",
    "plt.plot(average_score_log)"
   ]
  },
  {
   "cell_type": "code",
   "execution_count": null,
   "metadata": {},
   "outputs": [],
   "source": []
  }
 ],
 "metadata": {
  "kernelspec": {
   "display_name": "Python 3",
   "language": "python",
   "name": "python3"
  },
  "language_info": {
   "codemirror_mode": {
    "name": "ipython",
    "version": 3
   },
   "file_extension": ".py",
   "mimetype": "text/x-python",
   "name": "python",
   "nbconvert_exporter": "python",
   "pygments_lexer": "ipython3",
   "version": "3.6.8"
  }
 },
 "nbformat": 4,
 "nbformat_minor": 2
}
