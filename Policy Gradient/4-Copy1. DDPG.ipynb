{
 "cells": [
  {
   "cell_type": "markdown",
   "metadata": {},
   "source": [
    "# Deep Deterministic Policy Gradient\n",
    "\n",
    "https://arxiv.org/pdf/1509.02971.pdf"
   ]
  },
  {
   "cell_type": "code",
   "execution_count": 41,
   "metadata": {},
   "outputs": [
    {
     "name": "stdout",
     "output_type": "stream",
     "text": [
      "The autoreload extension is already loaded. To reload it, use:\n",
      "  %reload_ext autoreload\n"
     ]
    }
   ],
   "source": [
    "%load_ext autoreload\n",
    "%autoreload 2"
   ]
  },
  {
   "cell_type": "code",
   "execution_count": 42,
   "metadata": {},
   "outputs": [],
   "source": [
    "from collections import deque, namedtuple\n",
    "from matplotlib import pyplot as plt\n",
    "import numpy as np\n",
    "import random\n",
    "import gym\n",
    "import pdb\n",
    "\n",
    "from src.utils.OUNoise import OUNoise \n",
    "\n",
    "import torch\n",
    "import torch.nn as nn\n",
    "import torch.optim as optim\n",
    "import torch.nn.functional as F\n",
    "from torch.distributions import Categorical"
   ]
  },
  {
   "cell_type": "code",
   "execution_count": 43,
   "metadata": {},
   "outputs": [],
   "source": [
    "device = torch.device(\"cuda:0\" if torch.cuda.is_available() else \"cpu\")"
   ]
  },
  {
   "cell_type": "markdown",
   "metadata": {},
   "source": [
    "## Define Networks"
   ]
  },
  {
   "cell_type": "code",
   "execution_count": 44,
   "metadata": {},
   "outputs": [],
   "source": [
    "class Actor(nn.Module):\n",
    "    def __init__(self, state_space, action_space):\n",
    "        super(Actor, self).__init__()\n",
    "        \n",
    "        self.noise = OUNoise(action_space)\n",
    "        \n",
    "        self.head = nn.Sequential(\n",
    "            nn.Linear(state_space, 512),\n",
    "            nn.ReLU(),\n",
    "            nn.Linear(512, 128),\n",
    "            nn.ReLU(),\n",
    "            nn.Linear(128, action_space),\n",
    "            nn.Tanh()\n",
    "        )\n",
    "    \n",
    "    def forward(self, x):\n",
    "        return self.head(x)\n",
    "    \n",
    "    def act(self, state, add_noise=True):\n",
    "        \n",
    "        state = torch.from_numpy(state).float().to(device)\n",
    "        \n",
    "        action = self.forward(state).cpu().data.numpy()\n",
    "        if add_noise:\n",
    "            action += self.noise.noise()\n",
    "\n",
    "        return np.clip(action, -1, 1)\n"
   ]
  },
  {
   "cell_type": "code",
   "execution_count": 45,
   "metadata": {},
   "outputs": [],
   "source": [
    "class Critic(nn.Module):\n",
    "    def __init__(self, state_space, action_space):\n",
    "        super(Critic, self).__init__()\n",
    "        \n",
    "        self.head = nn.Sequential(\n",
    "            nn.Linear(state_space, 1024),\n",
    "            nn.ReLU(),\n",
    "        )\n",
    "        \n",
    "        self.body = nn.Sequential(\n",
    "            nn.Linear(1024 + action_space, 512),\n",
    "            nn.ReLU(),\n",
    "            nn.Linear(512, 300),\n",
    "            nn.ReLU(),\n",
    "            nn.Linear(300, 1),\n",
    "        )\n",
    "    \n",
    "    def forward(self, x, actions):\n",
    "        x = self.head(x)\n",
    "        x = self.body(torch.cat((x, actions), dim=1))\n",
    "        return x"
   ]
  },
  {
   "cell_type": "markdown",
   "metadata": {},
   "source": [
    "## Create environment with Agents"
   ]
  },
  {
   "cell_type": "markdown",
   "metadata": {},
   "source": [
    "https://github.com/openai/gym/wiki/Pendulum-v0"
   ]
  },
  {
   "cell_type": "code",
   "execution_count": 46,
   "metadata": {},
   "outputs": [
    {
     "name": "stdout",
     "output_type": "stream",
     "text": [
      "\u001b[33mWARN: gym.spaces.Box autodetected dtype as <class 'numpy.float32'>. Please provide explicit dtype.\u001b[0m\n",
      "\u001b[33mWARN: gym.spaces.Box autodetected dtype as <class 'numpy.float32'>. Please provide explicit dtype.\u001b[0m\n",
      "State space: 24\n",
      "Action space: 4\n"
     ]
    }
   ],
   "source": [
    "import gym\n",
    "\n",
    "env_name = \"BipedalWalker-v2\"\n",
    "env = gym.make(env_name)\n",
    "\n",
    "state_space = env.observation_space.shape[0]\n",
    "action_space = env.action_space.shape[0]\n",
    "\n",
    "print(\"State space: {}\".format(state_space))\n",
    "print(\"Action space: {}\".format(action_space))"
   ]
  },
  {
   "cell_type": "code",
   "execution_count": 47,
   "metadata": {},
   "outputs": [],
   "source": [
    "actor = Actor(state_space, action_space).to(device)\n",
    "critic = Critic(state_space, action_space).to(device)\n",
    "\n",
    "actor_target = Actor(state_space, action_space).to(device)\n",
    "critic_target = Critic(state_space, action_space).to(device)"
   ]
  },
  {
   "cell_type": "markdown",
   "metadata": {},
   "source": [
    "### Replay Buffer"
   ]
  },
  {
   "cell_type": "code",
   "execution_count": 48,
   "metadata": {},
   "outputs": [],
   "source": [
    "class ReplayBuffer:\n",
    "    def __init__(self, buffer_size):\n",
    "        self.buffer = deque(maxlen=int(buffer_size))\n",
    "        self.Experience = namedtuple(\"experience\", [\"state\", \"action\", \"reward\", \"next_state\", \"done\"])\n",
    "    \n",
    "    def push(self, state, action, reward, next_state, done):\n",
    "        e = self.Experience(state, action, np.array([reward]), next_state ,done)\n",
    "        self.buffer.append(e)\n",
    "    \n",
    "    def sample(self, batch_size):\n",
    "        samples = random.sample(self.buffer, batch_size)\n",
    "        \n",
    "        states = [ exp.state for exp in samples]\n",
    "        actions = [ exp.action for exp in samples]\n",
    "        rewards = [ exp.reward for exp in samples]\n",
    "        next_states = [ exp.next_state for exp in samples]\n",
    "        dones = [ exp.done for exp in samples]\n",
    "        \n",
    "        return (states, actions, rewards, next_states, dones)\n",
    "    \n",
    "    def __len__(self):\n",
    "        return len(self.buffer)"
   ]
  },
  {
   "cell_type": "markdown",
   "metadata": {},
   "source": [
    "## Computing loss and updating Networks\n",
    "\n",
    "This code has broken up the update for the actor and critic seperately so it's easy to see what's going on."
   ]
  },
  {
   "cell_type": "code",
   "execution_count": 49,
   "metadata": {},
   "outputs": [],
   "source": [
    "actor_optimiser = optim.Adam(actor.parameters(), lr=1e-3)\n",
    "critic_optimiser = optim.Adam(critic.parameters(), lr=1e-3)"
   ]
  },
  {
   "cell_type": "code",
   "execution_count": 50,
   "metadata": {},
   "outputs": [],
   "source": [
    "def learn():\n",
    "\n",
    "    state_batch, action_batch, reward_batch, next_state_batch, masks = mem.sample(batch_size)\n",
    "    \n",
    "    state_batch = torch.FloatTensor(state_batch).to(device)\n",
    "    action_batch = torch.FloatTensor(action_batch).to(device)\n",
    "    reward_batch = torch.FloatTensor(reward_batch).to(device)\n",
    "    next_state_batch = torch.FloatTensor(next_state_batch).to(device)\n",
    "    masks = torch.FloatTensor(masks).to(device)\n",
    "\n",
    "    # Update Critic\n",
    "    update_critic(\n",
    "        states=state_batch,\n",
    "        next_states=next_state_batch,\n",
    "        actions=action_batch,\n",
    "        rewards=reward_batch,\n",
    "        dones=masks\n",
    "    )\n",
    "    \n",
    "    # Update actor\n",
    "    update_actor(states=state_batch)\n",
    "    \n",
    "    # Update target networks\n",
    "    update_target_networks()"
   ]
  },
  {
   "cell_type": "markdown",
   "metadata": {},
   "source": [
    "### Actor Update\n",
    "\n",
    "The **critic** is responsible for calculating the loss from the **actor**. Essentially, we look at the actions that the actor took in the given state, and then work out how good that action was.\n",
    "\n",
    "<img src=\"./img/ddpg/actor_update.png\" alt=\"Drawing\" style=\"height: 50px;\"/>\n",
    "\n",
    "This complicated looking formula is basically saying:\n",
    "\n",
    "> The loss is the average of the estimated Q value from the critic, given the action taken by the actor in a given state.\n",
    "\n"
   ]
  },
  {
   "cell_type": "code",
   "execution_count": 51,
   "metadata": {},
   "outputs": [],
   "source": [
    "def update_actor(states):\n",
    "    actions_pred = actor(states)  \n",
    "    loss = -critic(states, actions_pred).mean()\n",
    "    \n",
    "    actor_optimiser.zero_grad()\n",
    "    loss.backward()\n",
    "    actor_optimiser.step()"
   ]
  },
  {
   "cell_type": "markdown",
   "metadata": {},
   "source": [
    "### Critic Update\n",
    "\n",
    "The critic update looks very similar to that of a DQN. The loss of the critic is **mean squared error** of the **Q value** which we predicted with our current network, and what the actual reward was + the discounted future reward from our target critic network.\n",
    "\n",
    "#### Critic Loss:\n",
    "<img src=\"./img/ddpg/critic_loss.png\" alt=\"Drawing\" style=\"height: 30px;\"/>\n",
    "\n",
    "#### Critic $y_i$:\n",
    "<img src=\"./img/ddpg/critic_yi.png\" alt=\"Drawing\" style=\"height: 35px;\"/>\n",
    "\n",
    "Essentially it is working out:\n",
    "> How right was I in predicting the current state I am in."
   ]
  },
  {
   "cell_type": "code",
   "execution_count": 52,
   "metadata": {},
   "outputs": [],
   "source": [
    "def update_critic(states, next_states, actions, rewards, dones):\n",
    "    next_actions = actor_target.forward(next_states)\n",
    "    \n",
    "    y_i =  rewards + ( gamma * critic_target(next_states, next_actions) * (1-dones ))\n",
    "    expected_Q = critic(states, actions)\n",
    "\n",
    "    loss = F.mse_loss(y_i, expected_Q)\n",
    "    \n",
    "    critic_optimiser.zero_grad()\n",
    "    loss.backward()\n",
    "    critic_optimiser.step()"
   ]
  },
  {
   "cell_type": "markdown",
   "metadata": {},
   "source": [
    "### Soft Weights Updates\n",
    "\n",
    "Because the DDPG network is prone to divergance, as with our DQN, we \"phase in\" the weights from our current network to our target network slowly. This is to give the networks consistant targets during back propogation.\n",
    "\n",
    "<img src=\"./img/ddpg/target_update.png\" alt=\"Drawing\" style=\"height:100px;\"/>"
   ]
  },
  {
   "cell_type": "code",
   "execution_count": 53,
   "metadata": {},
   "outputs": [],
   "source": [
    "def update_target_networks():\n",
    "    for target, local in zip(actor_target.parameters(), actor.parameters()):\n",
    "        target.data.copy_(tau*local.data + (1.0-tau)*target.data)\n",
    "        \n",
    "    for target, local in zip(critic_target.parameters(), critic.parameters()):\n",
    "        target.data.copy_(tau*local.data + (1.0-tau)*target.data)"
   ]
  },
  {
   "cell_type": "markdown",
   "metadata": {},
   "source": [
    "## Runner"
   ]
  },
  {
   "cell_type": "code",
   "execution_count": 54,
   "metadata": {},
   "outputs": [],
   "source": [
    "max_e = 10000\n",
    "max_t = 1000\n",
    "buffer_size = 100000\n",
    "batch_size = 32\n",
    "learn_every = 1\n",
    "\n",
    "gamma = 0.99\n",
    "tau = 1e-2"
   ]
  },
  {
   "cell_type": "code",
   "execution_count": 55,
   "metadata": {},
   "outputs": [],
   "source": [
    "mem = ReplayBuffer(buffer_size)\n",
    "\n",
    "score_log = []\n",
    "average_score_log = []\n",
    "score_window = deque(maxlen=100)"
   ]
  },
  {
   "cell_type": "code",
   "execution_count": 57,
   "metadata": {
    "scrolled": true
   },
   "outputs": [
    {
     "name": "stderr",
     "output_type": "stream",
     "text": [
      "/Library/Frameworks/Python.framework/Versions/3.6/lib/python3.6/site-packages/ipykernel_launcher.py:7: UserWarning: Using a target size (torch.Size([32, 1])) that is different to the input size (torch.Size([32, 32])). This will likely lead to incorrect results due to broadcasting. Please ensure they have the same size.\n",
      "  import sys\n"
     ]
    },
    {
     "name": "stdout",
     "output_type": "stream",
     "text": [
      "Epsiode: 0.0\tWindow Score: -114.5247\tScore: -106.4609\n",
      "Epsiode: 25.0\tWindow Score: -123.5124\tScore: -130.3281\n",
      "Epsiode: 50.0\tWindow Score: -124.5876\tScore: -130.5689\n",
      "Epsiode: 75.0\tWindow Score: -124.6794\tScore: -130.3669\n",
      "Epsiode: 100.0\tWindow Score: -124.5249\tScore: -106.8216\n",
      "Epsiode: 125.0\tWindow Score: -119.5520\tScore: -107.0661\n",
      "Epsiode: 150.0\tWindow Score: -114.6173\tScore: -102.4323\n",
      "Epsiode: 175.0\tWindow Score: -109.7886\tScore: -106.8001\n",
      "Epsiode: 200.0\tWindow Score: -105.5413\tScore: -101.7687\n",
      "Epsiode: 225.0\tWindow Score: -105.7446\tScore: -106.7777\n",
      "Epsiode: 250.0\tWindow Score: -105.4903\tScore: -103.2299\n",
      "Epsiode: 275.0\tWindow Score: -105.6383\tScore: -106.7212\n",
      "Epsiode: 300.0\tWindow Score: -105.4786\tScore: -106.8101\n",
      "Epsiode: 325.0\tWindow Score: -104.9755\tScore: -106.7395\n",
      "Epsiode: 350.0\tWindow Score: -105.1198\tScore: -103.1686\n",
      "Epsiode: 375.0\tWindow Score: -104.6425\tScore: -106.8166\n",
      "Epsiode: 400.0\tWindow Score: -104.8850\tScore: -102.7107\n",
      "Epsiode: 425.0\tWindow Score: -105.0647\tScore: -106.6807\n",
      "Epsiode: 450.0\tWindow Score: -104.6145\tScore: -106.8047\n",
      "Epsiode: 475.0\tWindow Score: -104.9736\tScore: -106.8388\n",
      "Epsiode: 500.0\tWindow Score: -104.7288\tScore: -106.6799\n",
      "Epsiode: 525.0\tWindow Score: -104.6587\tScore: -102.3425\n",
      "Epsiode: 550.0\tWindow Score: -105.0295\tScore: -106.9632\n",
      "Epsiode: 575.0\tWindow Score: -104.5665\tScore: -106.9066\n",
      "Epsiode: 600.0\tWindow Score: -104.8462\tScore: -101.7021\n",
      "Epsiode: 625.0\tWindow Score: -104.7691\tScore: -106.6953\n",
      "Epsiode: 650.0\tWindow Score: -104.2627\tScore: -101.7512\n",
      "Epsiode: 675.0\tWindow Score: -104.7771\tScore: -102.4590\n",
      "Epsiode: 700.0\tWindow Score: -104.2955\tScore: -106.7542\n",
      "Epsiode: 725.0\tWindow Score: -104.1785\tScore: -101.6566\n",
      "Epsiode: 750.0\tWindow Score: -104.4781\tScore: -106.8657\n",
      "Epsiode: 775.0\tWindow Score: -103.8526\tScore: -101.7427\n",
      "Epsiode: 800.0\tWindow Score: -104.2630\tScore: -103.4501\n",
      "Epsiode: 825.0\tWindow Score: -104.1549\tScore: -103.2512\n",
      "Epsiode: 850.0\tWindow Score: -103.9396\tScore: -101.7760\n",
      "Epsiode: 875.0\tWindow Score: -104.3263\tScore: -106.7582\n",
      "Epsiode: 900.0\tWindow Score: -103.6840\tScore: -106.7669\n",
      "Epsiode: 925.0\tWindow Score: -104.0041\tScore: -101.7362\n",
      "Epsiode: 950.0\tWindow Score: -104.0325\tScore: -106.5719\n",
      "Epsiode: 975.0\tWindow Score: -103.4924\tScore: -101.7191\n",
      "Epsiode: 1000.0\tWindow Score: -104.0088\tScore: -102.3070\n",
      "Epsiode: 1025.0\tWindow Score: -103.5499\tScore: -106.7839\n",
      "Epsiode: 1050.0\tWindow Score: -103.5350\tScore: -101.7154\n",
      "Epsiode: 1075.0\tWindow Score: -103.9707\tScore: -106.8615\n",
      "Epsiode: 1100.0\tWindow Score: -103.3093\tScore: -101.7618\n",
      "Epsiode: 1125.0\tWindow Score: -103.6828\tScore: -101.7619\n",
      "Epsiode: 1150.0\tWindow Score: -103.5319\tScore: -106.7354\n",
      "Epsiode: 1175.0\tWindow Score: -103.1213\tScore: -102.4316\n",
      "Epsiode: 1200.0\tWindow Score: -103.4988\tScore: -102.5727\n",
      "Epsiode: 1225.0\tWindow Score: -102.9329\tScore: -101.7491\n",
      "Epsiode: 1250.0\tWindow Score: -103.0039\tScore: -102.5916\n",
      "Epsiode: 1275.0\tWindow Score: -103.1690\tScore: -106.9824\n",
      "Epsiode: 1300.0\tWindow Score: -102.8426\tScore: -101.7279\n",
      "Epsiode: 1325.0\tWindow Score: -103.1596\tScore: -101.7609\n",
      "Epsiode: 1350.0\tWindow Score: -102.8907\tScore: -106.9591\n",
      "Epsiode: 1375.0\tWindow Score: -102.6266\tScore: -101.7398\n",
      "Epsiode: 1400.0\tWindow Score: -102.7704\tScore: -105.2468\n",
      "Epsiode: 1425.0\tWindow Score: -102.4700\tScore: -101.7538\n",
      "Epsiode: 1450.0\tWindow Score: -102.5752\tScore: -101.7126\n",
      "Epsiode: 1475.0\tWindow Score: -102.6288\tScore: -106.9089\n",
      "Epsiode: 1500.0\tWindow Score: -102.5638\tScore: -103.4737\n",
      "Epsiode: 1525.0\tWindow Score: -102.6353\tScore: -102.3618\n",
      "Epsiode: 1550.0\tWindow Score: -102.4993\tScore: -102.7184\n",
      "Epsiode: 1575.0\tWindow Score: -102.4368\tScore: -101.7634\n",
      "Epsiode: 1600.0\tWindow Score: -102.5371\tScore: -106.7493\n",
      "Epsiode: 1625.0\tWindow Score: -103.4741\tScore: -106.5262\n",
      "Epsiode: 1650.0\tWindow Score: -104.3627\tScore: -106.7270\n",
      "Epsiode: 1675.0\tWindow Score: -105.2690\tScore: -106.7293\n",
      "Epsiode: 1700.0\tWindow Score: -105.9182\tScore: -106.6899\n",
      "Epsiode: 1725.0\tWindow Score: -105.6431\tScore: -106.5602\n",
      "Epsiode: 1750.0\tWindow Score: -105.6439\tScore: -106.6822\n",
      "Epsiode: 1775.0\tWindow Score: -105.4276\tScore: -106.8542\n",
      "Epsiode: 1800.0\tWindow Score: -105.3767\tScore: -101.7584\n",
      "Epsiode: 1825.0\tWindow Score: -105.6964\tScore: -106.6584\n",
      "Epsiode: 1850.0\tWindow Score: -105.4997\tScore: -106.6795\n",
      "Epsiode: 1875.0\tWindow Score: -105.7380\tScore: -106.7330\n",
      "Epsiode: 1900.0\tWindow Score: -105.6632\tScore: -106.7487\n",
      "Epsiode: 1925.0\tWindow Score: -105.3161\tScore: -106.7166\n",
      "Epsiode: 1950.0\tWindow Score: -105.5572\tScore: -106.8792\n",
      "Epsiode: 1975.0\tWindow Score: -105.1663\tScore: -106.7797\n",
      "Epsiode: 1999.0\tWindow Score: -105.2969\tScore: -102.4597"
     ]
    }
   ],
   "source": [
    "for episode in range(max_e):\n",
    "    state = env.reset()\n",
    "    score = 0\n",
    "    for t in range(max_t):\n",
    "        action = actor.act(state, add_noise=True)\n",
    "        next_state, reward, done, _ = env.step(action)\n",
    "        mem.push(state, action, reward, next_state, done)\n",
    "        score += reward\n",
    "\n",
    "\n",
    "        \n",
    "        if len(mem) > batch_size and t % learn_every == 0:\n",
    "            learn()\n",
    "\n",
    "        if done:\n",
    "            break;\n",
    "        \n",
    "        state = next_state\n",
    "    \n",
    "    score_log.append(score)\n",
    "    score_window.append(score)\n",
    "    average_score_log.append(np.mean(score_window))\n",
    "    \n",
    "    print(\"\\rEpsiode: {:.1f}\\tWindow Score: {:.4f}\\tScore: {:.4f}\".format(episode, np.mean(score_window), score), end=\"\")    \n",
    "    if (episode % 25 == 0):\n",
    "        print(\"\\rEpsiode: {:.1f}\\tWindow Score: {:.4f}\\tScore: {:.4f}\".format(episode, np.mean(score_window), score))\n",
    "\n",
    "\n"
   ]
  },
  {
   "cell_type": "code",
   "execution_count": 58,
   "metadata": {},
   "outputs": [
    {
     "data": {
      "text/plain": [
       "[<matplotlib.lines.Line2D at 0x123787438>]"
      ]
     },
     "execution_count": 58,
     "metadata": {},
     "output_type": "execute_result"
    },
    {
     "data": {
      "image/png": "[encoded data removed]",
      "text/plain": [
       "<Figure size 432x288 with 1 Axes>"
      ]
     },
     "metadata": {
      "needs_background": "light"
     },
     "output_type": "display_data"
    }
   ],
   "source": [
    "plt.plot(score_log)\n",
    "plt.plot(average_score_log)"
   ]
  },
  {
   "cell_type": "code",
   "execution_count": null,
   "metadata": {},
   "outputs": [],
   "source": [
    "torch.save(actor.state_dict(), \"{}_actor_model.pth\".format(env_name))\n",
    "torch.save(critic.state_dict(), \"{}_critic_model.pth\".format(env_name))"
   ]
  },
  {
   "cell_type": "markdown",
   "metadata": {},
   "source": [
    "## Watch"
   ]
  },
  {
   "cell_type": "code",
   "execution_count": null,
   "metadata": {},
   "outputs": [
    {
     "name": "stdout",
     "output_type": "stream",
     "text": [
      "\n",
      "-101.83665820300703\n",
      "\n",
      "-102.77995098551425\n"
     ]
    }
   ],
   "source": [
    "for episode in range(3):\n",
    "    state = env.reset()\n",
    "    score = 0\n",
    "    input()\n",
    "\n",
    "    for t in range(max_t):\n",
    "        action = actor.act(state, add_noise=False)\n",
    "        next_state, reward, done, _ = env.step(action)\n",
    "        env.render()\n",
    "        \n",
    "        score += reward\n",
    "        \n",
    "        if done:\n",
    "            print(score)\n",
    "            break;\n",
    "\n",
    "env.close()"
   ]
  },
  {
   "cell_type": "code",
   "execution_count": null,
   "metadata": {},
   "outputs": [],
   "source": []
  },
  {
   "cell_type": "code",
   "execution_count": null,
   "metadata": {},
   "outputs": [],
   "source": []
  }
 ],
 "metadata": {
  "kernelspec": {
   "display_name": "Python 3",
   "language": "python",
   "name": "python3"
  },
  "language_info": {
   "codemirror_mode": {
    "name": "ipython",
    "version": 3
   },
   "file_extension": ".py",
   "mimetype": "text/x-python",
   "name": "python",
   "nbconvert_exporter": "python",
   "pygments_lexer": "ipython3",
   "version": "3.6.8"
  }
 },
 "nbformat": 4,
 "nbformat_minor": 2
}
