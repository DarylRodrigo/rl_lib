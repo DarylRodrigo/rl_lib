{
 "cells": [
  {
   "cell_type": "code",
   "execution_count": 1,
   "metadata": {},
   "outputs": [],
   "source": [
    "%load_ext autoreload\n",
    "%autoreload 2"
   ]
  },
  {
   "cell_type": "code",
   "execution_count": 2,
   "metadata": {},
   "outputs": [],
   "source": [
    "import numpy as np\n",
    "from collections import deque\n",
    "from matplotlib import pyplot as plt\n",
    "\n",
    "import torch\n",
    "import torch.nn as nn\n",
    "import torch.optim as optim\n",
    "import torch.nn.functional as F\n",
    "from torch.distributions import Categorical"
   ]
  },
  {
   "cell_type": "code",
   "execution_count": 3,
   "metadata": {},
   "outputs": [],
   "source": [
    "device = torch.device(\"cuda:0\" if torch.cuda.is_available() else \"cpu\")"
   ]
  },
  {
   "cell_type": "code",
   "execution_count": 4,
   "metadata": {},
   "outputs": [],
   "source": [
    "class Network(nn.Module):\n",
    "    def __init__(self, state_space, action_space, seed):\n",
    "        super(Network, self).__init__()\n",
    "\n",
    "        self.model = nn.Sequential(\n",
    "            nn.Linear(state_space, 16),\n",
    "            nn.ReLU(),\n",
    "#             nn.Linear(64, 64),\n",
    "#             nn.ReLU(),\n",
    "            nn.Linear(16, action_space)\n",
    "        )\n",
    "\n",
    "    def forward(self, x):\n",
    "        return F.softmax(self.model(torch.tensor(x).float()))\n",
    "    \n",
    "    \n",
    "    def act(self, x):\n",
    "        x = torch.from_numpy(x).float().to(device)\n",
    "        # https://pytorch.org/docs/stable/distributions.html#score-function\n",
    "        probabilities = self.forward(x)\n",
    "        m = Categorical(probabilities)\n",
    "        action = m.sample()\n",
    "        log = m.log_prob(action)\n",
    "        \n",
    "        return action, log"
   ]
  },
  {
   "cell_type": "code",
   "execution_count": 5,
   "metadata": {},
   "outputs": [],
   "source": [
    "import gym\n",
    "env = gym.make(\"CartPole-v1\")\n",
    "\n",
    "state_space = env.observation_space.shape[0]\n",
    "action_space =env.action_space.n"
   ]
  },
  {
   "cell_type": "code",
   "execution_count": 13,
   "metadata": {},
   "outputs": [],
   "source": [
    "max_episodes = 2000\n",
    "max_t = 500\n",
    "update_every = 4\n",
    "gamma = 0.99\n",
    "win_condition = 200"
   ]
  },
  {
   "cell_type": "code",
   "execution_count": 14,
   "metadata": {},
   "outputs": [],
   "source": [
    "def update_model():\n",
    "    discounts = [gamma ** i for i in range(len(reward_log)+1)]    \n",
    "    rewards = [discount * reward for (discount, reward) in zip(discounts, reward_log)]\n",
    "    G = np.array(rewards).sum()\n",
    "    \n",
    "    policy_loss = np.array([ -log * G for log in policy_log]).sum()\n",
    "    \n",
    "    optimiser.zero_grad()\n",
    "    policy_loss.backward()\n",
    "    optimiser.step()"
   ]
  },
  {
   "cell_type": "code",
   "execution_count": 19,
   "metadata": {},
   "outputs": [
    {
     "name": "stderr",
     "output_type": "stream",
     "text": [
      "/home/ubuntu/anaconda3/lib/python3.6/site-packages/ipykernel_launcher.py:14: UserWarning: To copy construct from a tensor, it is recommended to use sourceTensor.clone().detach() or sourceTensor.clone().detach().requires_grad_(True), rather than torch.tensor(sourceTensor).\n",
      "  \n",
      "/home/ubuntu/anaconda3/lib/python3.6/site-packages/ipykernel_launcher.py:14: UserWarning: Implicit dimension choice for softmax has been deprecated. Change the call to include dim=X as an argument.\n",
      "  \n"
     ]
    },
    {
     "name": "stdout",
     "output_type": "stream",
     "text": [
      " Episode: 0.0\tAverage Score 17.00\tReward: 17.00\n",
      " Episode: 100.0\tAverage Score 28.02\tReward: 37.15\n",
      " Episode: 200.0\tAverage Score 37.74\tReward: 47.84\n",
      " Episode: 300.0\tAverage Score 41.28\tReward: 57.15\n",
      " Episode: 400.0\tAverage Score 46.26\tReward: 58.41\n",
      " Episode: 500.0\tAverage Score 50.47\tReward: 70.91\n",
      " Episode: 600.0\tAverage Score 54.68\tReward: 97.73\n",
      " Episode: 700.0\tAverage Score 69.59\tReward: 196.80\n",
      " Episode: 718.0\tAverage Score 72.77\tReward: 200.11Environment Solved!\n"
     ]
    }
   ],
   "source": [
    "model = Network(state_space, action_space, 1234).to(device)\n",
    "optimiser = optim.Adam(model.parameters(),lr=1e-2)\n",
    "\n",
    "scores_deque = deque(maxlen=100)\n",
    "\n",
    "score_log = []\n",
    "average_score_log = []\n",
    "\n",
    "for episode in range(max_episodes):\n",
    "    state = env.reset()\n",
    "    \n",
    "    policy_log = []\n",
    "    reward_log = []\n",
    "    \n",
    "    for t in range(max_t):\n",
    "        action, log = model.act(state)\n",
    "        state, reward, done, info = env.step(action.cpu().item())\n",
    "        \n",
    "        reward_log.append(reward)\n",
    "        policy_log.append(log)\n",
    "        \n",
    "        if done:\n",
    "            break\n",
    "        \n",
    "    update_model()\n",
    "    \n",
    "    scores_deque.append(np.array(reward_log).sum())\n",
    "    \n",
    "    # Book Keeping\n",
    "    score_log.append(np.array(reward_log).sum())\n",
    "    average_score_log.append(np.array(scores_deque).mean())\n",
    "    \n",
    "        \n",
    "    print(\"\\r Episode: {:.1f}\\tAverage Score {:.2f}\\tReward: {:.2f}\".format(episode, np.mean(average_score_log), np.array(scores_deque).mean()), end=\"\")\n",
    "    if (episode % 100 == 0):\n",
    "        print(\"\\r Episode: {:.1f}\\tAverage Score {:.2f}\\tReward: {:.2f}\".format(episode, np.mean(average_score_log), np.array(scores_deque).mean()))\n",
    "\n",
    "    if np.mean(scores_deque) > win_condition:\n",
    "        print(\"\\rEnvironment Solved!\")\n",
    "        break"
   ]
  },
  {
   "cell_type": "code",
   "execution_count": 20,
   "metadata": {},
   "outputs": [
    {
     "data": {
      "text/plain": [
       "[<matplotlib.lines.Line2D at 0x7fa3a4dd9048>]"
      ]
     },
     "execution_count": 20,
     "metadata": {},
     "output_type": "execute_result"
    },
    {
     "data": {
      "image/png": "[encoded data removed]",
      "text/plain": [
       "<Figure size 432x288 with 1 Axes>"
      ]
     },
     "metadata": {},
     "output_type": "display_data"
    }
   ],
   "source": [
    "plt.plot(score_log)\n",
    "plt.plot(average_score_log)"
   ]
  },
  {
   "cell_type": "code",
   "execution_count": null,
   "metadata": {},
   "outputs": [],
   "source": [
    "for episode in range(3):\n",
    "    state = env.reset()\n",
    "    score = 0\n",
    "    input()\n",
    "\n",
    "    for t in range(max_t):\n",
    "        action = actor.act(state, add_noise=False)\n",
    "        next_state, reward, done, _ = env.step(action)\n",
    "        env.render()\n",
    "        \n",
    "        score += reward\n",
    "        \n",
    "        if done:\n",
    "            print(score)\n",
    "            break;\n",
    "\n",
    "env.close()"
   ]
  }
 ],
 "metadata": {
  "kernelspec": {
   "display_name": "Python 3",
   "language": "python",
   "name": "python3"
  },
  "language_info": {
   "codemirror_mode": {
    "name": "ipython",
    "version": 3
   },
   "file_extension": ".py",
   "mimetype": "text/x-python",
   "name": "python",
   "nbconvert_exporter": "python",
   "pygments_lexer": "ipython3",
   "version": "3.6.8"
  }
 },
 "nbformat": 4,
 "nbformat_minor": 2
}
