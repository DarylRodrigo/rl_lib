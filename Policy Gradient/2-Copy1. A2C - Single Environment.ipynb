{
 "cells": [
  {
   "cell_type": "code",
   "execution_count": 13,
   "metadata": {},
   "outputs": [
    {
     "name": "stdout",
     "output_type": "stream",
     "text": [
      "The autoreload extension is already loaded. To reload it, use:\n",
      "  %reload_ext autoreload\n"
     ]
    }
   ],
   "source": [
    "%load_ext autoreload\n",
    "%autoreload 2\n",
    "\n",
    "import gym\n",
    "from matplotlib import pyplot as plt\n",
    "from collections import deque\n",
    "import numpy as np\n",
    "\n",
    "import numpy as np\n",
    "import torch\n",
    "import torch.nn as nn\n",
    "import torch.nn.functional as F\n",
    "import torch.optim as optim\n",
    "from torch.distributions import Categorical"
   ]
  },
  {
   "cell_type": "code",
   "execution_count": 14,
   "metadata": {},
   "outputs": [],
   "source": [
    "device = torch.device(\"cuda:0\" if torch.cuda.is_available() else \"cpu\")"
   ]
  },
  {
   "cell_type": "code",
   "execution_count": 15,
   "metadata": {},
   "outputs": [],
   "source": [
    "def mish(input):\n",
    "    return input * torch.tanh(F.softplus(input))\n",
    "\n",
    "class Mish(nn.Module):\n",
    "    def __init__(self): super().__init__()\n",
    "    def forward(self, input): return mish(input)"
   ]
  },
  {
   "cell_type": "code",
   "execution_count": 32,
   "metadata": {},
   "outputs": [],
   "source": [
    "class Actor(nn.Module):\n",
    "    def __init__(self, state_dim, n_actions, activation=nn.Tanh):\n",
    "        super().__init__()\n",
    "        self.n_actions = n_actions\n",
    "        self.model = nn.Sequential(\n",
    "            nn.Linear(state_dim, 512),\n",
    "            activation(),\n",
    "            nn.Linear(512, 128),\n",
    "            activation(),\n",
    "            nn.Linear(128, n_actions)\n",
    "        )\n",
    "        \n",
    "        logstds_param = nn.Parameter(torch.full((n_actions,), 0.1))\n",
    "        self.register_parameter(\"logstds\", logstds_param)\n",
    "    \n",
    "    def forward(self, X):\n",
    "        means = self.model(X)\n",
    "        stds = torch.clamp(self.logstds.exp(), 1e-3, 50)\n",
    "        \n",
    "        return torch.distributions.Normal(means, stds)\n",
    "    \n",
    "## Critic module\n",
    "class Critic(nn.Module):\n",
    "    def __init__(self, state_dim, activation=nn.Tanh):\n",
    "        super().__init__()\n",
    "        self.model = nn.Sequential(\n",
    "            nn.Linear(state_dim, 1024),\n",
    "            activation(),\n",
    "            nn.Linear(1024, 512),\n",
    "            activation(),\n",
    "            nn.Linear(512, 1),\n",
    "        )\n",
    "    \n",
    "    def forward(self, X):\n",
    "        return self.model(X)\n",
    "\n",
    "class Memory:\n",
    "    def __init__(self):\n",
    "        self.log_probs = []\n",
    "        self.values = []\n",
    "        self.dones = []\n",
    "        self.rewards = []\n",
    "        self.actions = []\n",
    "        self.states = []\n",
    "    \n",
    "    def add(self, log_prob, value, done, reward, action, states):\n",
    "        self.log_probs.append(log_prob)\n",
    "        self.values.append(value)\n",
    "        self.dones.append(done)\n",
    "        self.rewards.append(reward)\n",
    "        self.actions.append(action)\n",
    "        self.states.append(state)\n",
    "    \n",
    "    def clear(self):\n",
    "        self.log_probs = []\n",
    "        self.values = []\n",
    "        self.dones = []\n",
    "        self.rewards = []\n",
    "        self.actions = []\n",
    "        self.states = []\n",
    "    \n",
    "    def __len__(self):\n",
    "        return len(self.log_probs)"
   ]
  },
  {
   "cell_type": "code",
   "execution_count": 33,
   "metadata": {},
   "outputs": [],
   "source": [
    "def clip_grad_norm_(module, max_grad_norm=0.5):\n",
    "    nn.utils.clip_grad_norm_([p for g in module.param_groups for p in g[\"params\"]], max_grad_norm)"
   ]
  },
  {
   "cell_type": "code",
   "execution_count": 34,
   "metadata": {},
   "outputs": [],
   "source": [
    "def update(mem, next_state):\n",
    "    q_values = []\n",
    "    \n",
    "    # Do not add this one as it's for the next state\n",
    "    running_reward = critic(torch.tensor(next_state).float().to(device))\n",
    "    \n",
    "    for reward, done in zip(reversed(mem.rewards), reversed(mem.dones)):\n",
    "        running_reward = (reward + gamma * running_reward) * (1-done)\n",
    "        \n",
    "        q_values.append(running_reward)\n",
    "    \n",
    "    q_values = torch.stack(q_values).to(device)\n",
    "    values = torch.stack(mem.values).to(device)\n",
    "    log_probs = torch.stack(mem.log_probs).to(device)\n",
    "    \n",
    "    advantage = q_values - values\n",
    "    \n",
    "    critic_loss = torch.pow(advantage, 2).mean()\n",
    "    \n",
    "    clip_grad_norm_(critic_optim)\n",
    "    \n",
    "    critic_optim.zero_grad()\n",
    "    critic_loss.backward(retain_graph=True)\n",
    "    critic_optim.step()\n",
    "    \n",
    "    # Actor\n",
    "    states = torch.FloatTensor(mem.states)\n",
    "    normal_dists = actor(states)\n",
    "    entropy = normal_dists.entropy().mean()\n",
    "\n",
    "    actor_loss = (-log_probs * advantage).mean() - entropy*0.5\n",
    "    \n",
    "    clip_grad_norm_(actor_optim)\n",
    "    actor_optim.zero_grad()\n",
    "    actor_loss.backward(retain_graph=True)\n",
    "    actor_optim.step()\n",
    "    \n"
   ]
  },
  {
   "cell_type": "code",
   "execution_count": 35,
   "metadata": {},
   "outputs": [],
   "source": [
    "# env = gym.make(\"CartPole-v1\")\n",
    "# env = gym.make(\"LunarLander-v2\")\n",
    "env = gym.make(\"Pendulum-v0\")\n",
    "\n",
    "\n",
    "state_space = env.observation_space.shape[0]\n",
    "action_space = env.action_space.shape[0]"
   ]
  },
  {
   "cell_type": "code",
   "execution_count": 36,
   "metadata": {},
   "outputs": [],
   "source": [
    "win_condition = 0\n",
    "\n",
    "num_episodes = 500\n",
    "bootstrap_len = 16\n",
    "\n",
    "gamma = 0.99"
   ]
  },
  {
   "cell_type": "code",
   "execution_count": 37,
   "metadata": {},
   "outputs": [],
   "source": [
    "mem = Memory()\n",
    "\n",
    "actor = Actor(state_space, action_space, activation=Mish).to(device)\n",
    "critic = Critic(state_space, activation=Mish).to(device)\n",
    "\n",
    "actor_optim = optim.Adam(actor.parameters(), lr=1e-3)\n",
    "critic_optim = optim.Adam(critic.parameters(), lr=1e-3)"
   ]
  },
  {
   "cell_type": "code",
   "execution_count": 38,
   "metadata": {},
   "outputs": [],
   "source": [
    "running_scores = deque(maxlen=100)\n",
    "score_log = []\n",
    "average_score_log = []"
   ]
  },
  {
   "cell_type": "code",
   "execution_count": null,
   "metadata": {},
   "outputs": [
    {
     "name": "stdout",
     "output_type": "stream",
     "text": [
      "Episode: 0.0000\taverage: -1254.5170\tReward: -1254.5170\n",
      "Episode: 48.0000\taverage: -1555.1978\tReward: -1795.3246"
     ]
    }
   ],
   "source": [
    "t = 0\n",
    "for i in range(num_episodes):\n",
    "    state = env.reset()\n",
    "    steps = 0\n",
    "    score = 0\n",
    "    \n",
    "    while True:\n",
    "        steps += 1\n",
    "            \n",
    "        dists = actor(torch.tensor(state).float().to(device))\n",
    "        actions = dists.sample()\n",
    "        actions_clipped = np.clip(actions.cpu().numpy(), env.action_space.low.min(), env.action_space.high.max())\n",
    "        \n",
    "        log_probs = dists.log_prob(actions)\n",
    "\n",
    "        next_state, reward, done, _ = env.step(actions_clipped)\n",
    "\n",
    "        \n",
    "        value = critic(torch.tensor(state).float().to(device))\n",
    "\n",
    "        mem.add(log_probs, value, done, reward, actions, state)\n",
    "\n",
    "        if (done or steps % bootstrap_len == 0):\n",
    "            update(mem, next_state)\n",
    "            mem.clear()\n",
    "        \n",
    "        if done:\n",
    "            break\n",
    "        \n",
    "        score += reward\n",
    "        state = next_state\n",
    "\n",
    "    score_log.append(score)\n",
    "    running_scores.append(score)\n",
    "    average_score_log.append(np.mean(running_scores))\n",
    "    \n",
    "    print(\"\\rEpisode: {:.4f}\\taverage: {:.4f}\\tReward: {:.4f}\".format(i, np.mean(running_scores), score), end=\"\")\n",
    "    \n",
    "    if i % 100 == 0:\n",
    "        print(\"\\rEpisode: {:.4f}\\taverage: {:.4f}\\tReward: {:.4f}\".format(i, np.mean(running_scores), score))\n",
    "    \n",
    "    if np.mean(running_scores) > win_condition:\n",
    "        print(\"\\rEnvironment Solved!\")\n",
    "        break"
   ]
  },
  {
   "cell_type": "code",
   "execution_count": null,
   "metadata": {},
   "outputs": [],
   "source": [
    "plt.plot(score_log)\n",
    "plt.plot(average_score_log)"
   ]
  },
  {
   "cell_type": "code",
   "execution_count": null,
   "metadata": {},
   "outputs": [],
   "source": []
  }
 ],
 "metadata": {
  "kernelspec": {
   "display_name": "Python 3",
   "language": "python",
   "name": "python3"
  },
  "language_info": {
   "codemirror_mode": {
    "name": "ipython",
    "version": 3
   },
   "file_extension": ".py",
   "mimetype": "text/x-python",
   "name": "python",
   "nbconvert_exporter": "python",
   "pygments_lexer": "ipython3",
   "version": "3.6.8"
  }
 },
 "nbformat": 4,
 "nbformat_minor": 2
}
