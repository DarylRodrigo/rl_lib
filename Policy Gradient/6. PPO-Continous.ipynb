{
 "cells": [
  {
   "cell_type": "code",
   "execution_count": 1,
   "metadata": {},
   "outputs": [],
   "source": [
    "%load_ext autoreload\n",
    "%autoreload 2"
   ]
  },
  {
   "cell_type": "markdown",
   "metadata": {},
   "source": [
    "Note:\n",
    "- To get this running you'll need to have installed `box2d-py` which requires `swig`"
   ]
  },
  {
   "cell_type": "code",
   "execution_count": 2,
   "metadata": {},
   "outputs": [
    {
     "name": "stdout",
     "output_type": "stream",
     "text": [
      "24\n",
      "4\n"
     ]
    },
    {
     "name": "stderr",
     "output_type": "stream",
     "text": [
      "/home/daryl/.local/lib/python3.8/site-packages/gym/logger.py:30: UserWarning: \u001b[33mWARN: Box bound precision lowered by casting to float32\u001b[0m\n",
      "  warnings.warn(colorize('%s: %s'%('WARN', msg % args), 'yellow'))\n"
     ]
    },
    {
     "data": {
      "text/plain": [
       "device(type='cuda', index=0)"
      ]
     },
     "execution_count": 2,
     "metadata": {},
     "output_type": "execute_result"
    }
   ],
   "source": [
    "\n",
    "import gym\n",
    "import random\n",
    "import torch\n",
    "import numpy as np\n",
    "from collections import deque\n",
    "import matplotlib.pyplot as plt\n",
    "from src.PPO.PPO import PPO, PPOContinuous\n",
    "import pdb\n",
    "import time\n",
    "\n",
    "env_name = \"BipedalWalker-v3\"\n",
    "# env_name = \"Pendulum-v0\"\n",
    "env = gym.make(env_name)\n",
    "\n",
    "env.seed(1234)\n",
    "\n",
    "state_size = env.observation_space.shape[0]\n",
    "action_size =env.action_space.shape[0]\n",
    "\n",
    "print(state_size)\n",
    "print(action_size)\n",
    "\n",
    "# PPO Settings\n",
    "update_every = 2000\n",
    "num_learn = 4\n",
    "win_condition = 0\n",
    "\n",
    "# Agent settings\n",
    "hidden_size=256\n",
    "epsilon=0.2\n",
    "entropy_beta=0.01\n",
    "gamma=0.99\n",
    "lr=0.0003\n",
    "\n",
    "device = torch.device(\"cuda:0\" if torch.cuda.is_available() else \"cpu\")\n",
    "device"
   ]
  },
  {
   "cell_type": "code",
   "execution_count": 3,
   "metadata": {},
   "outputs": [],
   "source": [
    "agent = PPOContinuous(state_size, action_size, hidden_size=hidden_size, epsilon=epsilon, entropy_beta=entropy_beta, gamma=gamma, lr=lr)\n",
    "\n",
    "scores_deque = deque(maxlen=100)\n",
    "scores = []\n",
    "average_scores = []\n",
    "max_score = -np.Inf"
   ]
  },
  {
   "cell_type": "code",
   "execution_count": 11,
   "metadata": {
    "scrolled": false
   },
   "outputs": [
    {
     "name": "stdout",
     "output_type": "stream",
     "text": [
      "Episode 3\tAverage Score: -3.92\tScore: -100.58"
     ]
    },
    {
     "name": "stderr",
     "output_type": "stream",
     "text": [
      "/home/daryl/Documents/projects/rl_lib/Policy Gradient/src/PPO/PPO.py:125: UserWarning: Using a target size (torch.Size([3009])) that is different to the input size (torch.Size([3009, 1])). This will likely lead to incorrect results due to broadcasting. Please ensure they have the same size.\n",
      "  loss = -torch.min(surrogate_1, surrogate_2) + 0.5*F.mse_loss(values, discounted_returns) - self.entropy_beta*entropy\n"
     ]
    },
    {
     "name": "stdout",
     "output_type": "stream",
     "text": [
      "Episode 100\tAverage Score: 41.06\tScore: 80.575\n",
      "Episode 200\tAverage Score: 52.40\tScore: 76.8712\n",
      "Episode 300\tAverage Score: 45.19\tScore: -105.21\n",
      "Episode 400\tAverage Score: 49.54\tScore: 79.9193\n",
      "Episode 500\tAverage Score: 54.86\tScore: 48.2004\n",
      "Episode 600\tAverage Score: 67.99\tScore: 105.356\n",
      "Episode 700\tAverage Score: 65.19\tScore: 116.711\n",
      "Episode 800\tAverage Score: 72.58\tScore: 102.056\n",
      "Episode 900\tAverage Score: 84.13\tScore: 104.029\n",
      "Episode 1000\tAverage Score: 84.48\tScore: -52.65\n",
      "Episode 1100\tAverage Score: 87.77\tScore: 107.909\n",
      "Episode 1200\tAverage Score: 89.85\tScore: 86.7385\n",
      "Episode 1300\tAverage Score: 76.74\tScore: 101.073\n",
      "Episode 1400\tAverage Score: 97.55\tScore: 102.844\n",
      "Episode 1500\tAverage Score: 89.68\tScore: 109.5588\n",
      "Episode 1600\tAverage Score: 99.57\tScore: 107.752\n",
      "Episode 1700\tAverage Score: 94.94\tScore: 125.161\n",
      "Episode 1800\tAverage Score: 90.38\tScore: -50.075\n",
      "Episode 1900\tAverage Score: 82.25\tScore: 116.475\n",
      "Episode 2000\tAverage Score: 37.09\tScore: 90.6085\n",
      "Episode 2100\tAverage Score: 23.17\tScore: -106.86\n",
      "Episode 2200\tAverage Score: 66.90\tScore: 103.564\n",
      "Episode 2300\tAverage Score: 79.06\tScore: 122.250\n",
      "Episode 2400\tAverage Score: 75.42\tScore: 112.393\n",
      "Episode 2500\tAverage Score: 76.28\tScore: 125.686\n",
      "Episode 2600\tAverage Score: 83.00\tScore: -55.664\n",
      "Episode 2700\tAverage Score: 72.40\tScore: 82.2074\n",
      "Episode 2800\tAverage Score: 46.48\tScore: 81.4828\n",
      "Episode 2900\tAverage Score: 54.78\tScore: 110.475\n",
      "Episode 3000\tAverage Score: 83.17\tScore: 101.083\n",
      "Episode 3100\tAverage Score: 93.60\tScore: -108.31\n",
      "Episode 3200\tAverage Score: 61.70\tScore: 118.105\n",
      "Episode 3300\tAverage Score: 86.42\tScore: -36.076\n",
      "Episode 3400\tAverage Score: 83.14\tScore: 132.180\n",
      "Episode 3500\tAverage Score: 107.25\tScore: 131.973\n",
      "Episode 3600\tAverage Score: 119.12\tScore: 129.042\n",
      "Episode 3700\tAverage Score: 97.09\tScore: 147.6279\n",
      "Episode 3800\tAverage Score: 124.41\tScore: 136.243\n",
      "Episode 3900\tAverage Score: 124.48\tScore: 153.357\n",
      "Episode 4000\tAverage Score: 121.16\tScore: 135.358\n",
      "Episode 4100\tAverage Score: 71.00\tScore: -100.274\n",
      "Episode 4200\tAverage Score: 76.75\tScore: 134.941\n",
      "Episode 4300\tAverage Score: 102.36\tScore: 151.45\n",
      "Episode 4400\tAverage Score: 92.31\tScore: -104.497\n",
      "Episode 4500\tAverage Score: 116.27\tScore: 141.113\n",
      "Episode 4600\tAverage Score: 120.58\tScore: 122.754\n",
      "Episode 4700\tAverage Score: 112.92\tScore: 136.540\n",
      "Episode 4800\tAverage Score: 117.26\tScore: 159.108\n",
      "Episode 4900\tAverage Score: 115.79\tScore: 149.415\n",
      "Episode 5000\tAverage Score: 54.37\tScore: -108.574\n",
      "Episode 5100\tAverage Score: 63.02\tScore: 134.463\n",
      "Episode 5200\tAverage Score: 40.83\tScore: 129.546\n",
      "Episode 5300\tAverage Score: 66.75\tScore: 107.182\n",
      "Episode 5400\tAverage Score: 59.65\tScore: -110.83\n",
      "Episode 5500\tAverage Score: 88.86\tScore: 134.032\n",
      "Episode 5600\tAverage Score: 60.27\tScore: 140.007\n",
      "Episode 5700\tAverage Score: 49.08\tScore: -62.089\n",
      "Episode 5800\tAverage Score: 18.47\tScore: 112.1906\n",
      "Episode 5900\tAverage Score: 98.73\tScore: 110.910\n",
      "Episode 6000\tAverage Score: 119.16\tScore: -44.346\n",
      "Episode 6100\tAverage Score: 112.81\tScore: 128.587\n",
      "Episode 6200\tAverage Score: 115.22\tScore: -113.18\n",
      "Episode 6300\tAverage Score: 119.18\tScore: 111.181\n",
      "Episode 6400\tAverage Score: 89.46\tScore: 137.9938\n",
      "Episode 6500\tAverage Score: 82.22\tScore: 109.968\n",
      "Episode 6600\tAverage Score: 78.56\tScore: 84.1210\n",
      "Episode 6700\tAverage Score: 100.71\tScore: 149.39\n",
      "Episode 6800\tAverage Score: 119.95\tScore: 172.704\n",
      "Episode 6900\tAverage Score: 111.30\tScore: 115.058\n",
      "Episode 7000\tAverage Score: 118.74\tScore: 117.598\n",
      "Episode 7100\tAverage Score: 100.76\tScore: 153.433\n",
      "Episode 7200\tAverage Score: 46.36\tScore: 99.01161\n",
      "Episode 7300\tAverage Score: -27.61\tScore: -108.58\n",
      "Episode 7400\tAverage Score: 61.28\tScore: 126.0711\n",
      "Episode 7500\tAverage Score: 109.90\tScore: -111.22\n",
      "Episode 7600\tAverage Score: 57.00\tScore: 160.9413\n",
      "Episode 7700\tAverage Score: 115.81\tScore: 149.829\n",
      "Episode 7800\tAverage Score: 66.25\tScore: -78.8014\n",
      "Episode 7900\tAverage Score: 130.54\tScore: 159.624\n",
      "Episode 8000\tAverage Score: 121.87\tScore: 154.093\n",
      "Episode 8100\tAverage Score: 111.92\tScore: 137.482\n",
      "Episode 8200\tAverage Score: 89.54\tScore: 137.4751\n",
      "Episode 8300\tAverage Score: 96.93\tScore: -115.59\n",
      "Episode 8400\tAverage Score: 108.78\tScore: 138.931\n",
      "Episode 8500\tAverage Score: 111.16\tScore: 142.826\n",
      "Episode 8600\tAverage Score: 101.23\tScore: 131.028\n",
      "Episode 8700\tAverage Score: 90.99\tScore: 123.168\n",
      "Episode 8800\tAverage Score: 102.60\tScore: 139.247\n",
      "Episode 8900\tAverage Score: 133.27\tScore: 124.900\n",
      "Episode 9000\tAverage Score: 127.85\tScore: 134.976\n",
      "Episode 9100\tAverage Score: 137.03\tScore: 149.41\n",
      "Episode 9200\tAverage Score: 136.61\tScore: 137.528\n",
      "Episode 9300\tAverage Score: 142.99\tScore: 157.730\n",
      "Episode 9400\tAverage Score: 140.18\tScore: 135.117\n",
      "Episode 9500\tAverage Score: 130.34\tScore: 152.992\n",
      "Episode 9600\tAverage Score: 129.16\tScore: 154.107\n",
      "Episode 9700\tAverage Score: 131.35\tScore: 161.26\n",
      "Episode 9800\tAverage Score: 128.00\tScore: 130.382\n",
      "Episode 9900\tAverage Score: 119.91\tScore: 145.027\n",
      "Episode 10000\tAverage Score: 126.31\tScore: 106.74\n",
      "Episode 10100\tAverage Score: 124.20\tScore: -114.03\n",
      "Episode 10200\tAverage Score: 140.09\tScore: 144.142\n",
      "Episode 10300\tAverage Score: 136.48\tScore: 136.911\n",
      "Episode 10400\tAverage Score: 148.69\tScore: 141.478\n",
      "Episode 10500\tAverage Score: 144.10\tScore: 157.434\n",
      "Episode 10600\tAverage Score: 120.83\tScore: 190.519\n",
      "Episode 10700\tAverage Score: 130.81\tScore: -114.07\n",
      "Episode 10800\tAverage Score: 114.94\tScore: 178.580\n",
      "Episode 10900\tAverage Score: 154.85\tScore: 164.472\n",
      "Episode 11000\tAverage Score: 152.22\tScore: 138.995\n",
      "Episode 11100\tAverage Score: 35.54\tScore: -31.0102\n",
      "Episode 11200\tAverage Score: -17.37\tScore: -14.700\n",
      "Episode 11300\tAverage Score: 9.43\tScore: 182.2232\n",
      "Episode 11400\tAverage Score: 131.90\tScore: 173.102\n",
      "Episode 11500\tAverage Score: 136.06\tScore: -111.10\n",
      "Episode 11600\tAverage Score: 142.30\tScore: 157.133\n",
      "Episode 11700\tAverage Score: 140.24\tScore: 130.762\n",
      "Episode 11800\tAverage Score: 148.60\tScore: 146.574\n",
      "Episode 11900\tAverage Score: 148.21\tScore: 173.597\n",
      "Episode 12000\tAverage Score: 144.10\tScore: 138.787\n",
      "Episode 12100\tAverage Score: 125.08\tScore: 153.194\n",
      "Episode 12200\tAverage Score: 133.97\tScore: 129.88\n",
      "Episode 12300\tAverage Score: 131.87\tScore: 165.731\n",
      "Episode 12400\tAverage Score: 112.49\tScore: 170.241\n",
      "Episode 12500\tAverage Score: 120.63\tScore: 171.054\n",
      "Episode 12600\tAverage Score: 131.37\tScore: 184.896\n",
      "Episode 12700\tAverage Score: 143.70\tScore: 172.068\n",
      "Episode 12800\tAverage Score: 133.65\tScore: 180.554\n",
      "Episode 12900\tAverage Score: 99.94\tScore: 191.8467\n",
      "Episode 13000\tAverage Score: 98.48\tScore: 157.0440\n",
      "Episode 13100\tAverage Score: 124.37\tScore: 136.477\n",
      "Episode 13200\tAverage Score: 137.63\tScore: 153.259\n",
      "Episode 13300\tAverage Score: 116.89\tScore: 142.59\n",
      "Episode 13400\tAverage Score: 130.74\tScore: 139.244\n",
      "Episode 13500\tAverage Score: 135.92\tScore: 133.310\n",
      "Episode 13600\tAverage Score: 147.91\tScore: 158.126\n",
      "Episode 13700\tAverage Score: 112.84\tScore: 168.204\n",
      "Episode 13800\tAverage Score: 126.10\tScore: 25.4899\n",
      "Episode 13900\tAverage Score: 128.68\tScore: 170.623\n",
      "Episode 14000\tAverage Score: 139.74\tScore: 188.773\n",
      "Episode 14100\tAverage Score: 143.62\tScore: 154.248\n",
      "Episode 14200\tAverage Score: 133.05\tScore: 185.538\n",
      "Episode 14300\tAverage Score: 120.44\tScore: 192.878\n",
      "Episode 14400\tAverage Score: 143.75\tScore: 189.888\n",
      "Episode 14500\tAverage Score: 162.71\tScore: 192.408\n",
      "Episode 14600\tAverage Score: 151.97\tScore: 177.064\n",
      "Episode 14700\tAverage Score: 145.16\tScore: 174.683\n",
      "Episode 14800\tAverage Score: 130.40\tScore: 176.205\n",
      "Episode 14900\tAverage Score: 134.73\tScore: 174.635\n",
      "Episode 15000\tAverage Score: 108.31\tScore: -118.72\n",
      "Episode 15100\tAverage Score: 75.11\tScore: 178.9593\n",
      "Episode 15200\tAverage Score: 86.17\tScore: -89.283\n",
      "Episode 15300\tAverage Score: 75.96\tScore: 204.018\n",
      "Episode 15400\tAverage Score: -3.78\tScore: -68.836\n",
      "Episode 15500\tAverage Score: -13.78\tScore: 19.7547\n",
      "Episode 15600\tAverage Score: 71.21\tScore: 155.9041\n",
      "Episode 15700\tAverage Score: 110.32\tScore: -110.21\n",
      "Episode 15800\tAverage Score: 108.05\tScore: -108.38\n",
      "Episode 15900\tAverage Score: 129.02\tScore: 175.362\n",
      "Episode 16000\tAverage Score: 140.16\tScore: 156.483\n",
      "Episode 16100\tAverage Score: 161.44\tScore: 207.301\n",
      "Episode 16200\tAverage Score: 132.10\tScore: 195.561\n",
      "Episode 16300\tAverage Score: 132.47\tScore: 176.368\n"
     ]
    },
    {
     "name": "stdout",
     "output_type": "stream",
     "text": [
      "Episode 16400\tAverage Score: 134.36\tScore: 138.194\n",
      "Episode 16500\tAverage Score: 158.32\tScore: 179.508\n",
      "Episode 16600\tAverage Score: 143.94\tScore: 171.955\n",
      "Episode 16700\tAverage Score: 41.30\tScore: -110.059\n",
      "Episode 16800\tAverage Score: 27.96\tScore: -76.295\n",
      "Episode 16900\tAverage Score: 132.86\tScore: 215.815\n",
      "Episode 17000\tAverage Score: 104.07\tScore: 179.081\n",
      "Episode 17100\tAverage Score: 104.16\tScore: 195.522\n",
      "Episode 17200\tAverage Score: 114.68\tScore: 167.076\n",
      "Episode 17300\tAverage Score: 143.48\tScore: 172.885\n",
      "Episode 17400\tAverage Score: 152.76\tScore: 204.695\n",
      "Episode 17500\tAverage Score: 88.41\tScore: -24.1881\n",
      "Episode 17600\tAverage Score: 35.51\tScore: 205.020\n",
      "Episode 17700\tAverage Score: 98.38\tScore: 169.625\n",
      "Episode 17800\tAverage Score: 127.51\tScore: 170.046\n",
      "Episode 17900\tAverage Score: 140.09\tScore: 143.233\n",
      "Episode 18000\tAverage Score: 154.98\tScore: 213.984\n",
      "Episode 18100\tAverage Score: 167.00\tScore: 180.653\n",
      "Episode 18200\tAverage Score: 171.11\tScore: 192.643\n",
      "Episode 18300\tAverage Score: 180.31\tScore: 142.510\n",
      "Episode 18400\tAverage Score: 175.59\tScore: 199.300\n",
      "Episode 18500\tAverage Score: 171.61\tScore: 191.041\n",
      "Episode 18600\tAverage Score: 141.24\tScore: 177.756\n",
      "Episode 18700\tAverage Score: 163.34\tScore: 191.067\n",
      "Episode 18800\tAverage Score: 103.96\tScore: -0.9773\n",
      "Episode 18900\tAverage Score: 113.38\tScore: -49.066\n",
      "Episode 19000\tAverage Score: 163.49\tScore: 179.329\n",
      "Episode 19100\tAverage Score: 162.31\tScore: 210.759\n",
      "Episode 19200\tAverage Score: 153.41\tScore: 195.264\n",
      "Episode 19300\tAverage Score: 123.27\tScore: 219.648\n",
      "Episode 19400\tAverage Score: 98.86\tScore: 182.2560\n",
      "Episode 19500\tAverage Score: 133.15\tScore: 187.891\n",
      "Episode 19600\tAverage Score: 156.10\tScore: -44.301\n",
      "Episode 19700\tAverage Score: 178.09\tScore: 173.911\n",
      "Episode 19800\tAverage Score: 167.28\tScore: 191.860\n",
      "Episode 19900\tAverage Score: 143.59\tScore: 28.3056\n",
      "Episode 20000\tAverage Score: 144.80\tScore: 210.663\n"
     ]
    }
   ],
   "source": [
    "def train(n_episodes=20000, max_t=1500):\n",
    "#   agent = PPO(state_size, action_size, hidden_size=hidden_size, epsilon=epsilon, entropy_beta=entropy_beta, gamma=gamma, lr=lr)\n",
    "  steps = 0\n",
    "\n",
    "  for episode in range(1, n_episodes+1):\n",
    "    state = env.reset()\n",
    "    score = 0\n",
    "    \n",
    "    for t in range(max_t):\n",
    "      steps += 1\n",
    "\n",
    "      actions_tensor, log_prob = agent.act(torch.FloatTensor(state).to(device))\n",
    "      actions = actions_tensor.cpu().data.numpy().flatten()\n",
    "      next_state, reward, done, _ = env.step(actions_tensor.cpu().numpy())\n",
    "\n",
    "      agent.mem.add(torch.FloatTensor(state), actions, reward, log_prob, done)\n",
    "\n",
    "      # Update \n",
    "      state = next_state\n",
    "      score += reward\n",
    "\n",
    "      if steps >= update_every:\n",
    "        start_time = time.time()\n",
    "        \n",
    "        agent.learn(num_learn)\n",
    "        agent.mem.clear()\n",
    "        steps = 0\n",
    "\n",
    "#         print(\"\\rLearning Time: {}\".format(time.time()-start_time))\n",
    "\n",
    "      if done:\n",
    "        break\n",
    "    \n",
    "    # Book Keeping\n",
    "    scores_deque.append(score)\n",
    "    scores.append(score)\n",
    "    average_scores.append(np.mean(scores_deque))\n",
    "      \n",
    "\n",
    "    print(\"\\rEpisode {}\tAverage Score: {:.2f}\tScore: {:.2f}\".format(episode, np.mean(scores_deque), score), end=\"\")\n",
    "\n",
    "    if episode % 100 == 0:\n",
    "      print(\"\\rEpisode {}\tAverage Score: {:.2f}\".format(episode, np.mean(scores_deque)))   \n",
    "      torch.save(agent.model.state_dict(), \"walker_ppo_model_{}.pth\".format(episode))\n",
    "      torch.save(agent.model_old.state_dict(), \"walker_ppo_model_old_{}.pth\".format(episode))\n",
    "    \n",
    "    if np.mean(scores_deque) > 300:\n",
    "      print(\"\\rEnvironment Solved in {} episodes!\".format(episode))\n",
    "      torch.save(agent.model.state_dict(), \"walker_ppo_model_solved.pth\")\n",
    "      torch.save(agent.model_old.state_dict(), \"walker_ppo_model_old_selved.pth\")\n",
    "      break\n",
    "\n",
    "\n",
    "  return scores, average_scores\n",
    "\n",
    "scores, average_scores = train()"
   ]
  },
  {
   "cell_type": "raw",
   "metadata": {},
   "source": [
    "torch.save(agent.model.state_dict(), \"Pendulum-v0_model.pth\")\n",
    "torch.save(agent.model_old.state_dict(), \"Pendulum-v0_model_old.pth\")"
   ]
  },
  {
   "cell_type": "code",
   "execution_count": 6,
   "metadata": {},
   "outputs": [],
   "source": [
    "torch.save(agent.model.state_dict(), \"BipedalWalker-v2_model.pth\")\n",
    "torch.save(agent.model_old.state_dict(), \"BipedalWalker-v2_model_old.pth\")"
   ]
  },
  {
   "cell_type": "code",
   "execution_count": 10,
   "metadata": {
    "scrolled": true
   },
   "outputs": [
    {
     "data": {
      "text/plain": [
       "[<matplotlib.lines.Line2D at 0x7f2c83962f40>]"
      ]
     },
     "execution_count": 10,
     "metadata": {},
     "output_type": "execute_result"
    },
    {
     "data": {
      "image/png": "[encoded data removed]",
      "text/plain": [
       "<Figure size 432x288 with 1 Axes>"
      ]
     },
     "metadata": {
      "needs_background": "light"
     },
     "output_type": "display_data"
    }
   ],
   "source": [
    "plt.plot(scores)\n",
    "plt.plot(average_scores)"
   ]
  },
  {
   "cell_type": "code",
   "execution_count": 8,
   "metadata": {},
   "outputs": [
    {
     "name": "stdout",
     "output_type": "stream",
     "text": [
      "\n",
      "19.841471224294317\n",
      "\n",
      "23.671279096625117\n"
     ]
    }
   ],
   "source": [
    "for episode in range(2):\n",
    "    state = env.reset()\n",
    "    score = 0\n",
    "    input()\n",
    "\n",
    "    for t in range(1500):\n",
    "        actions_tensor, log_prob = agent.act(torch.FloatTensor(state).to(device))\n",
    "        actions = actions_tensor.cpu().data.numpy().flatten()\n",
    "        next_state, reward, done, _ = env.step(actions_tensor.cpu().numpy())\n",
    "        \n",
    "        score += reward\n",
    "        \n",
    "        env.render()\n",
    "        \n",
    "        if done:\n",
    "            break;\n",
    "        \n",
    "        state = next_state\n",
    "\n",
    "    print(score)\n",
    "env.close()"
   ]
  },
  {
   "cell_type": "code",
   "execution_count": 12,
   "metadata": {},
   "outputs": [],
   "source": [
    "env.close()"
   ]
  },
  {
   "cell_type": "code",
   "execution_count": null,
   "metadata": {},
   "outputs": [],
   "source": []
  }
 ],
 "metadata": {
  "kernelspec": {
   "display_name": "Python 3",
   "language": "python",
   "name": "python3"
  },
  "language_info": {
   "codemirror_mode": {
    "name": "ipython",
    "version": 3
   },
   "file_extension": ".py",
   "mimetype": "text/x-python",
   "name": "python",
   "nbconvert_exporter": "python",
   "pygments_lexer": "ipython3",
   "version": "3.8.5"
  }
 },
 "nbformat": 4,
 "nbformat_minor": 2
}
