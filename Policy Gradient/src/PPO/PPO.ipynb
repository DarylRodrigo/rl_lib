{
 "cells": [
  {
   "cell_type": "code",
   "execution_count": 1,
   "metadata": {},
   "outputs": [],
   "source": [
    "%load_ext autoreload\n",
    "%autoreload 2"
   ]
  },
  {
   "cell_type": "code",
   "execution_count": 6,
   "metadata": {},
   "outputs": [
    {
     "name": "stdout",
     "output_type": "stream",
     "text": [
      "Episode 100\tAverage Score: -252.87\tScore: -323.85\n",
      "Episode 200\tAverage Score: -104.32\tScore: -86.410\n",
      "Episode 300\tAverage Score: -40.65\tScore: -46.14\n",
      "Episode 400\tAverage Score: 0.67\tScore: 47.4995\n",
      "Episode 500\tAverage Score: 1.99\tScore: 36.1086\n",
      "Episode 600\tAverage Score: 26.80\tScore: 57.3889\n",
      "Episode 700\tAverage Score: 45.10\tScore: -57.80\n",
      "Episode 800\tAverage Score: 56.55\tScore: 23.031\n",
      "Episode 900\tAverage Score: 67.64\tScore: 27.961\n",
      "Episode 1000\tAverage Score: 101.69\tScore: 179.78\n",
      "Episode 1100\tAverage Score: 85.46\tScore: 253.332\n",
      "Episode 1200\tAverage Score: 119.07\tScore: 224.45\n",
      "Episode 1300\tAverage Score: 119.98\tScore: 65.0294\n",
      "Episode 1400\tAverage Score: 146.08\tScore: 156.31\n",
      "Episode 1500\tAverage Score: 125.33\tScore: 232.23\n",
      "Episode 1600\tAverage Score: 157.39\tScore: 214.24\n",
      "Episode 1700\tAverage Score: 153.18\tScore: 249.31\n",
      "Episode 1800\tAverage Score: 150.13\tScore: 157.16\n",
      "Episode 1900\tAverage Score: 157.77\tScore: 134.67\n",
      "Episode 2000\tAverage Score: 163.16\tScore: 230.97\n"
     ]
    }
   ],
   "source": [
    "import gym\n",
    "import random\n",
    "import torch\n",
    "import numpy as np\n",
    "from collections import deque\n",
    "import matplotlib.pyplot as plt\n",
    "from PPO import PPO\n",
    "\n",
    "env = gym.make('CartPole-v1')\n",
    "env = gym.make('LunarLander-v2')\n",
    "env.seed(10)\n",
    "\n",
    "state_size = env.observation_space.shape[0]\n",
    "action_size =env.action_space.n\n",
    "\n",
    "# PPO Settings\n",
    "update_every = 2000\n",
    "num_learn = 4\n",
    "win_condition = 200\n",
    "\n",
    "# Agent settings\n",
    "hidden_size=512\n",
    "epsilon=0.2\n",
    "entropy_beta=0.01\n",
    "gamma=0.99\n",
    "lr=1e-3\n",
    "\n",
    "agent = PPO(state_size, action_size, hidden_size=hidden_size, epsilon=epsilon, entropy_beta=entropy_beta, gamma=gamma, lr=lr)\n",
    "\n",
    "def train(n_episodes=2000, max_t=700):\n",
    "  steps = 0\n",
    "  scores_deque = deque(maxlen=100)\n",
    "  scores = []\n",
    "  average_scores = []\n",
    "  max_score = -np.Inf\n",
    "\n",
    "#   agent = PPO(state_size, action_size, hidden_size=hidden_size, epsilon=epsilon, entropy_beta=entropy_beta, gamma=gamma, lr=lr)\n",
    "\n",
    "  for episode in range(1, n_episodes+1):\n",
    "    state = env.reset()\n",
    "    score = 0\n",
    "    \n",
    "    for t in range(max_t):\n",
    "      steps += 1\n",
    "\n",
    "      action, log_prob = agent.act(torch.FloatTensor(state))\n",
    "      next_state, reward, done, _ = env.step(action.item())\n",
    "\n",
    "      agent.mem.add(torch.FloatTensor(state), action, reward, log_prob, done)\n",
    "\n",
    "      # Update \n",
    "      state = next_state\n",
    "      score += reward\n",
    "\n",
    "      if steps >= update_every:\n",
    "        agent.learn(num_learn)\n",
    "        agent.mem.clear()\n",
    "        steps = 0\n",
    "\n",
    "      if done:\n",
    "        break\n",
    "    \n",
    "    # Book Keeping\n",
    "    scores_deque.append(score)\n",
    "    scores.append(score)\n",
    "    average_scores.append(np.mean(scores_deque))\n",
    "      \n",
    "    if episode % 10 == 0:\n",
    "      print(\"\\rEpisode {}\tAverage Score: {:.2f}\tScore: {:.2f}\".format(episode, np.mean(scores_deque), score), end=\"\")\n",
    "    if episode % 100 == 0:\n",
    "      print(\"\\rEpisode {}\tAverage Score: {:.2f}\".format(episode, np.mean(scores_deque)))   \n",
    "    \n",
    "    if np.mean(scores_deque) > win_condition:\n",
    "      print(\"\\rEnvironment Solved in {} episodes!\".format(episode))\n",
    "      break\n",
    "\n",
    "\n",
    "  return scores, average_scores\n",
    "\n",
    "scores, average_scores = train()"
   ]
  },
  {
   "cell_type": "code",
   "execution_count": 3,
   "metadata": {},
   "outputs": [
    {
     "data": {
      "text/plain": [
       "[<matplotlib.lines.Line2D at 0x11ec89048>]"
      ]
     },
     "execution_count": 3,
     "metadata": {},
     "output_type": "execute_result"
    },
    {
     "data": {
      "image/png": "[encoded data removed]",
      "text/plain": [
       "<Figure size 432x288 with 1 Axes>"
      ]
     },
     "metadata": {
      "needs_background": "light"
     },
     "output_type": "display_data"
    }
   ],
   "source": [
    "plt.plot(scores)\n",
    "plt.plot(average_scores)"
   ]
  },
  {
   "cell_type": "code",
   "execution_count": 10,
   "metadata": {},
   "outputs": [
    {
     "name": "stdout",
     "output_type": "stream",
     "text": [
      "\n",
      "220.59598801132688\n",
      "\n",
      "\n",
      "295.22099514090326\n"
     ]
    }
   ],
   "source": [
    "for episode in range(3):\n",
    "    state = env.reset()\n",
    "    score = 0\n",
    "    input()\n",
    "\n",
    "    for t in range(700):\n",
    "        action, log_prob = agent.act(torch.FloatTensor(state))\n",
    "        next_state, reward, done, _ = env.step(action.item())\n",
    "        env.render()\n",
    "        \n",
    "        score += reward\n",
    "        \n",
    "        if done:\n",
    "            print(score)\n",
    "            break;\n",
    "        \n",
    "        state = next_state\n",
    "\n",
    "env.close()"
   ]
  },
  {
   "cell_type": "code",
   "execution_count": null,
   "metadata": {},
   "outputs": [],
   "source": []
  }
 ],
 "metadata": {
  "kernelspec": {
   "display_name": "Python 3",
   "language": "python",
   "name": "python3"
  },
  "language_info": {
   "codemirror_mode": {
    "name": "ipython",
    "version": 3
   },
   "file_extension": ".py",
   "mimetype": "text/x-python",
   "name": "python",
   "nbconvert_exporter": "python",
   "pygments_lexer": "ipython3",
   "version": "3.6.8"
  }
 },
 "nbformat": 4,
 "nbformat_minor": 2
}
