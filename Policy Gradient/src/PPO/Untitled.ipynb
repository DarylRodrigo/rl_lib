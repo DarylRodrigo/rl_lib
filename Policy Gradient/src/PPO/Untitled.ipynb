{
 "cells": [
  {
   "cell_type": "code",
   "execution_count": 6,
   "metadata": {},
   "outputs": [],
   "source": [
    "%load_ext autoreload\n",
    "%autoreload 2"
   ]
  },
  {
   "cell_type": "code",
   "execution_count": 7,
   "metadata": {},
   "outputs": [],
   "source": [
    "from ActorCritic import ActorCritic\n",
    "from Memory import Memory\n",
    "import torch\n",
    "import torch.optim as optim\n",
    "import torch.nn.functional as F\n",
    "import copy\n",
    "import pdb\n",
    "from torch.distributions import Categorical\n",
    "\n",
    "device = torch.device(\"cuda:0\" if torch.cuda.is_available() else \"cpu\")\n",
    "\n",
    "class PPO:\n",
    "  def __init__(self, state_space, action_space, hidden_size=64, epsilon=0.2, entropy_beta=0.01, gamma=0.99):\n",
    "    self.mem = Memory()\n",
    "\n",
    "    self.gamma = gamma\n",
    "    self.epsilon = epsilon\n",
    "    self.entropy_beta = entropy_beta\n",
    "\n",
    "    self.model = ActorCritic(state_space, action_space, hidden_size)\n",
    "    self.model_old = ActorCritic(state_space, action_space, hidden_size) \n",
    "\n",
    "    self.model_old.load_state_dict(self.model.state_dict())\n",
    "\n",
    "    self.optimiser = optim.Adam(self.model.parameters(), lr=1e-3)\n",
    "  \n",
    "  def act(self, x):\n",
    "    return self.model_old.act(x)\n",
    "  \n",
    "  def test(self):\n",
    "    # prev_states = torch.stack(self.mem.states).to(device).detach()\n",
    "    # prev_actions = torch.stack(self.mem.actions).to(device).detach()\n",
    "    # prev_log_probs = torch.stack(self.mem.log_probs).to(device).detach()\n",
    "\n",
    "    \n",
    "\n",
    "    for s, a in zip(self.mem.states, self.mem.actions):\n",
    "      _, lp, _, _ = self.model.evaluate(s, a)\n",
    "      _, lp2, _, _ = self.model_old.evaluate(s, a)\n",
    "      print(\"eval second time: {}, old: {}\".format(lp, lp2))\n",
    "\n",
    "    prev_actions = torch.stack(self.mem.actions).unsqueeze(dim=1).to(device).detach()\n",
    "    prev_states = torch.stack(self.mem.states).to(device).detach()\n",
    "    prev_log_probs = torch.stack(self.mem.log_probs).to(device).detach()\n",
    "    \n",
    "    pdb.set_trace()\n",
    "\n",
    "  def learn(self, num_learn):\n",
    "    # Calculate discounted rewards\n",
    "    discounted_returns = []\n",
    "    running_reward = 0\n",
    "\n",
    "    for reward, done in zip(reversed(self.mem.rewards), reversed(self.mem.dones)):\n",
    "      if done:\n",
    "        running_reward = 0\n",
    "      running_reward = reward + self.gamma * running_reward\n",
    "\n",
    "      discounted_returns.insert(0,running_reward)\n",
    "\n",
    "    # normalise rewards\n",
    "    discounted_returns = torch.FloatTensor(discounted_returns)\n",
    "    discounted_returns = (discounted_returns - discounted_returns.mean()) / (discounted_returns.std() + 1e-5)\n",
    "\n",
    "    prev_states = torch.stack(self.mem.states).to(device).detach()\n",
    "    prev_actions = torch.stack(self.mem.actions).to(device).detach()\n",
    "    prev_log_probs = torch.stack(self.mem.log_probs).to(device).detach()\n",
    "\n",
    "    for i in range(num_learn):\n",
    "      pdb.set_trace()\n",
    "\n",
    "      # find ratios\n",
    "      actions, log_probs, values, entropy = self.model.evaluate(prev_states, prev_actions)\n",
    "      ratio = torch.exp(log_probs - prev_log_probs.detach())\n",
    "\n",
    "      print(\"\")\n",
    "      print(prev_log_probs)\n",
    "      actions, log_probs, values, entropy = self.model.evaluate(prev_states, prev_actions)\n",
    "      print(log_probs)\n",
    "      actions, log_probs, values, entropy = self.model_old.evaluate(prev_states, prev_actions)\n",
    "      print(log_probs)\n",
    "\n",
    "      pdb.set_trace()\n",
    "\n",
    "      # calculate advantage\n",
    "      advantage = discounted_returns - values.detach()\n",
    "\n",
    "      # calculate surrogates\n",
    "      surrogate_1 = ratio * advantage\n",
    "      surrogate_2 = torch.clamp(advantage, 1-self.epsilon, 1+self.epsilon)\n",
    "      loss = -torch.min(surrogate_1, surrogate_2) + F.mse_loss(values, discounted_returns) - self.entropy_beta*entropy\n",
    "\n",
    "      loss = loss.mean()\n",
    "\n",
    "      # calculate gradient\n",
    "      self.optimiser.zero_grad()\n",
    "      loss.backward()\n",
    "      self.optimiser.step()\n",
    "    \n",
    "    self.model_old.load_state_dict(self.model.state_dict())"
   ]
  },
  {
   "cell_type": "code",
   "execution_count": 10,
   "metadata": {
    "scrolled": true
   },
   "outputs": [],
   "source": [
    "import gym\n",
    "import random\n",
    "import torch\n",
    "import numpy as np\n",
    "from collections import deque\n",
    "import matplotlib.pyplot as plt\n",
    "from PPO import PPO\n",
    "\n",
    "env = gym.make('CartPole-v1')\n",
    "env.seed(10)\n",
    "\n",
    "state_size = env.observation_space.shape[0]\n",
    "action_size =env.action_space.n\n",
    "\n",
    "# PPO Settings\n",
    "update_every = 10\n",
    "num_learn = 4\n",
    "\n",
    "steps = 0\n",
    "scores_deque = deque(maxlen=100)\n",
    "scores = []\n",
    "max_score = -np.Inf\n",
    "\n",
    "agent = PPO(state_size, action_size)\n",
    "\n",
    "state = env.reset()\n",
    "score = 0\n",
    "\n",
    "sl = []\n",
    "al = []\n",
    "\n",
    "\n",
    "for t in range(update_every):\n",
    "    steps += 1\n",
    "\n",
    "    state = torch.from_numpy(state).float()\n",
    "    action, log_prob = agent.model_old.act(state)\n",
    "    next_state, reward, done, _ = env.step(action.item())\n",
    "\n",
    "    sl.append(state)\n",
    "    al.append(action)\n",
    "\n",
    "    agent.mem.add(state, action, reward, log_prob, done)\n",
    "\n",
    "    # Update \n",
    "    state = next_state\n",
    "    score += reward\n",
    "\n",
    "    # Book Keeping\n",
    "    scores_deque.append(score)\n",
    "    scores.append(score)\n",
    "\n",
    "\n",
    "    if done:\n",
    "        state = env.reset() "
   ]
  },
  {
   "cell_type": "code",
   "execution_count": 14,
   "metadata": {},
   "outputs": [
    {
     "name": "stdout",
     "output_type": "stream",
     "text": [
      "Logits: tensor([ 0.0090, -0.0493], grad_fn=<AddBackward0>), values: tensor([0.0524], grad_fn=<AddBackward0>)\n",
      "Logits: tensor([ 0.0138, -0.0107], grad_fn=<AddBackward0>), values: tensor([0.0280], grad_fn=<AddBackward0>)\n",
      "Logits: tensor([0.0092, 0.0239], grad_fn=<AddBackward0>), values: tensor([0.0130], grad_fn=<AddBackward0>)\n",
      "Logits: tensor([ 0.0138, -0.0071], grad_fn=<AddBackward0>), values: tensor([0.0271], grad_fn=<AddBackward0>)\n",
      "Logits: tensor([ 0.0102, -0.0454], grad_fn=<AddBackward0>), values: tensor([0.0491], grad_fn=<AddBackward0>)\n",
      "Logits: tensor([ 0.0127, -0.0034], grad_fn=<AddBackward0>), values: tensor([0.0260], grad_fn=<AddBackward0>)\n",
      "Logits: tensor([ 0.0108, -0.0428], grad_fn=<AddBackward0>), values: tensor([0.0468], grad_fn=<AddBackward0>)\n",
      "Logits: tensor([-0.0001, -0.0598], grad_fn=<AddBackward0>), values: tensor([0.0703], grad_fn=<AddBackward0>)\n",
      "Logits: tensor([ 0.0111, -0.0398], grad_fn=<AddBackward0>), values: tensor([0.0436], grad_fn=<AddBackward0>)\n",
      "Logits: tensor([0.0099, 0.0045], grad_fn=<AddBackward0>), values: tensor([0.0237], grad_fn=<AddBackward0>)\n"
     ]
    }
   ],
   "source": [
    "alt = torch.stack(al).to(device)\n",
    "slt = torch.stack(sl).to(device)\n",
    "\n",
    "# print(alt)\n",
    "# print(slt)\n",
    "# print(llt)\n",
    "\n",
    "for s, a in zip(sl, al):\n",
    "    logits, value = agent.model(s)\n",
    "    print(\"Logits: {}, values: {}\".format(logits, value))"
   ]
  },
  {
   "cell_type": "code",
   "execution_count": 15,
   "metadata": {},
   "outputs": [
    {
     "name": "stdout",
     "output_type": "stream",
     "text": [
      "logits: tensor([[ 0.0090, -0.0493],\n",
      "        [ 0.0138, -0.0107],\n",
      "        [ 0.0092,  0.0239],\n",
      "        [ 0.0138, -0.0071],\n",
      "        [ 0.0102, -0.0454],\n",
      "        [ 0.0127, -0.0034],\n",
      "        [ 0.0108, -0.0428],\n",
      "        [-0.0001, -0.0598],\n",
      "        [ 0.0111, -0.0398],\n",
      "        [ 0.0099,  0.0045]], grad_fn=<AddmmBackward>)\n",
      "softmax: tensor([[0.5146, 0.4854],\n",
      "        [0.5061, 0.4939],\n",
      "        [0.4963, 0.5037],\n",
      "        [0.5052, 0.4948],\n",
      "        [0.5139, 0.4861],\n",
      "        [0.5040, 0.4960],\n",
      "        [0.5134, 0.4866],\n",
      "        [0.5149, 0.4851],\n",
      "        [0.5127, 0.4873],\n",
      "        [0.5014, 0.4986]], grad_fn=<SoftmaxBackward>)\n"
     ]
    }
   ],
   "source": [
    "action, probs, value, entropy = agent.model.evaluate(slt, alt)\n",
    "# logits, value = agent.model(slt)\n",
    "# print(logits)\n",
    "\n",
    "# logits = F.softmax(logits, dim=0) \n",
    "# print(logits)\n",
    "# probs = Categorical(logits)\n",
    "# print(probs.log_prob(alt))"
   ]
  },
  {
   "cell_type": "code",
   "execution_count": null,
   "metadata": {},
   "outputs": [],
   "source": [
    "agent.mem.actions"
   ]
  },
  {
   "cell_type": "code",
   "execution_count": null,
   "metadata": {},
   "outputs": [],
   "source": [
    "for s, a in zip(agent.mem.states, agent.mem.actions):\n",
    "    _, lp, _, _ = agent.model.evaluate(s, a)\n",
    "    _, lp2, _, _ = agent.model_old.evaluate(s, a)\n",
    "    print(s)\n",
    "    print(\"eval second time: {}, old: {}\".format(lp, lp2))\n",
    "\n",
    "prev_actions = torch.stack(agent.mem.actions).to(device).detach()\n",
    "prev_states = torch.stack(agent.mem.states).to(device).detach()\n",
    "prev_log_probs = torch.stack(agent.mem.log_probs).to(device).detach()"
   ]
  },
  {
   "cell_type": "code",
   "execution_count": null,
   "metadata": {},
   "outputs": [],
   "source": [
    "prev_actions"
   ]
  },
  {
   "cell_type": "code",
   "execution_count": null,
   "metadata": {},
   "outputs": [],
   "source": [
    "prev_states"
   ]
  },
  {
   "cell_type": "code",
   "execution_count": null,
   "metadata": {},
   "outputs": [],
   "source": [
    "_, lg, _, _ = agent.model.evaluate(prev_states[0], prev_actions[0])\n",
    "lg"
   ]
  },
  {
   "cell_type": "code",
   "execution_count": null,
   "metadata": {},
   "outputs": [],
   "source": [
    "_, lg, _, _ = agent.model.evaluate(prev_states, prev_actions)\n",
    "lg"
   ]
  },
  {
   "cell_type": "code",
   "execution_count": null,
   "metadata": {},
   "outputs": [],
   "source": [
    "_, lg, _, _ = agent.model_old.evaluate(prev_states, prev_actions)\n",
    "lg"
   ]
  },
  {
   "cell_type": "code",
   "execution_count": null,
   "metadata": {},
   "outputs": [],
   "source": []
  }
 ],
 "metadata": {
  "kernelspec": {
   "display_name": "Python 3",
   "language": "python",
   "name": "python3"
  },
  "language_info": {
   "codemirror_mode": {
    "name": "ipython",
    "version": 3
   },
   "file_extension": ".py",
   "mimetype": "text/x-python",
   "name": "python",
   "nbconvert_exporter": "python",
   "pygments_lexer": "ipython3",
   "version": "3.6.8"
  }
 },
 "nbformat": 4,
 "nbformat_minor": 2
}
