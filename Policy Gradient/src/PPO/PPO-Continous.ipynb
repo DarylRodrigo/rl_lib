{
 "cells": [
  {
   "cell_type": "code",
   "execution_count": 1,
   "metadata": {},
   "outputs": [],
   "source": [
    "%load_ext autoreload\n",
    "%autoreload 2"
   ]
  },
  {
   "cell_type": "code",
   "execution_count": 2,
   "metadata": {},
   "outputs": [
    {
     "name": "stdout",
     "output_type": "stream",
     "text": [
      "3\n",
      "1\n"
     ]
    },
    {
     "name": "stderr",
     "output_type": "stream",
     "text": [
      "/Library/Frameworks/Python.framework/Versions/3.6/lib/python3.6/site-packages/gym/envs/registration.py:14: PkgResourcesDeprecationWarning: Parameters to load are deprecated.  Call .resolve and .require separately.\n",
      "  result = entry_point.load(False)\n"
     ]
    }
   ],
   "source": [
    "import gym\n",
    "import random\n",
    "import torch\n",
    "import numpy as np\n",
    "from collections import deque\n",
    "import matplotlib.pyplot as plt\n",
    "from PPO import PPO, PPOContinuous\n",
    "import pdb\n",
    "\n",
    "env = gym.make(\"Pendulum-v0\")\n",
    "\n",
    "env.seed(10)\n",
    "\n",
    "state_size = env.observation_space.shape[0]\n",
    "action_size =env.action_space.shape[0]\n",
    "\n",
    "print(state_size)\n",
    "print(action_size)"
   ]
  },
  {
   "cell_type": "code",
   "execution_count": null,
   "metadata": {},
   "outputs": [
    {
     "name": "stdout",
     "output_type": "stream",
     "text": [
      "Episode 19\tAverage Score: -1678.77\tScore: -1834.50"
     ]
    },
    {
     "name": "stderr",
     "output_type": "stream",
     "text": [
      "/Users/darylrodrigo/Desktop/rl_lib/Policy Gradient/src/PPO/PPO.py:129: UserWarning: Using a target size (torch.Size([4000])) that is different to the input size (torch.Size([4000, 1])). This will likely lead to incorrect results due to broadcasting. Please ensure they have the same size.\n",
      "  loss = -torch.min(surrogate_1, surrogate_2) + F.mse_loss(values, discounted_returns) - self.entropy_beta*entropy\n"
     ]
    },
    {
     "name": "stdout",
     "output_type": "stream",
     "text": [
      "Episode 100\tAverage Score: -1649.09\tScore: -1633.10\n",
      "Episode 119\tAverage Score: -1654.70\tScore: -1632.33"
     ]
    }
   ],
   "source": [
    "# PPO Settings\n",
    "update_every = 4000\n",
    "num_learn = 80\n",
    "win_condition = 0\n",
    "\n",
    "# Agent settings\n",
    "hidden_size=64\n",
    "epsilon=0.2\n",
    "entropy_beta=0.01\n",
    "gamma=0.99\n",
    "lr=0.0003\n",
    "\n",
    "agent = PPOContinuous(state_size, action_size, hidden_size=hidden_size, epsilon=epsilon, entropy_beta=entropy_beta, gamma=gamma, lr=lr)\n",
    "\n",
    "def train(n_episodes=2000, max_t=1500):\n",
    "  steps = 0\n",
    "  scores_deque = deque(maxlen=100)\n",
    "  scores = []\n",
    "  average_scores = []\n",
    "  max_score = -np.Inf\n",
    "\n",
    "#   agent = PPO(state_size, action_size, hidden_size=hidden_size, epsilon=epsilon, entropy_beta=entropy_beta, gamma=gamma, lr=lr)\n",
    "\n",
    "  for episode in range(1, n_episodes+1):\n",
    "    state = env.reset()\n",
    "    score = 0\n",
    "    \n",
    "    for t in range(max_t):\n",
    "      steps += 1\n",
    "\n",
    "      actions_tensor, log_prob = agent.act(torch.FloatTensor(state))\n",
    "      actions = actions_tensor.cpu().data.numpy().flatten()\n",
    "      next_state, reward, done, _ = env.step(actions)\n",
    "      \n",
    "      agent.mem.add(torch.FloatTensor(state), actions_tensor, reward, log_prob, done)\n",
    "\n",
    "      # Update \n",
    "      state = next_state\n",
    "      score += reward\n",
    "\n",
    "      if steps >= update_every:\n",
    "        agent.learn(num_learn)\n",
    "        agent.mem.clear()\n",
    "        steps = 0\n",
    "\n",
    "      if done:\n",
    "        break\n",
    "    \n",
    "    # Book Keeping\n",
    "    scores_deque.append(score)\n",
    "    scores.append(score)\n",
    "    average_scores.append(np.mean(scores_deque))\n",
    "      \n",
    "    print(\"\\rEpisode {}\tAverage Score: {:.2f}\tScore: {:.2f}\".format(episode, np.mean(scores_deque), score), end=\"\")\n",
    "\n",
    "    if episode % 100 == 0:\n",
    "      print(\"\\rEpisode {}\tAverage Score: {:.2f}\".format(episode, np.mean(scores_deque)))   \n",
    "    \n",
    "    if np.mean(scores_deque) > win_condition:\n",
    "      print(\"\\rEnvironment Solved in {} episodes!\".format(episode))\n",
    "      break\n",
    "\n",
    "\n",
    "  return scores, average_scores\n",
    "    \n",
    "scores, average_scores = train()"
   ]
  },
  {
   "cell_type": "code",
   "execution_count": null,
   "metadata": {},
   "outputs": [],
   "source": [
    "plt.plot(scores)\n",
    "plt.plot(average_scores)"
   ]
  },
  {
   "cell_type": "code",
   "execution_count": null,
   "metadata": {},
   "outputs": [],
   "source": [
    "for episode in range(3):\n",
    "    state = env.reset()\n",
    "    score = 0\n",
    "    input()\n",
    "\n",
    "    for t in range(700):\n",
    "        actions_tensor, log_prob = agent.act(torch.FloatTensor(state))\n",
    "        actions = actions_tensor.cpu().data.numpy().flatten()\n",
    "        next_state, reward, done, _ = env.step(actions_tensor)\n",
    "\n",
    "        \n",
    "        score += reward\n",
    "        \n",
    "        env.render()\n",
    "        \n",
    "        if done:\n",
    "            print(score)\n",
    "            break;\n",
    "        \n",
    "        state = next_state\n",
    "\n",
    "env.close()"
   ]
  },
  {
   "cell_type": "code",
   "execution_count": null,
   "metadata": {},
   "outputs": [],
   "source": []
  }
 ],
 "metadata": {
  "kernelspec": {
   "display_name": "Python 3",
   "language": "python",
   "name": "python3"
  },
  "language_info": {
   "codemirror_mode": {
    "name": "ipython",
    "version": 3
   },
   "file_extension": ".py",
   "mimetype": "text/x-python",
   "name": "python",
   "nbconvert_exporter": "python",
   "pygments_lexer": "ipython3",
   "version": "3.6.8"
  }
 },
 "nbformat": 4,
 "nbformat_minor": 2
}
