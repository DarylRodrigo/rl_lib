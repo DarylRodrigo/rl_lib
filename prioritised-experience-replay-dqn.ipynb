{
 "cells": [
  {
   "cell_type": "code",
   "execution_count": 16,
   "metadata": {},
   "outputs": [
    {
     "name": "stdout",
     "output_type": "stream",
     "text": [
      "The autoreload extension is already loaded. To reload it, use:\n",
      "  %reload_ext autoreload\n"
     ]
    }
   ],
   "source": [
    "%load_ext autoreload\n",
    "%autoreload 2"
   ]
  },
  {
   "cell_type": "code",
   "execution_count": 17,
   "metadata": {},
   "outputs": [],
   "source": [
    "import matplotlib.pyplot as plt\n",
    "import gym\n",
    "\n",
    "\n",
    "from src.utils.Config import Config\n",
    "from src.utils.Logging import Logger\n",
    "from src.components.memory import PrioritiesedReplayBuffer, ReplayBuffer\n",
    "from src.networks.models import QNetwork\n",
    "\n",
    "from src.utils.misc import train, watch"
   ]
  },
  {
   "cell_type": "code",
   "execution_count": 18,
   "metadata": {},
   "outputs": [
    {
     "name": "stdout",
     "output_type": "stream",
     "text": [
      "env: \t\tEnvSpec(CartPole-v1)\n",
      "win condition: \t195.0\n",
      "state space\t(4,)\n",
      "action space\t2\n",
      "device: \tcpu\n",
      "seed: \t\t123456789\n",
      "n_episodes: \t1500\n",
      "max_t: \t\t1000\n",
      "eps_start: \t1.0\n",
      "eps_end: \t0.01\n",
      "eps_decay: \t0.995\n",
      "eps_greedy: \tTrue\n",
      "noisy: \t\tFalse\n",
      "tau: \t\t0.001\n",
      "gamma: \t\t0.99\n",
      "lr: \t\t0.0005\n",
      "memory: \t<class 'src.components.memory.PrioritiesedReplayBuffer'>\n",
      "batch_size: \t64\n",
      "buffer_size: \t100000\n",
      "lr_annealing: \tFalse\n",
      "learn_every: \t4\n",
      "double_dqn: \tTrue\n",
      "model: \t\t<class 'src.networks.models.QNetwork'>\n",
      "save_loc: \tNone\n",
      "Logging at: logs/CartPole-v1/experiment-2020-04-16_16_16_51\n"
     ]
    }
   ],
   "source": [
    "config = Config()\n",
    "\n",
    "config.env = gym.make('CartPole-v1')\n",
    "\n",
    "config.n_episodes = 1500\n",
    "config.win_condition = 195.0\n",
    "config.memory = PrioritiesedReplayBuffer\n",
    "config.model = QNetwork\n",
    "config.double_dqn = True\n",
    "config.print_config()\n",
    "\n",
    "logger = Logger(config)"
   ]
  },
  {
   "cell_type": "code",
   "execution_count": 19,
   "metadata": {
    "scrolled": false
   },
   "outputs": [
    {
     "name": "stdout",
     "output_type": "stream",
     "text": [
      "Epi: 100\tAverage Score: 19.0400\tMean: 10.0000\tDuration: 0.0362\t#t_s: 9.0000\n",
      "Epi: 200\tAverage Score: 13.4300\tMean: 10.0000\tDuration: 0.0312\t#t_s: 9.00000\n",
      "Epi: 300\tAverage Score: 11.3300\tMean: 8.0000\tDuration: 0.0269\t#t_s: 7.000000\n",
      "Epi: 400\tAverage Score: 10.6300\tMean: 8.0000\tDuration: 0.0524\t#t_s: 7.000000\n",
      "Epi: 500\tAverage Score: 10.0800\tMean: 9.0000\tDuration: 0.0256\t#t_s: 8.000000\n",
      "Epi: 600\tAverage Score: 9.6900\tMean: 9.0000\tDuration: 0.0318\t#t_s: 8.0000000\n",
      "Epi: 700\tAverage Score: 10.0700\tMean: 9.0000\tDuration: 0.0311\t#t_s: 8.000000\n",
      "Epi: 800\tAverage Score: 11.0300\tMean: 9.0000\tDuration: 0.0249\t#t_s: 8.000000\n",
      "Epi: 900\tAverage Score: 13.4100\tMean: 22.0000\tDuration: 0.0671\t#t_s: 21.0000\n",
      "Epi: 1000\tAverage Score: 17.6200\tMean: 11.0000\tDuration: 0.0352\t#t_s: 10.00000\n",
      "Epi: 1100\tAverage Score: 24.4800\tMean: 51.0000\tDuration: 0.1539\t#t_s: 50.000000\n",
      "Epi: 1200\tAverage Score: 156.4300\tMean: 225.0000\tDuration: 0.6873\t#t_s: 224.0000\n",
      "Epi: 1223\tAverage Score: 195.4000\tMean: 278.0000\tDuration: 0.9316\t#t_s: 277.0000\n",
      "Environment Solved in 129.2686 seconds !\n"
     ]
    }
   ],
   "source": [
    "train(config, logger)"
   ]
  },
  {
   "cell_type": "code",
   "execution_count": 20,
   "metadata": {},
   "outputs": [
    {
     "data": {
      "text/plain": [
       "[<matplotlib.lines.Line2D at 0x12307b198>]"
      ]
     },
     "execution_count": 20,
     "metadata": {},
     "output_type": "execute_result"
    },
    {
     "data": {
      "image/png": "[encoded data removed]",
      "text/plain": [
       "<Figure size 432x288 with 1 Axes>"
      ]
     },
     "metadata": {
      "needs_background": "light"
     },
     "output_type": "display_data"
    }
   ],
   "source": [
    "plt.plot(logger.score)"
   ]
  },
  {
   "cell_type": "markdown",
   "metadata": {},
   "source": [
    "## Vanilla"
   ]
  },
  {
   "cell_type": "code",
   "execution_count": 21,
   "metadata": {},
   "outputs": [
    {
     "name": "stdout",
     "output_type": "stream",
     "text": [
      "env: \t\tEnvSpec(CartPole-v1)\n",
      "win condition: \t195.0\n",
      "state space\t(4,)\n",
      "action space\t2\n",
      "device: \tcpu\n",
      "seed: \t\t123456789\n",
      "n_episodes: \t2000\n",
      "max_t: \t\t1000\n",
      "eps_start: \t1.0\n",
      "eps_end: \t0.01\n",
      "eps_decay: \t0.995\n",
      "eps_greedy: \tTrue\n",
      "noisy: \t\tFalse\n",
      "tau: \t\t0.001\n",
      "gamma: \t\t0.99\n",
      "lr: \t\t0.0005\n",
      "memory: \t<class 'src.components.memory.ReplayBuffer'>\n",
      "batch_size: \t64\n",
      "buffer_size: \t100000\n",
      "lr_annealing: \tFalse\n",
      "learn_every: \t4\n",
      "double_dqn: \tTrue\n",
      "model: \t\t<class 'src.networks.models.QNetwork'>\n",
      "save_loc: \tNone\n",
      "Logging at: logs/CartPole-v1/experiment-2020-04-16_16_19_01\n"
     ]
    }
   ],
   "source": [
    "config = Config()\n",
    "\n",
    "config.env = gym.make('CartPole-v1')\n",
    "\n",
    "config.win_condition = 195.0\n",
    "config.memory = ReplayBuffer\n",
    "config.model = QNetwork\n",
    "config.double_dqn = True\n",
    "config.print_config()\n",
    "\n",
    "logger = Logger(config)"
   ]
  },
  {
   "cell_type": "code",
   "execution_count": 22,
   "metadata": {},
   "outputs": [
    {
     "name": "stdout",
     "output_type": "stream",
     "text": [
      "Epi: 100\tAverage Score: 23.0600\tMean: 13.0000\tDuration: 0.0168\t#t_s: 12.00000\n",
      "Epi: 200\tAverage Score: 13.8700\tMean: 11.0000\tDuration: 0.0213\t#t_s: 10.0000\n",
      "Epi: 300\tAverage Score: 11.8500\tMean: 8.0000\tDuration: 0.0110\t#t_s: 7.000000\n",
      "Epi: 400\tAverage Score: 11.1700\tMean: 9.0000\tDuration: 0.0129\t#t_s: 8.000000\n",
      "Epi: 500\tAverage Score: 11.2300\tMean: 9.0000\tDuration: 0.0137\t#t_s: 8.000000\n",
      "Epi: 600\tAverage Score: 10.8400\tMean: 17.0000\tDuration: 0.0239\t#t_s: 16.0000\n",
      "Epi: 700\tAverage Score: 12.5000\tMean: 18.0000\tDuration: 0.0259\t#t_s: 17.0000\n",
      "Epi: 800\tAverage Score: 13.5200\tMean: 9.0000\tDuration: 0.0155\t#t_s: 8.000000\n",
      "Epi: 900\tAverage Score: 22.4000\tMean: 44.0000\tDuration: 0.0633\t#t_s: 43.000000\n",
      "Epi: 1000\tAverage Score: 78.9900\tMean: 232.0000\tDuration: 0.3714\t#t_s: 231.0000\n",
      "Epi: 1035\tAverage Score: 196.8400\tMean: 287.0000\tDuration: 0.4187\t#t_s: 286.0000\n",
      "Environment Solved in 52.9542 seconds !\n"
     ]
    }
   ],
   "source": [
    "train(config, logger)"
   ]
  },
  {
   "cell_type": "code",
   "execution_count": 23,
   "metadata": {},
   "outputs": [
    {
     "data": {
      "text/plain": [
       "[<matplotlib.lines.Line2D at 0x1235529e8>]"
      ]
     },
     "execution_count": 23,
     "metadata": {},
     "output_type": "execute_result"
    },
    {
     "data": {
      "image/png": "[encoded data removed]",
      "text/plain": [
       "<Figure size 432x288 with 1 Axes>"
      ]
     },
     "metadata": {
      "needs_background": "light"
     },
     "output_type": "display_data"
    }
   ],
   "source": [
    "plt.plot(logger.score)"
   ]
  }
 ],
 "metadata": {
  "kernelspec": {
   "display_name": "Python 3",
   "language": "python",
   "name": "python3"
  },
  "language_info": {
   "codemirror_mode": {
    "name": "ipython",
    "version": 3
   },
   "file_extension": ".py",
   "mimetype": "text/x-python",
   "name": "python",
   "nbconvert_exporter": "python",
   "pygments_lexer": "ipython3",
   "version": "3.6.8"
  }
 },
 "nbformat": 4,
 "nbformat_minor": 2
}
