{
 "cells": [
  {
   "cell_type": "code",
   "execution_count": 1,
   "metadata": {},
   "outputs": [],
   "source": [
    "%load_ext autoreload\n",
    "%autoreload 2"
   ]
  },
  {
   "cell_type": "code",
   "execution_count": 2,
   "metadata": {},
   "outputs": [],
   "source": [
    "from collections import deque, namedtuple\n",
    "from matplotlib import pyplot as plt\n",
    "import numpy as np\n",
    "import random\n",
    "import gym\n",
    "import pdb\n",
    "\n",
    "from src.utils.OUNoise import OUNoise \n",
    "\n",
    "import torch\n",
    "import torch.nn as nn\n",
    "import torch.optim as optim\n",
    "import torch.nn.functional as F\n",
    "from torch.distributions import Categorical"
   ]
  },
  {
   "cell_type": "code",
   "execution_count": 3,
   "metadata": {},
   "outputs": [],
   "source": [
    "device = torch.device(\"cuda:0\" if torch.cuda.is_available() else \"cpu\")"
   ]
  },
  {
   "cell_type": "markdown",
   "metadata": {},
   "source": [
    "## Define Networks"
   ]
  },
  {
   "cell_type": "code",
   "execution_count": 4,
   "metadata": {},
   "outputs": [],
   "source": [
    "class Actor(nn.Module):\n",
    "    def __init__(self, state_space, action_space):\n",
    "        super(Actor, self).__init__()\n",
    "        \n",
    "        self.noise = OUNoise(action_space)\n",
    "        \n",
    "        self.head = nn.Sequential(\n",
    "            nn.Linear(state_space, 512),\n",
    "            nn.ReLU(),\n",
    "            nn.Linear(512, 128),\n",
    "            nn.ReLU(),\n",
    "            nn.Linear(128, action_space),\n",
    "            nn.Tanh()\n",
    "        )\n",
    "    \n",
    "    def forward(self, x):\n",
    "        return self.head(x)\n",
    "    \n",
    "    def act(self, state, add_noise=True):\n",
    "        \n",
    "        state = torch.from_numpy(state).float()\n",
    "        \n",
    "        action = self.forward(state).cpu().data.numpy()\n",
    "        if add_noise:\n",
    "            action += self.noise.noise()\n",
    "\n",
    "        return np.clip(action, -1, 1)\n"
   ]
  },
  {
   "cell_type": "code",
   "execution_count": 5,
   "metadata": {},
   "outputs": [],
   "source": [
    "# class Critic(nn.Module):\n",
    "#     def __init__(self, state_space, action_space):\n",
    "#         super(Critic, self).__init__()\n",
    "        \n",
    "#         self.head = nn.Sequential(\n",
    "#             nn.Linear(state_space, 1024),\n",
    "#             nn.ReLU(),\n",
    "#         )\n",
    "        \n",
    "#         self.body = nn.Sequential(\n",
    "#             nn.Linear(1024 + action_space, 512),\n",
    "#             nn.ReLU(),\n",
    "#             nn.Linear(512, 300),\n",
    "#             nn.ReLU(),\n",
    "#             nn.Linear(300, 1),\n",
    "#         )\n",
    "        \n",
    "#         self.single = nn.Sequential(\n",
    "#             nn.Linear(state_space + action_space, 256),\n",
    "#             nn.ReLU(),\n",
    "#             nn.Linear(256, 256),\n",
    "#             nn.ReLU(),\n",
    "#             nn.Linear(256, 1),\n",
    "#         )\n",
    "    \n",
    "#     def forward(self, x, actions):\n",
    "#         actions = torch.tensor(actions).float()\n",
    "#         x = torch.tensor(x).float()\n",
    "        \n",
    "#         x = self.head(x)\n",
    "#         x = self.body(torch.cat((x, actions), dim=1))\n",
    "        \n",
    "# #         x = self.single(torch.cat((x, actions), dim=1))\n",
    "#         return x"
   ]
  },
  {
   "cell_type": "code",
   "execution_count": 6,
   "metadata": {},
   "outputs": [],
   "source": [
    "class Critic(nn.Module):\n",
    "\n",
    "    def __init__(self, obs_dim, action_dim):\n",
    "        super(Critic, self).__init__()\n",
    "\n",
    "        self.obs_dim = obs_dim\n",
    "        self.action_dim = action_dim\n",
    "\n",
    "        self.linear1 = nn.Linear(self.obs_dim, 1024)\n",
    "        self.linear2 = nn.Linear(1024 + self.action_dim, 512)\n",
    "        self.linear3 = nn.Linear(512, 300)\n",
    "        self.linear4 = nn.Linear(300, 1)\n",
    "\n",
    "    def forward(self, x, a):\n",
    "        x = F.relu(self.linear1(x))\n",
    "        xa_cat = torch.cat([x,a], 1)\n",
    "        xa = F.relu(self.linear2(xa_cat))\n",
    "        xa = F.relu(self.linear3(xa))\n",
    "        qval = self.linear4(xa)\n",
    "\n",
    "        return qval\n",
    "\n",
    "# class Actor(nn.Module):\n",
    "\n",
    "#     def __init__(self, obs_dim, action_dim):\n",
    "#         super(Actor, self).__init__()\n",
    "\n",
    "#         self.obs_dim = obs_dim\n",
    "#         self.action_dim = action_dim\n",
    "\n",
    "#         self.linear1 = nn.Linear(self.obs_dim, 512)\n",
    "#         self.linear2 = nn.Linear(512, 128)\n",
    "#         self.linear3 = nn.Linear(128, self.action_dim)\n",
    "\n",
    "#     def forward(self, obs):\n",
    "#         x = F.relu(self.linear1(obs))\n",
    "#         x = F.relu(self.linear2(x))\n",
    "#         x = torch.tanh(self.linear3(x))\n",
    "\n",
    "#         return x\n",
    "    \n",
    "#     def act(self, obs, add_noise):\n",
    "#         state = torch.FloatTensor(obs).unsqueeze(0)\n",
    "#         action = self.forward(state)\n",
    "#         action = action.squeeze(0).cpu().detach().numpy()\n",
    "\n",
    "#         return action\n",
    "    \n",
    "\n",
    "\n"
   ]
  },
  {
   "cell_type": "markdown",
   "metadata": {},
   "source": [
    "## Create environment with Agents"
   ]
  },
  {
   "cell_type": "code",
   "execution_count": 7,
   "metadata": {},
   "outputs": [
    {
     "name": "stdout",
     "output_type": "stream",
     "text": [
      "State space: 3\n",
      "Action space: 1\n"
     ]
    },
    {
     "name": "stderr",
     "output_type": "stream",
     "text": [
      "/Library/Frameworks/Python.framework/Versions/3.6/lib/python3.6/site-packages/gym/envs/registration.py:14: PkgResourcesDeprecationWarning: Parameters to load are deprecated.  Call .resolve and .require separately.\n",
      "  result = entry_point.load(False)\n"
     ]
    }
   ],
   "source": [
    "import gym\n",
    "\n",
    "# env = gym.make(\"MountainCarContinuous-v0\")\n",
    "env = gym.make(\"Pendulum-v0\")\n",
    "\n",
    "state_space = env.observation_space.shape[0]\n",
    "action_space = env.action_space.shape[0]\n",
    "\n",
    "print(\"State space: {}\".format(state_space))\n",
    "print(\"Action space: {}\".format(action_space))"
   ]
  },
  {
   "cell_type": "code",
   "execution_count": 8,
   "metadata": {},
   "outputs": [],
   "source": [
    "actor = Actor(state_space, action_space).to(device)\n",
    "critic = Critic(state_space, action_space).to(device)\n",
    "\n",
    "actor_target = Actor(state_space, action_space).to(device)\n",
    "critic_target = Critic(state_space, action_space).to(device)"
   ]
  },
  {
   "cell_type": "markdown",
   "metadata": {},
   "source": [
    "### Replay Buffer"
   ]
  },
  {
   "cell_type": "code",
   "execution_count": 9,
   "metadata": {},
   "outputs": [],
   "source": [
    "class BasicBuffer:\n",
    "\n",
    "  def __init__(self, max_size):\n",
    "      self.max_size = max_size\n",
    "      self.buffer = deque(maxlen=max_size)\n",
    "\n",
    "  def push(self, state, action, reward, next_state, done):\n",
    "      experience = (state, action, np.array([reward]), next_state, done)\n",
    "      self.buffer.append(experience)\n",
    "\n",
    "  def sample(self, batch_size):\n",
    "      state_batch = []\n",
    "      action_batch = []\n",
    "      reward_batch = []\n",
    "      next_state_batch = []\n",
    "      done_batch = []\n",
    "\n",
    "      batch = random.sample(self.buffer, batch_size)\n",
    "\n",
    "      for experience in batch:\n",
    "          state, action, reward, next_state, done = experience\n",
    "          state_batch.append(state)\n",
    "          action_batch.append(action)\n",
    "          reward_batch.append(reward)\n",
    "          next_state_batch.append(next_state)\n",
    "          done_batch.append(done)\n",
    "\n",
    "      return (state_batch, action_batch, reward_batch, next_state_batch, done_batch)\n",
    "\n",
    "  def __len__(self):\n",
    "      return len(self.buffer)"
   ]
  },
  {
   "cell_type": "markdown",
   "metadata": {},
   "source": [
    "## Computing loss and updating Networks"
   ]
  },
  {
   "cell_type": "code",
   "execution_count": 10,
   "metadata": {},
   "outputs": [],
   "source": [
    "actor_optimiser = optim.Adam(actor.parameters(), lr=1e-3)\n",
    "critic_optimiser = optim.Adam(critic.parameters(), lr=1e-3)"
   ]
  },
  {
   "cell_type": "code",
   "execution_count": 11,
   "metadata": {},
   "outputs": [],
   "source": [
    "def learn():\n",
    "\n",
    "    state_batch, action_batch, reward_batch, next_state_batch, masks = mem.sample(batch_size)\n",
    "    \n",
    "    state_batch = torch.FloatTensor(state_batch)\n",
    "    action_batch = torch.FloatTensor(action_batch)\n",
    "    reward_batch = torch.FloatTensor(reward_batch)\n",
    "    next_state_batch = torch.FloatTensor(next_state_batch)\n",
    "    masks = torch.FloatTensor(masks)\n",
    "\n",
    "    curr_Q = critic.forward(state_batch, action_batch)\n",
    "\n",
    "    next_actions = actor_target.forward(next_state_batch)\n",
    "    next_Q = critic_target.forward(next_state_batch, next_actions.detach())\n",
    "    expected_Q = reward_batch + gamma * next_Q\n",
    "\n",
    "    # update critic\n",
    "    q_loss = F.mse_loss(curr_Q, expected_Q.detach())\n",
    "\n",
    "    critic_optimiser.zero_grad()\n",
    "    q_loss.backward() \n",
    "    critic_optimiser.step()\n",
    "\n",
    "    # update actor\n",
    "    policy_loss = -critic.forward(state_batch, actor.forward(state_batch)).mean()\n",
    "\n",
    "    actor_optimiser.zero_grad()\n",
    "    policy_loss.backward()\n",
    "    actor_optimiser.step()\n",
    "\n",
    "    # update target networks \n",
    "    for target_param, param in zip(actor_target.parameters(), actor.parameters()):\n",
    "        target_param.data.copy_(param.data * tau + target_param.data * (1.0 - tau))\n",
    "\n",
    "    for target_param, param in zip(critic_target.parameters(), critic.parameters()):\n",
    "        target_param.data.copy_(param.data * tau + target_param.data * (1.0 - tau))\n",
    "\n",
    "# def learn():\n",
    "# #     states, next_states, actions, rewards, dones = mem.sample(batch_size)\n",
    "#     state_batch, action_batch, reward_batch, next_state_batch, masks = mem.sample(batch_size)\n",
    "#     update_actor(states=state_batch)\n",
    "    \n",
    "#     update_critic(\n",
    "#         states=state_batch,\n",
    "#         next_states=next_state_batch,\n",
    "#         actions=action_batch,\n",
    "#         rewards=reward_batch,\n",
    "#         dones=masks\n",
    "#     )\n",
    "    \n",
    "#     update_target_networks()"
   ]
  },
  {
   "cell_type": "markdown",
   "metadata": {},
   "source": [
    "### Actor Update\n",
    "\n",
    "<img src=\"./img/ddpg/actor_update.png\" alt=\"Drawing\" style=\"height: 50px;\"/>"
   ]
  },
  {
   "cell_type": "code",
   "execution_count": 12,
   "metadata": {},
   "outputs": [],
   "source": [
    "def update_actor(states):\n",
    "#     actions_pred = actor.act(states.numpy())\n",
    "#     loss = -critic(states, actions_pred).mean()\n",
    "\n",
    "    actions_pred = actor.act(np.array(states))\n",
    "    loss = -critic(np.array(states), actions_pred).mean()\n",
    "    \n",
    "    actor_optimiser.zero_grad()\n",
    "    loss.backward()\n",
    "    actor_optimiser.step()"
   ]
  },
  {
   "cell_type": "markdown",
   "metadata": {},
   "source": [
    "### Critic Update\n",
    "\n",
    "Critic Loss:\n",
    "<img src=\"./img/ddpg/critic_loss.png\" alt=\"Drawing\" style=\"height: 30px;\"/>\n",
    "\n",
    "Critic $y_i$:\n",
    "<img src=\"./img/ddpg/critic_yi.png\" alt=\"Drawing\" style=\"height: 35px;\"/>"
   ]
  },
  {
   "cell_type": "code",
   "execution_count": 13,
   "metadata": {},
   "outputs": [],
   "source": [
    "def update_critic(states, next_states, actions, rewards, dones):\n",
    "#     next_actions = actor_target.act(next_states.numpy())\n",
    "    next_actions = actor_target.act(np.array(next_states))\n",
    "    \n",
    "    y_i =  rewards + ( gamma * critic_target(np.array(next_states), next_actions).squeeze() * (1-dones ))\n",
    "    expected_Q = critic(np.array(states), actions).squeeze()\n",
    "\n",
    "    loss = F.mse_loss(y_i, expected_Q)\n",
    "    \n",
    "    critic_optimiser.zero_grad()\n",
    "    loss.backward()\n",
    "    critic_optimiser.step()"
   ]
  },
  {
   "cell_type": "markdown",
   "metadata": {},
   "source": [
    "### Copy Weights Over"
   ]
  },
  {
   "cell_type": "code",
   "execution_count": 14,
   "metadata": {},
   "outputs": [],
   "source": [
    "def update_target_networks():\n",
    "    for target, local in zip(actor_target.parameters(), actor.parameters()):\n",
    "        target.data.copy_(tau*local.data + (1.0-tau)*target.data)\n",
    "        \n",
    "    for target, local in zip(critic_target.parameters(), critic.parameters()):\n",
    "        target.data.copy_(tau*local.data + (1.0-tau)*target.data)"
   ]
  },
  {
   "cell_type": "markdown",
   "metadata": {},
   "source": [
    "## Runner"
   ]
  },
  {
   "cell_type": "code",
   "execution_count": 15,
   "metadata": {},
   "outputs": [],
   "source": [
    "max_e = 1000\n",
    "max_t = 500\n",
    "buffer_size = 100000\n",
    "batch_size = 32\n",
    "learn_every = 1\n",
    "\n",
    "gamma = 0.99\n",
    "tau = 1e-2"
   ]
  },
  {
   "cell_type": "code",
   "execution_count": 16,
   "metadata": {},
   "outputs": [],
   "source": [
    "mem = BasicBuffer(buffer_size)\n",
    "\n",
    "score_log = []\n",
    "score_window = deque(maxlen=100)"
   ]
  },
  {
   "cell_type": "code",
   "execution_count": 18,
   "metadata": {},
   "outputs": [
    {
     "name": "stdout",
     "output_type": "stream",
     "text": [
      "Epsiode: 0.0\tWindow Score: -1167.3611\tScore: -1222.7608\n",
      "Epsiode: 1.0\tWindow Score: -1327.0833\tScore: -1646.5275\n",
      "Epsiode: 2.0\tWindow Score: -1338.3269\tScore: -1372.0579\n",
      "Epsiode: 3.0\tWindow Score: -1415.6801\tScore: -1725.0928\n",
      "Epsiode: 4.0\tWindow Score: -1378.5930\tScore: -1193.1575\n",
      "Epsiode: 5.0\tWindow Score: -1350.1367\tScore: -1179.3987\n",
      "Epsiode: 6.0\tWindow Score: -1324.6458\tScore: -1146.2098\n",
      "Epsiode: 7.0\tWindow Score: -1276.9889\tScore: -895.7332\n",
      "Epsiode: 8.0\tWindow Score: -1248.7883\tScore: -994.9829\n",
      "Epsiode: 9.0\tWindow Score: -1228.2605\tScore: -1022.9833\n",
      "Epsiode: 10.0\tWindow Score: -1188.1958\tScore: -747.4842\n",
      "Epsiode: 11.0\tWindow Score: -1145.8864\tScore: -638.1735\n"
     ]
    },
    {
     "ename": "KeyboardInterrupt",
     "evalue": "",
     "output_type": "error",
     "traceback": [
      "\u001b[0;31m---------------------------------------------------------------------------\u001b[0m",
      "\u001b[0;31mKeyboardInterrupt\u001b[0m                         Traceback (most recent call last)",
      "\u001b[0;32m<ipython-input-18-7d5d39104273>\u001b[0m in \u001b[0;36m<module>\u001b[0;34m\u001b[0m\n\u001b[1;32m     11\u001b[0m \u001b[0;34m\u001b[0m\u001b[0m\n\u001b[1;32m     12\u001b[0m         \u001b[0;32mif\u001b[0m \u001b[0mlen\u001b[0m\u001b[0;34m(\u001b[0m\u001b[0mmem\u001b[0m\u001b[0;34m)\u001b[0m \u001b[0;34m>\u001b[0m \u001b[0mbatch_size\u001b[0m \u001b[0;32mand\u001b[0m \u001b[0mt\u001b[0m \u001b[0;34m%\u001b[0m \u001b[0mlearn_every\u001b[0m \u001b[0;34m==\u001b[0m \u001b[0;36m0\u001b[0m\u001b[0;34m:\u001b[0m\u001b[0;34m\u001b[0m\u001b[0;34m\u001b[0m\u001b[0m\n\u001b[0;32m---> 13\u001b[0;31m             \u001b[0mlearn\u001b[0m\u001b[0;34m(\u001b[0m\u001b[0;34m)\u001b[0m\u001b[0;34m\u001b[0m\u001b[0;34m\u001b[0m\u001b[0m\n\u001b[0m\u001b[1;32m     14\u001b[0m \u001b[0;34m\u001b[0m\u001b[0m\n\u001b[1;32m     15\u001b[0m         \u001b[0;32mif\u001b[0m \u001b[0mdone\u001b[0m\u001b[0;34m:\u001b[0m\u001b[0;34m\u001b[0m\u001b[0;34m\u001b[0m\u001b[0m\n",
      "\u001b[0;32m<ipython-input-11-56a6e031dcbe>\u001b[0m in \u001b[0;36mlearn\u001b[0;34m()\u001b[0m\n\u001b[1;32m     23\u001b[0m \u001b[0;34m\u001b[0m\u001b[0m\n\u001b[1;32m     24\u001b[0m     \u001b[0;31m# update actor\u001b[0m\u001b[0;34m\u001b[0m\u001b[0;34m\u001b[0m\u001b[0;34m\u001b[0m\u001b[0m\n\u001b[0;32m---> 25\u001b[0;31m     \u001b[0mpolicy_loss\u001b[0m \u001b[0;34m=\u001b[0m \u001b[0;34m-\u001b[0m\u001b[0mcritic\u001b[0m\u001b[0;34m.\u001b[0m\u001b[0mforward\u001b[0m\u001b[0;34m(\u001b[0m\u001b[0mstate_batch\u001b[0m\u001b[0;34m,\u001b[0m \u001b[0mactor\u001b[0m\u001b[0;34m.\u001b[0m\u001b[0mforward\u001b[0m\u001b[0;34m(\u001b[0m\u001b[0mstate_batch\u001b[0m\u001b[0;34m)\u001b[0m\u001b[0;34m)\u001b[0m\u001b[0;34m.\u001b[0m\u001b[0mmean\u001b[0m\u001b[0;34m(\u001b[0m\u001b[0;34m)\u001b[0m\u001b[0;34m\u001b[0m\u001b[0;34m\u001b[0m\u001b[0m\n\u001b[0m\u001b[1;32m     26\u001b[0m \u001b[0;34m\u001b[0m\u001b[0m\n\u001b[1;32m     27\u001b[0m     \u001b[0mactor_optimiser\u001b[0m\u001b[0;34m.\u001b[0m\u001b[0mzero_grad\u001b[0m\u001b[0;34m(\u001b[0m\u001b[0;34m)\u001b[0m\u001b[0;34m\u001b[0m\u001b[0;34m\u001b[0m\u001b[0m\n",
      "\u001b[0;32m<ipython-input-6-98cafff9e4af>\u001b[0m in \u001b[0;36mforward\u001b[0;34m(self, x, a)\u001b[0m\n\u001b[1;32m     15\u001b[0m         \u001b[0mx\u001b[0m \u001b[0;34m=\u001b[0m \u001b[0mF\u001b[0m\u001b[0;34m.\u001b[0m\u001b[0mrelu\u001b[0m\u001b[0;34m(\u001b[0m\u001b[0mself\u001b[0m\u001b[0;34m.\u001b[0m\u001b[0mlinear1\u001b[0m\u001b[0;34m(\u001b[0m\u001b[0mx\u001b[0m\u001b[0;34m)\u001b[0m\u001b[0;34m)\u001b[0m\u001b[0;34m\u001b[0m\u001b[0;34m\u001b[0m\u001b[0m\n\u001b[1;32m     16\u001b[0m         \u001b[0mxa_cat\u001b[0m \u001b[0;34m=\u001b[0m \u001b[0mtorch\u001b[0m\u001b[0;34m.\u001b[0m\u001b[0mcat\u001b[0m\u001b[0;34m(\u001b[0m\u001b[0;34m[\u001b[0m\u001b[0mx\u001b[0m\u001b[0;34m,\u001b[0m\u001b[0ma\u001b[0m\u001b[0;34m]\u001b[0m\u001b[0;34m,\u001b[0m \u001b[0;36m1\u001b[0m\u001b[0;34m)\u001b[0m\u001b[0;34m\u001b[0m\u001b[0;34m\u001b[0m\u001b[0m\n\u001b[0;32m---> 17\u001b[0;31m         \u001b[0mxa\u001b[0m \u001b[0;34m=\u001b[0m \u001b[0mF\u001b[0m\u001b[0;34m.\u001b[0m\u001b[0mrelu\u001b[0m\u001b[0;34m(\u001b[0m\u001b[0mself\u001b[0m\u001b[0;34m.\u001b[0m\u001b[0mlinear2\u001b[0m\u001b[0;34m(\u001b[0m\u001b[0mxa_cat\u001b[0m\u001b[0;34m)\u001b[0m\u001b[0;34m)\u001b[0m\u001b[0;34m\u001b[0m\u001b[0;34m\u001b[0m\u001b[0m\n\u001b[0m\u001b[1;32m     18\u001b[0m         \u001b[0mxa\u001b[0m \u001b[0;34m=\u001b[0m \u001b[0mF\u001b[0m\u001b[0;34m.\u001b[0m\u001b[0mrelu\u001b[0m\u001b[0;34m(\u001b[0m\u001b[0mself\u001b[0m\u001b[0;34m.\u001b[0m\u001b[0mlinear3\u001b[0m\u001b[0;34m(\u001b[0m\u001b[0mxa\u001b[0m\u001b[0;34m)\u001b[0m\u001b[0;34m)\u001b[0m\u001b[0;34m\u001b[0m\u001b[0;34m\u001b[0m\u001b[0m\n\u001b[1;32m     19\u001b[0m         \u001b[0mqval\u001b[0m \u001b[0;34m=\u001b[0m \u001b[0mself\u001b[0m\u001b[0;34m.\u001b[0m\u001b[0mlinear4\u001b[0m\u001b[0;34m(\u001b[0m\u001b[0mxa\u001b[0m\u001b[0;34m)\u001b[0m\u001b[0;34m\u001b[0m\u001b[0;34m\u001b[0m\u001b[0m\n",
      "\u001b[0;32m/Library/Frameworks/Python.framework/Versions/3.6/lib/python3.6/site-packages/torch/nn/modules/module.py\u001b[0m in \u001b[0;36m__call__\u001b[0;34m(self, *input, **kwargs)\u001b[0m\n\u001b[1;32m    491\u001b[0m             \u001b[0mresult\u001b[0m \u001b[0;34m=\u001b[0m \u001b[0mself\u001b[0m\u001b[0;34m.\u001b[0m\u001b[0m_slow_forward\u001b[0m\u001b[0;34m(\u001b[0m\u001b[0;34m*\u001b[0m\u001b[0minput\u001b[0m\u001b[0;34m,\u001b[0m \u001b[0;34m**\u001b[0m\u001b[0mkwargs\u001b[0m\u001b[0;34m)\u001b[0m\u001b[0;34m\u001b[0m\u001b[0;34m\u001b[0m\u001b[0m\n\u001b[1;32m    492\u001b[0m         \u001b[0;32melse\u001b[0m\u001b[0;34m:\u001b[0m\u001b[0;34m\u001b[0m\u001b[0;34m\u001b[0m\u001b[0m\n\u001b[0;32m--> 493\u001b[0;31m             \u001b[0mresult\u001b[0m \u001b[0;34m=\u001b[0m \u001b[0mself\u001b[0m\u001b[0;34m.\u001b[0m\u001b[0mforward\u001b[0m\u001b[0;34m(\u001b[0m\u001b[0;34m*\u001b[0m\u001b[0minput\u001b[0m\u001b[0;34m,\u001b[0m \u001b[0;34m**\u001b[0m\u001b[0mkwargs\u001b[0m\u001b[0;34m)\u001b[0m\u001b[0;34m\u001b[0m\u001b[0;34m\u001b[0m\u001b[0m\n\u001b[0m\u001b[1;32m    494\u001b[0m         \u001b[0;32mfor\u001b[0m \u001b[0mhook\u001b[0m \u001b[0;32min\u001b[0m \u001b[0mself\u001b[0m\u001b[0;34m.\u001b[0m\u001b[0m_forward_hooks\u001b[0m\u001b[0;34m.\u001b[0m\u001b[0mvalues\u001b[0m\u001b[0;34m(\u001b[0m\u001b[0;34m)\u001b[0m\u001b[0;34m:\u001b[0m\u001b[0;34m\u001b[0m\u001b[0;34m\u001b[0m\u001b[0m\n\u001b[1;32m    495\u001b[0m             \u001b[0mhook_result\u001b[0m \u001b[0;34m=\u001b[0m \u001b[0mhook\u001b[0m\u001b[0;34m(\u001b[0m\u001b[0mself\u001b[0m\u001b[0;34m,\u001b[0m \u001b[0minput\u001b[0m\u001b[0;34m,\u001b[0m \u001b[0mresult\u001b[0m\u001b[0;34m)\u001b[0m\u001b[0;34m\u001b[0m\u001b[0;34m\u001b[0m\u001b[0m\n",
      "\u001b[0;32m/Library/Frameworks/Python.framework/Versions/3.6/lib/python3.6/site-packages/torch/nn/modules/linear.py\u001b[0m in \u001b[0;36mforward\u001b[0;34m(self, input)\u001b[0m\n\u001b[1;32m     90\u001b[0m     \u001b[0;34m@\u001b[0m\u001b[0mweak_script_method\u001b[0m\u001b[0;34m\u001b[0m\u001b[0;34m\u001b[0m\u001b[0m\n\u001b[1;32m     91\u001b[0m     \u001b[0;32mdef\u001b[0m \u001b[0mforward\u001b[0m\u001b[0;34m(\u001b[0m\u001b[0mself\u001b[0m\u001b[0;34m,\u001b[0m \u001b[0minput\u001b[0m\u001b[0;34m)\u001b[0m\u001b[0;34m:\u001b[0m\u001b[0;34m\u001b[0m\u001b[0;34m\u001b[0m\u001b[0m\n\u001b[0;32m---> 92\u001b[0;31m         \u001b[0;32mreturn\u001b[0m \u001b[0mF\u001b[0m\u001b[0;34m.\u001b[0m\u001b[0mlinear\u001b[0m\u001b[0;34m(\u001b[0m\u001b[0minput\u001b[0m\u001b[0;34m,\u001b[0m \u001b[0mself\u001b[0m\u001b[0;34m.\u001b[0m\u001b[0mweight\u001b[0m\u001b[0;34m,\u001b[0m \u001b[0mself\u001b[0m\u001b[0;34m.\u001b[0m\u001b[0mbias\u001b[0m\u001b[0;34m)\u001b[0m\u001b[0;34m\u001b[0m\u001b[0;34m\u001b[0m\u001b[0m\n\u001b[0m\u001b[1;32m     93\u001b[0m \u001b[0;34m\u001b[0m\u001b[0m\n\u001b[1;32m     94\u001b[0m     \u001b[0;32mdef\u001b[0m \u001b[0mextra_repr\u001b[0m\u001b[0;34m(\u001b[0m\u001b[0mself\u001b[0m\u001b[0;34m)\u001b[0m\u001b[0;34m:\u001b[0m\u001b[0;34m\u001b[0m\u001b[0;34m\u001b[0m\u001b[0m\n",
      "\u001b[0;32m/Library/Frameworks/Python.framework/Versions/3.6/lib/python3.6/site-packages/torch/nn/functional.py\u001b[0m in \u001b[0;36mlinear\u001b[0;34m(input, weight, bias)\u001b[0m\n\u001b[1;32m   1404\u001b[0m     \u001b[0;32mif\u001b[0m \u001b[0minput\u001b[0m\u001b[0;34m.\u001b[0m\u001b[0mdim\u001b[0m\u001b[0;34m(\u001b[0m\u001b[0;34m)\u001b[0m \u001b[0;34m==\u001b[0m \u001b[0;36m2\u001b[0m \u001b[0;32mand\u001b[0m \u001b[0mbias\u001b[0m \u001b[0;32mis\u001b[0m \u001b[0;32mnot\u001b[0m \u001b[0;32mNone\u001b[0m\u001b[0;34m:\u001b[0m\u001b[0;34m\u001b[0m\u001b[0;34m\u001b[0m\u001b[0m\n\u001b[1;32m   1405\u001b[0m         \u001b[0;31m# fused op is marginally faster\u001b[0m\u001b[0;34m\u001b[0m\u001b[0;34m\u001b[0m\u001b[0;34m\u001b[0m\u001b[0m\n\u001b[0;32m-> 1406\u001b[0;31m         \u001b[0mret\u001b[0m \u001b[0;34m=\u001b[0m \u001b[0mtorch\u001b[0m\u001b[0;34m.\u001b[0m\u001b[0maddmm\u001b[0m\u001b[0;34m(\u001b[0m\u001b[0mbias\u001b[0m\u001b[0;34m,\u001b[0m \u001b[0minput\u001b[0m\u001b[0;34m,\u001b[0m \u001b[0mweight\u001b[0m\u001b[0;34m.\u001b[0m\u001b[0mt\u001b[0m\u001b[0;34m(\u001b[0m\u001b[0;34m)\u001b[0m\u001b[0;34m)\u001b[0m\u001b[0;34m\u001b[0m\u001b[0;34m\u001b[0m\u001b[0m\n\u001b[0m\u001b[1;32m   1407\u001b[0m     \u001b[0;32melse\u001b[0m\u001b[0;34m:\u001b[0m\u001b[0;34m\u001b[0m\u001b[0;34m\u001b[0m\u001b[0m\n\u001b[1;32m   1408\u001b[0m         \u001b[0moutput\u001b[0m \u001b[0;34m=\u001b[0m \u001b[0minput\u001b[0m\u001b[0;34m.\u001b[0m\u001b[0mmatmul\u001b[0m\u001b[0;34m(\u001b[0m\u001b[0mweight\u001b[0m\u001b[0;34m.\u001b[0m\u001b[0mt\u001b[0m\u001b[0;34m(\u001b[0m\u001b[0;34m)\u001b[0m\u001b[0;34m)\u001b[0m\u001b[0;34m\u001b[0m\u001b[0;34m\u001b[0m\u001b[0m\n",
      "\u001b[0;31mKeyboardInterrupt\u001b[0m: "
     ]
    }
   ],
   "source": [
    "for episode in range(max_e):\n",
    "    state = env.reset()\n",
    "    score = 0\n",
    "    for t in range(max_t):\n",
    "        action = actor.act(state, add_noise=False)\n",
    "        next_state, reward, done, _ = env.step(action)\n",
    "        mem.push(state, action, reward, next_state, done)\n",
    "        score += reward\n",
    "\n",
    "\n",
    "        \n",
    "        if len(mem) > batch_size and t % learn_every == 0:\n",
    "            learn()\n",
    "\n",
    "        if done:\n",
    "            break;\n",
    "        \n",
    "        state = next_state\n",
    "    \n",
    "    score_log.append(score)\n",
    "    score_window.append(score)\n",
    "    \n",
    "#     print(\"\\rEpsiode: {:.1f}\\tWindow Score: {:.4f}\\tScore: {:.4f}\".format(episode, np.mean(score_window), score), end=\"\")    \n",
    "#     if (episode % 100 == 0):\n",
    "#         print(\"\\rEpsiode: {:.1f}\\tWindow Score: {:.4f}\\tScore: {:.4f}\".format(episode, np.mean(score_window), score))\n",
    "    print(\"\\rEpsiode: {:.1f}\\tWindow Score: {:.4f}\\tScore: {:.4f}\".format(episode, np.mean(score_window), score))\n",
    "\n"
   ]
  },
  {
   "cell_type": "code",
   "execution_count": null,
   "metadata": {},
   "outputs": [],
   "source": [
    "plt.plot(score_log)"
   ]
  },
  {
   "cell_type": "code",
   "execution_count": null,
   "metadata": {},
   "outputs": [],
   "source": []
  },
  {
   "cell_type": "code",
   "execution_count": null,
   "metadata": {},
   "outputs": [],
   "source": []
  },
  {
   "cell_type": "code",
   "execution_count": null,
   "metadata": {},
   "outputs": [],
   "source": []
  }
 ],
 "metadata": {
  "kernelspec": {
   "display_name": "Python 3",
   "language": "python",
   "name": "python3"
  },
  "language_info": {
   "codemirror_mode": {
    "name": "ipython",
    "version": 3
   },
   "file_extension": ".py",
   "mimetype": "text/x-python",
   "name": "python",
   "nbconvert_exporter": "python",
   "pygments_lexer": "ipython3",
   "version": "3.6.8"
  }
 },
 "nbformat": 4,
 "nbformat_minor": 2
}
