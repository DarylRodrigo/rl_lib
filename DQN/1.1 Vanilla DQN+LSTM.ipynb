{
 "cells": [
  {
   "cell_type": "markdown",
   "metadata": {},
   "source": [
    "# Vanilla DQN + LSTM"
   ]
  },
  {
   "cell_type": "code",
   "execution_count": 1,
   "metadata": {},
   "outputs": [],
   "source": [
    "%load_ext autoreload\n",
    "%autoreload 2"
   ]
  },
  {
   "cell_type": "code",
   "execution_count": 21,
   "metadata": {},
   "outputs": [],
   "source": [
    "import matplotlib.pyplot as plt\n",
    "import gym\n",
    "import numpy as np\n",
    "import torch\n",
    "import torch.nn as nn\n",
    "import torch.nn.functional as F\n",
    "\n",
    "\n",
    "from src.utils.Config import Config\n",
    "from src.utils.Logging import Logger\n",
    "from src.components.memory import ReplayBuffer\n",
    "\n",
    "from src.utils.misc import train, watch"
   ]
  },
  {
   "cell_type": "code",
   "execution_count": 55,
   "metadata": {},
   "outputs": [],
   "source": [
    "def hidden_init(layer):\n",
    "  fan_in = layer.weight.data.size()[0]\n",
    "  lim = 1. / np.sqrt(fan_in)\n",
    "  return (-lim, lim)\n",
    "\n",
    "class QNetwork(nn.Module):\n",
    "  def __init__(self, state_size, action_size, seed, fc1_units=64, fc2_units=64):\n",
    "    # Call inheritance\n",
    "    super(QNetwork, self).__init__()\n",
    "    self.seed = torch.manual_seed(1234)\n",
    "\n",
    "\n",
    "    \n",
    "    self.layer_size=512\n",
    "    self.layers=1\n",
    "    self.hidden=64\n",
    "    self.lstm = nn.LSTM(state_size, self.layer_size, self.layers)\n",
    "    \n",
    "    self.fc1 = nn.Linear(self.layer_size, fc1_units)\n",
    "\n",
    "    self.bn1 = nn.BatchNorm1d(fc1_units)\n",
    "\n",
    "    self.fc2 = nn.Linear(fc1_units, fc2_units)\n",
    "    self.fc3 = nn.Linear(fc2_units, action_size)\n",
    "    self.reset_parameters()\n",
    "    \n",
    "\n",
    "  def reset_parameters(self):\n",
    "    self.fc1.weight.data.uniform_(*hidden_init(self.fc1))\n",
    "    self.fc2.weight.data.uniform_(*hidden_init(self.fc2))\n",
    "    self.fc3.weight.data.uniform_(-3e-3, 3e-3)\n",
    "\n",
    "  def forward(self, state):\n",
    "    state, h = self.lstm(state.unsqueeze(0))\n",
    "    state = state.view(-1, self.layer_size)\n",
    "\n",
    "    x = F.relu(self.fc1(state))\n",
    "    x = F.relu(self.fc2(x))\n",
    "    x = self.fc3(x)\n",
    "    \n",
    "    return x\n"
   ]
  },
  {
   "cell_type": "code",
   "execution_count": 56,
   "metadata": {},
   "outputs": [
    {
     "name": "stdout",
     "output_type": "stream",
     "text": [
      "Agent Configuration:\n",
      "env: \t\tEnvSpec(CartPole-v1)\n",
      "win condition: \t195.0\n",
      "device: \tcpu\n",
      "seed: \t\t123456789\n",
      "n_episodes: \t2000\n",
      "max_t: \t\t1000\n",
      "eps_start: \t1.0\n",
      "eps_end: \t0.01\n",
      "eps_decay: \t0.995\n",
      "eps_greedy: \tTrue\n",
      "noisy: \t\tFalse\n",
      "tau: \t\t0.001\n",
      "gamma: \t\t0.99\n",
      "lr: \t\t0.0005\n",
      "memory: \t<class 'src.components.memory.ReplayBuffer'>\n",
      "batch_size: \t64\n",
      "buffer_size: \t100000\n",
      "lr_annealing: \tFalse\n",
      "learn_every: \t4\n",
      "double_dqn: \tTrue\n",
      "model: \t\t<class '__main__.QNetwork'>\n",
      "save_loc: \tNone\n",
      "<_sre.SRE_Match object; span=(0, 20), match='EnvSpec(CartPole-v1)'>\n",
      "Logging at: logs/CartPole-v1/experiment-2020-09-03_21_39_18\n"
     ]
    }
   ],
   "source": [
    "config = Config()\n",
    "\n",
    "config.env = gym.make('CartPole-v1')\n",
    "\n",
    "config.win_condition = 195.0\n",
    "config.memory = ReplayBuffer\n",
    "config.model = QNetwork\n",
    "config.double_dqn = True\n",
    "config.print_config()\n",
    "\n",
    "logger = Logger(config)"
   ]
  },
  {
   "cell_type": "code",
   "execution_count": 57,
   "metadata": {},
   "outputs": [
    {
     "name": "stdout",
     "output_type": "stream",
     "text": [
      "Epi: 100\t Frame: 2243\tAverage Score: 22.4300\tMean: 12.0000\tDuration: 0.13\t#t_s: 11.0\n",
      "Epi: 200\t Frame: 3666\tAverage Score: 14.2300\tMean: 12.0000\tDuration: 0.14\t#t_s: 11.0\n",
      "Epi: 300\t Frame: 4958\tAverage Score: 12.9200\tMean: 12.0000\tDuration: 0.13\t#t_s: 11.0\n",
      "Epi: 400\t Frame: 6082\tAverage Score: 11.2400\tMean: 10.0000\tDuration: 0.09\t#t_s: 9.0\n",
      "Epi: 500\t Frame: 7164\tAverage Score: 10.8200\tMean: 11.0000\tDuration: 0.16\t#t_s: 10.0\n",
      "Epi: 600\t Frame: 8211\tAverage Score: 10.4700\tMean: 10.0000\tDuration: 0.08\t#t_s: 9.0\n",
      "Epi: 700\t Frame: 9295\tAverage Score: 10.8400\tMean: 9.0000\tDuration: 0.08\t#t_s: 8.0\n",
      "Epi: 800\t Frame: 10459\tAverage Score: 11.6400\tMean: 10.0000\tDuration: 0.08\t#t_s: 9.0\n",
      "Epi: 900\t Frame: 11732\tAverage Score: 12.7300\tMean: 9.0000\tDuration: 0.12\t#t_s: 8.0\n",
      "Epi: 1000\t Frame: 13295\tAverage Score: 15.6300\tMean: 23.0000\tDuration: 0.23\t#t_s: 22.0\n",
      "Epi: 1100\t Frame: 20203\tAverage Score: 69.0800\tMean: 282.0000\tDuration: 10.22\t#t_s: 281.0\n",
      "Epi: 1147\t Frame: 34293 \tAverage: 196.3900\tMean: 265.0000\tDuration: 3.43\t#t_s: 264.0\n",
      "Environment Solved in 438.0535 seconds !\n"
     ]
    }
   ],
   "source": [
    "train(config, logger)"
   ]
  },
  {
   "cell_type": "code",
   "execution_count": 58,
   "metadata": {},
   "outputs": [
    {
     "data": {
      "text/plain": [
       "[<matplotlib.lines.Line2D at 0x159ddaef0>]"
      ]
     },
     "execution_count": 58,
     "metadata": {},
     "output_type": "execute_result"
    },
    {
     "data": {
      "image/png": "[encoded data removed]",
      "text/plain": [
       "<Figure size 432x288 with 1 Axes>"
      ]
     },
     "metadata": {
      "needs_background": "light"
     },
     "output_type": "display_data"
    }
   ],
   "source": [
    "plt.plot(logger.score)"
   ]
  },
  {
   "cell_type": "code",
   "execution_count": 60,
   "metadata": {},
   "outputs": [],
   "source": [
    "watch(config, logger.log_file_path)"
   ]
  }
 ],
 "metadata": {
  "kernelspec": {
   "display_name": "Python 3",
   "language": "python",
   "name": "python3"
  },
  "language_info": {
   "codemirror_mode": {
    "name": "ipython",
    "version": 3
   },
   "file_extension": ".py",
   "mimetype": "text/x-python",
   "name": "python",
   "nbconvert_exporter": "python",
   "pygments_lexer": "ipython3",
   "version": "3.6.8"
  }
 },
 "nbformat": 4,
 "nbformat_minor": 2
}
