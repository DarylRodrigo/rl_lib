{
 "cells": [
  {
   "cell_type": "code",
   "execution_count": 2,
   "metadata": {},
   "outputs": [],
   "source": [
    "%load_ext autoreload\n",
    "%autoreload 2"
   ]
  },
  {
   "cell_type": "code",
   "execution_count": 4,
   "metadata": {},
   "outputs": [],
   "source": [
    "import matplotlib.pyplot as plt\n",
    "import gym\n",
    "\n",
    "\n",
    "from src.utils.Config import Config\n",
    "from src.utils.Logging import Logger\n",
    "from src.components.memory import ReplayBuffer\n",
    "from src.networks.models import QNetwork\n",
    "\n",
    "from src.utils.misc import train, watch"
   ]
  },
  {
   "cell_type": "code",
   "execution_count": 5,
   "metadata": {},
   "outputs": [
    {
     "name": "stdout",
     "output_type": "stream",
     "text": [
      "env: \t\tEnvSpec(CartPole-v1)\n",
      "win condition: \t1905.0\n",
      "state space\t(4,)\n",
      "action space\t2\n",
      "device: \tcpu\n",
      "seed: \t\t123456789\n",
      "n_episodes: \t2000\n",
      "max_t: \t\t1000\n",
      "eps_start: \t1.0\n",
      "eps_end: \t0.01\n",
      "eps_decay: \t0.995\n",
      "eps_greedy: \tTrue\n",
      "noisy: \t\tFalse\n",
      "tau: \t\t0.001\n",
      "gamma: \t\t0.99\n",
      "lr: \t\t0.0005\n",
      "memory: \t<class 'src.components.memory.ReplayBuffer'>\n",
      "batch_size: \t64\n",
      "buffer_size: \t100000\n",
      "lr_annealing: \tFalse\n",
      "learn_every: \t4\n",
      "double_dqn: \tTrue\n",
      "model: \t\t<class 'src.networks.models.QNetwork'>\n",
      "save_loc: \tNone\n",
      "Logging at: logs/CartPole-v1/experiment-2020-04-16_15_16_21\n"
     ]
    },
    {
     "name": "stderr",
     "output_type": "stream",
     "text": [
      "/Library/Frameworks/Python.framework/Versions/3.6/lib/python3.6/site-packages/gym/envs/registration.py:14: PkgResourcesDeprecationWarning: Parameters to load are deprecated.  Call .resolve and .require separately.\n",
      "  result = entry_point.load(False)\n"
     ]
    }
   ],
   "source": [
    "config = Config()\n",
    "\n",
    "config.env = gym.make('CartPole-v1')\n",
    "\n",
    "config.win_condition = 1905.0\n",
    "config.memory = ReplayBuffer\n",
    "config.model = QNetwork\n",
    "config.double_dqn = True\n",
    "config.print_config()\n",
    "\n",
    "logger = Logger(config)"
   ]
  },
  {
   "cell_type": "code",
   "execution_count": 9,
   "metadata": {},
   "outputs": [
    {
     "name": "stdout",
     "output_type": "stream",
     "text": [
      "Epi: 100\tAverage Score: 19.1400\tMean: 9.0000\tDuration: 0.0158\t#t_s: 8.00000\n",
      "Epi: 200\tAverage Score: 13.8700\tMean: 10.0000\tDuration: 0.0197\t#t_s: 9.00000\n",
      "Epi: 300\tAverage Score: 11.5200\tMean: 10.0000\tDuration: 0.0188\t#t_s: 9.00000\n",
      "Epi: 400\tAverage Score: 10.9500\tMean: 8.0000\tDuration: 0.0111\t#t_s: 7.000000\n",
      "Epi: 500\tAverage Score: 9.9300\tMean: 9.0000\tDuration: 0.0142\t#t_s: 8.0000000\n",
      "Epi: 600\tAverage Score: 9.8000\tMean: 10.0000\tDuration: 0.0222\t#t_s: 9.000000\n",
      "Epi: 700\tAverage Score: 9.5200\tMean: 9.0000\tDuration: 0.0507\t#t_s: 8.000000\n",
      "Epi: 800\tAverage Score: 9.5400\tMean: 10.0000\tDuration: 0.0121\t#t_s: 9.00000\n",
      "Epi: 900\tAverage Score: 9.4500\tMean: 8.0000\tDuration: 0.0114\t#t_s: 7.000000\n",
      "Epi: 1000\tAverage Score: 10.8700\tMean: 103.0000\tDuration: 0.1485\t#t_s: 102.0000\n",
      "Epi: 1100\tAverage Score: 16.9000\tMean: 10.0000\tDuration: 0.0166\t#t_s: 9.0000000\n",
      "Epi: 1200\tAverage Score: 27.3500\tMean: 52.0000\tDuration: 0.0734\t#t_s: 51.000000\n",
      "Epi: 1300\tAverage Score: 82.2800\tMean: 211.0000\tDuration: 0.4316\t#t_s: 210.0000\n",
      "Epi: 1400\tAverage Score: 226.9100\tMean: 278.0000\tDuration: 0.4169\t#t_s: 277.0000\n",
      "Epi: 1500\tAverage Score: 280.5100\tMean: 252.0000\tDuration: 0.3621\t#t_s: 251.0000\n",
      "Epi: 1600\tAverage Score: 262.7100\tMean: 235.0000\tDuration: 0.3477\t#t_s: 234.0000\n",
      "Epi: 1700\tAverage Score: 213.1700\tMean: 159.0000\tDuration: 0.2377\t#t_s: 158.0000\n",
      "Epi: 1800\tAverage Score: 166.1500\tMean: 110.0000\tDuration: 0.1633\t#t_s: 109.0000\n",
      "Epi: 1900\tAverage Score: 106.6000\tMean: 103.0000\tDuration: 0.1506\t#t_s: 102.0000\n",
      "Epi: 2000\tAverage Score: 101.9200\tMean: 103.0000\tDuration: 0.1433\t#t_s: 102.0000\n"
     ]
    }
   ],
   "source": [
    "train(config, logger)"
   ]
  },
  {
   "cell_type": "code",
   "execution_count": 10,
   "metadata": {},
   "outputs": [
    {
     "data": {
      "text/plain": [
       "[<matplotlib.lines.Line2D at 0x11f447a58>]"
      ]
     },
     "execution_count": 10,
     "metadata": {},
     "output_type": "execute_result"
    },
    {
     "data": {
      "image/png": "[encoded data removed]",
      "text/plain": [
       "<Figure size 432x288 with 1 Axes>"
      ]
     },
     "metadata": {
      "needs_background": "light"
     },
     "output_type": "display_data"
    }
   ],
   "source": [
    "plt.plot(logger.score)"
   ]
  },
  {
   "cell_type": "code",
   "execution_count": 23,
   "metadata": {},
   "outputs": [
    {
     "data": {
      "text/plain": [
       "[<matplotlib.lines.Line2D at 0x1202476d8>]"
      ]
     },
     "execution_count": 23,
     "metadata": {},
     "output_type": "execute_result"
    },
    {
     "data": {
      "image/png": "[encoded data removed]",
      "text/plain": [
       "<Figure size 432x288 with 1 Axes>"
      ]
     },
     "metadata": {
      "needs_background": "light"
     },
     "output_type": "display_data"
    }
   ],
   "source": [
    "plt.plot(logger.score)"
   ]
  },
  {
   "cell_type": "code",
   "execution_count": 24,
   "metadata": {},
   "outputs": [],
   "source": [
    "watch(config, logger.log_file_path)"
   ]
  },
  {
   "cell_type": "code",
   "execution_count": null,
   "metadata": {},
   "outputs": [],
   "source": []
  }
 ],
 "metadata": {
  "kernelspec": {
   "display_name": "Python 3",
   "language": "python",
   "name": "python3"
  },
  "language_info": {
   "codemirror_mode": {
    "name": "ipython",
    "version": 3
   },
   "file_extension": ".py",
   "mimetype": "text/x-python",
   "name": "python",
   "nbconvert_exporter": "python",
   "pygments_lexer": "ipython3",
   "version": "3.6.8"
  }
 },
 "nbformat": 4,
 "nbformat_minor": 2
}
