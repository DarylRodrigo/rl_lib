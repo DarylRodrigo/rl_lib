{
 "cells": [
  {
   "cell_type": "markdown",
   "metadata": {},
   "source": [
    "# Dualing DQN\n",
    "\n",
    "**Paper**: [Dueling Network Architectures for Deep Reinforcement Learning](https://arxiv.org/pdf/1511.06581.pdf)\n",
    "\n"
   ]
  },
  {
   "cell_type": "code",
   "execution_count": 1,
   "metadata": {},
   "outputs": [],
   "source": [
    "%load_ext autoreload\n",
    "%autoreload 2"
   ]
  },
  {
   "cell_type": "code",
   "execution_count": 10,
   "metadata": {},
   "outputs": [],
   "source": [
    "import matplotlib.pyplot as plt\n",
    "import gym\n",
    "\n",
    "\n",
    "from src.utils.Config import Config\n",
    "from src.utils.Logging import Logger\n",
    "from src.components.memory import ReplayBuffer\n",
    "\n",
    "from src.utils.misc import train, watch"
   ]
  },
  {
   "cell_type": "code",
   "execution_count": null,
   "metadata": {},
   "outputs": [],
   "source": [
    "class DualingQNetwork(nn.Module):\n",
    "    def __init__(self, state_size, action_size, seed, fc1_units=64, fc2_units=64):\n",
    "    # Call inheritance\n",
    "    super(DualingQNetwork, self).__init__()\n",
    "    self.seed = torch.manual_seed(1234)\n",
    "\n",
    "    self.feature = nn.Sequential(\n",
    "        nn.Linear(state_size, fc1_units),\n",
    "        nn.ReLU()\n",
    "    )\n",
    "\n",
    "    self.advantage = nn.Sequential(\n",
    "        nn.Linear(fc1_units, fc2_units),\n",
    "        nn.ReLU(),\n",
    "        nn.Linear(fc2_units, action_size)\n",
    "    )\n",
    "\n",
    "    self.value = nn.Sequential(\n",
    "        nn.Linear(fc1_units, fc2_units),\n",
    "        nn.ReLU(),\n",
    "        nn.Linear(fc2_units, 1)\n",
    "    )\n",
    "\n",
    "    def forward(self, state):\n",
    "    x = self.feature(state)\n",
    "\n",
    "    advantage = self.advantage(x)\n",
    "    value = self.value(x)\n",
    "\n",
    "    x = value + advantage - advantage.mean()\n",
    "\n",
    "    return x"
   ]
  },
  {
   "cell_type": "code",
   "execution_count": 3,
   "metadata": {},
   "outputs": [
    {
     "name": "stdout",
     "output_type": "stream",
     "text": [
      "env: \t\tEnvSpec(CartPole-v1)\n",
      "win condition: \t1905.0\n",
      "state space\t(4,)\n",
      "action space\t2\n",
      "device: \tcpu\n",
      "seed: \t\t123456789\n",
      "n_episodes: \t2000\n",
      "max_t: \t\t1000\n",
      "eps_start: \t1.0\n",
      "eps_end: \t0.01\n",
      "eps_decay: \t0.995\n",
      "eps_greedy: \tTrue\n",
      "noisy: \t\tFalse\n",
      "tau: \t\t0.001\n",
      "gamma: \t\t0.99\n",
      "lr: \t\t0.0005\n",
      "memory: \t<class 'src.components.memory.ReplayBuffer'>\n",
      "batch_size: \t64\n",
      "buffer_size: \t100000\n",
      "lr_annealing: \tFalse\n",
      "learn_every: \t4\n",
      "double_dqn: \tTrue\n",
      "model: \t\t<class 'src.networks.models.DualingQNetwork'>\n",
      "save_loc: \tNone\n",
      "Logging at: logs/CartPole-v1/experiment-2020-04-16_15_19_48\n"
     ]
    },
    {
     "name": "stderr",
     "output_type": "stream",
     "text": [
      "/Library/Frameworks/Python.framework/Versions/3.6/lib/python3.6/site-packages/gym/envs/registration.py:14: PkgResourcesDeprecationWarning: Parameters to load are deprecated.  Call .resolve and .require separately.\n",
      "  result = entry_point.load(False)\n"
     ]
    }
   ],
   "source": [
    "config = Config()\n",
    "\n",
    "config.env = gym.make('CartPole-v1')\n",
    "\n",
    "config.win_condition = 195.0\n",
    "config.memory = ReplayBuffer\n",
    "config.model = DualingQNetwork\n",
    "config.double_dqn = True\n",
    "config.print_config()\n",
    "\n",
    "logger = Logger(config)"
   ]
  },
  {
   "cell_type": "code",
   "execution_count": 4,
   "metadata": {},
   "outputs": [
    {
     "name": "stdout",
     "output_type": "stream",
     "text": [
      "Epi: 100\tAverage Score: 23.5800\tMean: 20.0000\tDuration: 0.0421\t#t_s: 19.0000\n",
      "Epi: 200\tAverage Score: 22.9500\tMean: 29.0000\tDuration: 0.0734\t#t_s: 28.0000\n",
      "Epi: 300\tAverage Score: 71.6400\tMean: 178.0000\tDuration: 0.3558\t#t_s: 177.0000\n",
      "Epi: 400\tAverage Score: 218.8600\tMean: 208.0000\tDuration: 0.4368\t#t_s: 207.0000\n",
      "Epi: 500\tAverage Score: 237.9200\tMean: 246.0000\tDuration: 0.5146\t#t_s: 245.0000\n",
      "Epi: 600\tAverage Score: 234.7300\tMean: 214.0000\tDuration: 0.6117\t#t_s: 213.0000\n",
      "Epi: 700\tAverage Score: 258.4600\tMean: 266.0000\tDuration: 0.5710\t#t_s: 265.0000\n",
      "Epi: 800\tAverage Score: 398.4100\tMean: 273.0000\tDuration: 0.6383\t#t_s: 272.0000\n",
      "Epi: 900\tAverage Score: 292.6700\tMean: 170.0000\tDuration: 0.3603\t#t_s: 169.0000\n",
      "Epi: 1000\tAverage Score: 164.5600\tMean: 129.0000\tDuration: 0.3489\t#t_s: 128.0000\n",
      "Epi: 1100\tAverage Score: 141.9300\tMean: 132.0000\tDuration: 0.2869\t#t_s: 131.0000\n",
      "Epi: 1200\tAverage Score: 139.7400\tMean: 137.0000\tDuration: 0.2972\t#t_s: 136.0000\n",
      "Epi: 1300\tAverage Score: 125.9100\tMean: 167.0000\tDuration: 0.3558\t#t_s: 166.0000\n",
      "Epi: 1400\tAverage Score: 127.2300\tMean: 120.0000\tDuration: 0.2737\t#t_s: 119.0000\n",
      "Epi: 1500\tAverage Score: 136.0900\tMean: 130.0000\tDuration: 0.4334\t#t_s: 129.0000\n",
      "Epi: 1600\tAverage Score: 124.4900\tMean: 122.0000\tDuration: 0.2531\t#t_s: 121.0000\n",
      "Epi: 1700\tAverage Score: 126.7400\tMean: 127.0000\tDuration: 0.2702\t#t_s: 126.0000\n",
      "Epi: 1800\tAverage Score: 131.2400\tMean: 128.0000\tDuration: 0.2646\t#t_s: 127.0000\n",
      "Epi: 1900\tAverage Score: 128.2700\tMean: 123.0000\tDuration: 0.3287\t#t_s: 122.0000\n",
      "Epi: 2000\tAverage Score: 128.5500\tMean: 157.0000\tDuration: 0.3342\t#t_s: 156.0000\n"
     ]
    }
   ],
   "source": [
    "train(config, logger)"
   ]
  },
  {
   "cell_type": "code",
   "execution_count": 5,
   "metadata": {},
   "outputs": [
    {
     "data": {
      "text/plain": [
       "[<matplotlib.lines.Line2D at 0x11f470080>]"
      ]
     },
     "execution_count": 5,
     "metadata": {},
     "output_type": "execute_result"
    },
    {
     "data": {
      "image/png": "[encoded data removed]",
      "text/plain": [
       "<Figure size 432x288 with 1 Axes>"
      ]
     },
     "metadata": {
      "needs_background": "light"
     },
     "output_type": "display_data"
    }
   ],
   "source": [
    "plt.plot(logger.score)"
   ]
  },
  {
   "cell_type": "code",
   "execution_count": 12,
   "metadata": {},
   "outputs": [],
   "source": [
    "watch(config, logger.log_file_path)"
   ]
  },
  {
   "cell_type": "code",
   "execution_count": null,
   "metadata": {},
   "outputs": [],
   "source": []
  }
 ],
 "metadata": {
  "kernelspec": {
   "display_name": "Python 3",
   "language": "python",
   "name": "python3"
  },
  "language_info": {
   "codemirror_mode": {
    "name": "ipython",
    "version": 3
   },
   "file_extension": ".py",
   "mimetype": "text/x-python",
   "name": "python",
   "nbconvert_exporter": "python",
   "pygments_lexer": "ipython3",
   "version": "3.6.8"
  }
 },
 "nbformat": 4,
 "nbformat_minor": 2
}
