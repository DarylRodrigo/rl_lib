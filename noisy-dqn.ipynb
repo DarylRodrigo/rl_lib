{
 "cells": [
  {
   "cell_type": "code",
   "execution_count": 31,
   "metadata": {},
   "outputs": [
    {
     "name": "stdout",
     "output_type": "stream",
     "text": [
      "The autoreload extension is already loaded. To reload it, use:\n",
      "  %reload_ext autoreload\n"
     ]
    }
   ],
   "source": [
    "%load_ext autoreload\n",
    "%autoreload 2"
   ]
  },
  {
   "cell_type": "code",
   "execution_count": 32,
   "metadata": {},
   "outputs": [],
   "source": [
    "import matplotlib.pyplot as plt\n",
    "import gym\n",
    "\n",
    "\n",
    "from src.utils.Config import Config\n",
    "from src.utils.Logging import Logger\n",
    "from src.components.memory import ReplayBuffer, PrioritiesedReplayBuffer\n",
    "from src.networks.models import QNetwork, NoisyQNetwork, NoisyDualingQNetwork\n",
    "from src.utils.misc import train, watch"
   ]
  },
  {
   "cell_type": "code",
   "execution_count": 33,
   "metadata": {},
   "outputs": [
    {
     "name": "stdout",
     "output_type": "stream",
     "text": [
      "env: \t\tEnvSpec(CartPole-v1)\n",
      "win condition: \t195.0\n",
      "state space\t(4,)\n",
      "action space\t2\n",
      "device: \tcpu\n",
      "seed: \t\t123456789\n",
      "n_episodes: \t2000\n",
      "max_t: \t\t1000\n",
      "eps_start: \t1.0\n",
      "eps_end: \t0.01\n",
      "eps_decay: \t0.995\n",
      "eps_greedy: \tTrue\n",
      "noisy: \t\tFalse\n",
      "tau: \t\t0.001\n",
      "gamma: \t\t0.99\n",
      "lr: \t\t0.0005\n",
      "memory: \t<class 'src.components.memory.PrioritiesedReplayBuffer'>\n",
      "batch_size: \t64\n",
      "buffer_size: \t100000\n",
      "lr_annealing: \tFalse\n",
      "learn_every: \t4\n",
      "double_dqn: \tFalse\n",
      "model: \t\t<class 'src.networks.models.NoisyQNetwork'>\n",
      "save_loc: \tNone\n",
      "Logging at: logs/CartPole-v1/experiment-2020-04-19_15_31_48\n"
     ]
    }
   ],
   "source": [
    "config = Config()\n",
    "\n",
    "config.env = gym.make('CartPole-v1')\n",
    "\n",
    "config.win_condition = 195.0\n",
    "config.memory = PrioritiesedReplayBuffer\n",
    "config.model = NoisyQNetwork\n",
    "config.print_config()\n",
    "config.noisy = True\n",
    "\n",
    "logger = Logger(config)"
   ]
  },
  {
   "cell_type": "code",
   "execution_count": 34,
   "metadata": {},
   "outputs": [
    {
     "name": "stdout",
     "output_type": "stream",
     "text": [
      "Epi: 100\t Frame: 2103\tAverage Score: 21.0300\tMean: 47.0000\tDuration: 0.2511\t#t_s: 46.0000\n",
      "Epi: 200\t Frame: 4328\tAverage Score: 22.2500\tMean: 74.0000\tDuration: 0.6075\t#t_s: 73.0000\n",
      "Epi: 300\t Frame: 6350\tAverage Score: 20.2200\tMean: 22.0000\tDuration: 0.1155\t#t_s: 21.0000\n",
      "Epi: 400\t Frame: 8747\tAverage Score: 23.9700\tMean: 18.0000\tDuration: 0.0873\t#t_s: 17.0000\n",
      "Epi: 500\t Frame: 11362\tAverage Score: 26.1500\tMean: 82.0000\tDuration: 0.4036\t#t_s: 81.0000\n",
      "Epi: 600\t Frame: 23722\tAverage Score: 123.6000\tMean: 191.0000\tDuration: 1.2750\t#t_s: 190.0000\n",
      "Epi: 645\t Frame: 33073 \tAverage: 196.0900\tMean: 250.0000\tDuration: 1.3075\t#t_s: 249.0000\n",
      "Environment Solved in 184.6342 seconds !\n"
     ]
    }
   ],
   "source": [
    "train(config, logger)"
   ]
  },
  {
   "cell_type": "code",
   "execution_count": 35,
   "metadata": {},
   "outputs": [],
   "source": [
    "score_replay_buffer = logger.score\n",
    "average_score_replay_buffer = logger.average_score"
   ]
  },
  {
   "cell_type": "code",
   "execution_count": 36,
   "metadata": {},
   "outputs": [],
   "source": [
    "# watch(config, logger.log_file_path)"
   ]
  },
  {
   "cell_type": "code",
   "execution_count": 37,
   "metadata": {},
   "outputs": [
    {
     "name": "stdout",
     "output_type": "stream",
     "text": [
      "env: \t\tEnvSpec(CartPole-v1)\n",
      "win condition: \t195.0\n",
      "state space\t(4,)\n",
      "action space\t2\n",
      "device: \tcpu\n",
      "seed: \t\t123456789\n",
      "n_episodes: \t2000\n",
      "max_t: \t\t1000\n",
      "eps_start: \t1.0\n",
      "eps_end: \t0.01\n",
      "eps_decay: \t0.995\n",
      "eps_greedy: \tTrue\n",
      "noisy: \t\tFalse\n",
      "tau: \t\t0.001\n",
      "gamma: \t\t0.99\n",
      "lr: \t\t0.0005\n",
      "memory: \t<class 'src.components.memory.ReplayBuffer'>\n",
      "batch_size: \t64\n",
      "buffer_size: \t100000\n",
      "lr_annealing: \tFalse\n",
      "learn_every: \t4\n",
      "double_dqn: \tFalse\n",
      "model: \t\t<class 'src.networks.models.NoisyQNetwork'>\n",
      "save_loc: \tNone\n",
      "Logging at: logs/CartPole-v1/experiment-2020-04-19_15_34_54\n"
     ]
    }
   ],
   "source": [
    "config = Config()\n",
    "\n",
    "config.env = gym.make('CartPole-v1')\n",
    "\n",
    "config.win_condition = 195.0\n",
    "config.memory = ReplayBuffer\n",
    "config.model = NoisyQNetwork\n",
    "config.print_config()\n",
    "config.noisy = True\n",
    "\n",
    "logger = Logger(config)"
   ]
  },
  {
   "cell_type": "code",
   "execution_count": 38,
   "metadata": {},
   "outputs": [
    {
     "name": "stdout",
     "output_type": "stream",
     "text": [
      "Epi: 100\t Frame: 1302\tAverage Score: 13.0200\tMean: 10.0000\tDuration: 0.0186\t#t_s: 9.0000\n",
      "Epi: 200\t Frame: 2877\tAverage Score: 15.7500\tMean: 10.0000\tDuration: 0.0364\t#t_s: 9.0000\n",
      "Epi: 300\t Frame: 4390\tAverage Score: 15.1300\tMean: 19.0000\tDuration: 0.0444\t#t_s: 18.0000\n",
      "Epi: 400\t Frame: 5880\tAverage Score: 14.9000\tMean: 10.0000\tDuration: 0.0266\t#t_s: 9.0000\n",
      "Epi: 500\t Frame: 7243\tAverage Score: 13.6300\tMean: 9.0000\tDuration: 0.0189\t#t_s: 8.0000\n",
      "Epi: 600\t Frame: 8733\tAverage Score: 14.9000\tMean: 9.0000\tDuration: 0.0183\t#t_s: 8.0000\n",
      "Epi: 700\t Frame: 10414\tAverage Score: 16.8100\tMean: 43.0000\tDuration: 0.1847\t#t_s: 42.0000\n",
      "Epi: 800\t Frame: 12477\tAverage Score: 20.6300\tMean: 18.0000\tDuration: 0.0433\t#t_s: 17.0000\n",
      "Epi: 900\t Frame: 18347\tAverage Score: 58.7000\tMean: 108.0000\tDuration: 0.2393\t#t_s: 107.0000\n",
      "Epi: 1000\t Frame: 36869\tAverage Score: 185.2200\tMean: 255.0000\tDuration: 0.5994\t#t_s: 254.0000\n",
      "Epi: 1014\t Frame: 39792 \tAverage: 195.3200\tMean: 197.0000\tDuration: 0.4793\t#t_s: 196.0000\n",
      "Environment Solved in 100.9852 seconds !\n"
     ]
    }
   ],
   "source": [
    "train(config, logger)"
   ]
  },
  {
   "cell_type": "code",
   "execution_count": 39,
   "metadata": {},
   "outputs": [],
   "source": [
    "score_replay_per_buffer = logger.score\n",
    "average_score_replay_per_buffer = logger.average_score"
   ]
  },
  {
   "cell_type": "code",
   "execution_count": 40,
   "metadata": {},
   "outputs": [
    {
     "data": {
      "image/png": "[encoded data removed]",
      "text/plain": [
       "<Figure size 432x288 with 1 Axes>"
      ]
     },
     "metadata": {
      "needs_background": "light"
     },
     "output_type": "display_data"
    }
   ],
   "source": [
    "plt.plot(average_score_replay_buffer)\n",
    "plt.plot(average_score_replay_per_buffer)\n",
    "plt.show()"
   ]
  },
  {
   "cell_type": "code",
   "execution_count": null,
   "metadata": {},
   "outputs": [],
   "source": []
  }
 ],
 "metadata": {
  "kernelspec": {
   "display_name": "Python 3",
   "language": "python",
   "name": "python3"
  },
  "language_info": {
   "codemirror_mode": {
    "name": "ipython",
    "version": 3
   },
   "file_extension": ".py",
   "mimetype": "text/x-python",
   "name": "python",
   "nbconvert_exporter": "python",
   "pygments_lexer": "ipython3",
   "version": "3.6.8"
  }
 },
 "nbformat": 4,
 "nbformat_minor": 2
}
