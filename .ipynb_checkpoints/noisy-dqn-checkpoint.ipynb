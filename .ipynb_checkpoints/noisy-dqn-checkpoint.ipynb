{
 "cells": [
  {
   "cell_type": "code",
   "execution_count": 31,
   "metadata": {},
   "outputs": [
    {
     "name": "stdout",
     "output_type": "stream",
     "text": [
      "The autoreload extension is already loaded. To reload it, use:\n",
      "  %reload_ext autoreload\n"
     ]
    }
   ],
   "source": [
    "%load_ext autoreload\n",
    "%autoreload 2"
   ]
  },
  {
   "cell_type": "code",
   "execution_count": 32,
   "metadata": {},
   "outputs": [],
   "source": [
    "import matplotlib.pyplot as plt\n",
    "import gym\n",
    "\n",
    "\n",
    "from src.utils.Config import Config\n",
    "from src.utils.Logging import Logger\n",
    "from src.components.memory import ReplayBuffer\n",
    "from src.networks.models import QNetwork, NoisyQNetwork, NoisyDualingQNetwork\n",
    "from src.utils.misc import train, watch"
   ]
  },
  {
   "cell_type": "code",
   "execution_count": 33,
   "metadata": {},
   "outputs": [],
   "source": [
    "import math, random\n",
    "\n",
    "import gym\n",
    "import numpy as np\n",
    "\n",
    "import torch\n",
    "import torch.nn as nn\n",
    "import torch.optim as optim\n",
    "import torch.autograd as autograd \n",
    "import torch.nn.functional as F\n",
    "\n",
    "USE_CUDA = torch.cuda.is_available()\n",
    "Variable = lambda *args, **kwargs: autograd.Variable(*args, **kwargs).cuda() if USE_CUDA else autograd.Variable(*args, **kwargs)"
   ]
  },
  {
   "cell_type": "code",
   "execution_count": 35,
   "metadata": {},
   "outputs": [],
   "source": [
    "# class NoisyLinear(nn.Module):\n",
    "#     def __init__(self, in_features, out_features, std_init=0.4):\n",
    "#         super(NoisyLinear, self).__init__()\n",
    "        \n",
    "#         self.in_features  = in_features\n",
    "#         self.out_features = out_features\n",
    "#         self.std_init     = std_init\n",
    "        \n",
    "#         self.weight_mu    = nn.Parameter(torch.FloatTensor(out_features, in_features))\n",
    "#         self.weight_sigma = nn.Parameter(torch.FloatTensor(out_features, in_features))\n",
    "#         self.register_buffer('weight_epsilon', torch.FloatTensor(out_features, in_features))\n",
    "        \n",
    "#         self.bias_mu    = nn.Parameter(torch.FloatTensor(out_features))\n",
    "#         self.bias_sigma = nn.Parameter(torch.FloatTensor(out_features))\n",
    "#         self.register_buffer('bias_epsilon', torch.FloatTensor(out_features))\n",
    "        \n",
    "#         self.reset_parameters()\n",
    "#         self.reset_noise()\n",
    "    \n",
    "#     def forward(self, x):\n",
    "#         if self.training: \n",
    "#             weight = self.weight_mu + self.weight_sigma.mul(Variable(self.weight_epsilon))\n",
    "#             bias   = self.bias_mu   + self.bias_sigma.mul(Variable(self.bias_epsilon))\n",
    "#         else:\n",
    "#             weight = self.weight_mu\n",
    "#             bias   = self.bias_mu\n",
    "        \n",
    "#         return F.linear(x, weight, bias)\n",
    "    \n",
    "#     def reset_parameters(self):\n",
    "#         mu_range = 1 / math.sqrt(self.weight_mu.size(1))\n",
    "        \n",
    "#         self.weight_mu.data.uniform_(-mu_range, mu_range)\n",
    "#         self.weight_sigma.data.fill_(self.std_init / math.sqrt(self.weight_sigma.size(1)))\n",
    "        \n",
    "#         self.bias_mu.data.uniform_(-mu_range, mu_range)\n",
    "#         self.bias_sigma.data.fill_(self.std_init / math.sqrt(self.bias_sigma.size(0)))\n",
    "    \n",
    "#     def reset_noise(self):\n",
    "#         epsilon_in  = self._scale_noise(self.in_features)\n",
    "#         epsilon_out = self._scale_noise(self.out_features)\n",
    "        \n",
    "#         self.weight_epsilon.copy_(epsilon_out.ger(epsilon_in))\n",
    "#         self.bias_epsilon.copy_(self._scale_noise(self.out_features))\n",
    "    \n",
    "#     def _scale_noise(self, size):\n",
    "#         x = torch.randn(size)\n",
    "#         x = x.sign().mul(x.abs().sqrt())\n",
    "#         return x"
   ]
  },
  {
   "cell_type": "code",
   "execution_count": 36,
   "metadata": {},
   "outputs": [],
   "source": [
    "# class NoisyDQN(nn.Module):\n",
    "#     def __init__(self, num_inputs, num_actions, seed, fc1, fc2):\n",
    "#         super(NoisyDQN, self).__init__()\n",
    "        \n",
    "#         self.linear =  nn.Linear(num_inputs, 128)\n",
    "#         self.noisy1 = NoisyLinear(128, 128)\n",
    "#         self.noisy2 = NoisyLinear(128, num_actions)\n",
    "        \n",
    "#     def forward(self, x):\n",
    "#         x = F.relu(self.linear(x))\n",
    "#         x = F.relu(self.noisy1(x))\n",
    "#         x = self.noisy2(x)\n",
    "#         return x\n",
    "    \n",
    "#     def act(self, state):\n",
    "#         state   = Variable(torch.FloatTensor(state).unsqueeze(0), volatile=True)\n",
    "#         q_value = self.forward(state)\n",
    "#         action  = q_value.max(1)[1].data[0]\n",
    "#         return action\n",
    "    \n",
    "#     def reset_noise(self):\n",
    "#         self.noisy1.reset_noise()\n",
    "#         self.noisy2.reset_noise()"
   ]
  },
  {
   "cell_type": "code",
   "execution_count": 37,
   "metadata": {},
   "outputs": [
    {
     "name": "stdout",
     "output_type": "stream",
     "text": [
      "env: \t\tEnvSpec(CartPole-v1)\n",
      "win condition: \t195.0\n",
      "state space\t(4,)\n",
      "action space\t2\n",
      "device: \tcpu\n",
      "seed: \t\t123456789\n",
      "n_episodes: \t2000\n",
      "max_t: \t\t1000\n",
      "eps_start: \t1.0\n",
      "eps_end: \t0.01\n",
      "eps_decay: \t0.995\n",
      "eps_greedy: \tTrue\n",
      "noisy: \t\tFalse\n",
      "tau: \t\t0.001\n",
      "gamma: \t\t0.99\n",
      "lr: \t\t0.0005\n",
      "memory: \t<class 'src.components.memory.ReplayBuffer'>\n",
      "batch_size: \t64\n",
      "buffer_size: \t100000\n",
      "lr_annealing: \tFalse\n",
      "learn_every: \t4\n",
      "double_dqn: \tFalse\n",
      "model: \t\t<class '__main__.NoisyDQN'>\n",
      "save_loc: \tNone\n",
      "Logging at: logs/CartPole-v1/experiment-2020-04-19_11_08_02\n"
     ]
    }
   ],
   "source": [
    "config = Config()\n",
    "\n",
    "config.env = gym.make('CartPole-v1')\n",
    "\n",
    "config.win_condition = 195.0\n",
    "config.memory = ReplayBuffer\n",
    "config.model = NoisyQNetwork\n",
    "config.print_config()\n",
    "config.noisy = True\n",
    "\n",
    "logger = Logger(config)"
   ]
  },
  {
   "cell_type": "code",
   "execution_count": 38,
   "metadata": {},
   "outputs": [
    {
     "name": "stdout",
     "output_type": "stream",
     "text": [
      "Epi: 100\tAverage Score: 19.5000\tMean: 13.0000\tDuration: 0.0235\t#t_s: 12.0000\n",
      "Epi: 200\tAverage Score: 13.3900\tMean: 17.0000\tDuration: 0.0346\t#t_s: 16.0000\n",
      "Epi: 300\tAverage Score: 11.2400\tMean: 9.0000\tDuration: 0.0168\t#t_s: 8.000000\n",
      "Epi: 400\tAverage Score: 10.3600\tMean: 11.0000\tDuration: 0.0237\t#t_s: 10.0000\n",
      "Epi: 500\tAverage Score: 9.9400\tMean: 10.0000\tDuration: 0.0170\t#t_s: 9.000000\n",
      "Epi: 600\tAverage Score: 9.8800\tMean: 10.0000\tDuration: 0.0172\t#t_s: 9.000000\n",
      "Epi: 700\tAverage Score: 9.5300\tMean: 8.0000\tDuration: 0.0160\t#t_s: 7.000000\n",
      "Epi: 800\tAverage Score: 9.4700\tMean: 10.0000\tDuration: 0.0174\t#t_s: 9.00000\n",
      "Epi: 900\tAverage Score: 9.3900\tMean: 9.0000\tDuration: 0.0173\t#t_s: 8.000000\n",
      "Epi: 1000\tAverage Score: 9.4600\tMean: 9.0000\tDuration: 0.0653\t#t_s: 8.00000\n",
      "Epi: 1100\tAverage Score: 9.4100\tMean: 9.0000\tDuration: 0.0168\t#t_s: 8.000000\n",
      "Epi: 1200\tAverage Score: 9.5300\tMean: 9.0000\tDuration: 0.0167\t#t_s: 8.000000\n",
      "Epi: 1300\tAverage Score: 9.4500\tMean: 8.0000\tDuration: 0.0214\t#t_s: 7.000000\n",
      "Epi: 1400\tAverage Score: 9.2400\tMean: 10.0000\tDuration: 0.0309\t#t_s: 9.00000\n",
      "Epi: 1500\tAverage Score: 9.4800\tMean: 9.0000\tDuration: 0.0180\t#t_s: 8.000000\n",
      "Epi: 1600\tAverage Score: 9.3300\tMean: 9.0000\tDuration: 0.0235\t#t_s: 8.000000\n",
      "Epi: 1700\tAverage Score: 9.4000\tMean: 10.0000\tDuration: 0.0250\t#t_s: 9.00000\n",
      "Epi: 1800\tAverage Score: 9.4800\tMean: 9.0000\tDuration: 0.0252\t#t_s: 8.000000\n",
      "Epi: 1900\tAverage Score: 9.3800\tMean: 10.0000\tDuration: 0.0190\t#t_s: 9.00000\n",
      "Epi: 2000\tAverage Score: 9.5100\tMean: 10.0000\tDuration: 0.0272\t#t_s: 9.00000\n"
     ]
    }
   ],
   "source": [
    "train(config, logger)"
   ]
  },
  {
   "cell_type": "code",
   "execution_count": 4,
   "metadata": {},
   "outputs": [
    {
     "data": {
      "text/plain": [
       "[<matplotlib.lines.Line2D at 0x1215ee978>]"
      ]
     },
     "execution_count": 4,
     "metadata": {},
     "output_type": "execute_result"
    },
    {
     "data": {
      "image/png": "[encoded data removed]",
      "text/plain": [
       "<Figure size 432x288 with 1 Axes>"
      ]
     },
     "metadata": {
      "needs_background": "light"
     },
     "output_type": "display_data"
    }
   ],
   "source": [
    "plt.plot(logger.score)"
   ]
  },
  {
   "cell_type": "code",
   "execution_count": 5,
   "metadata": {},
   "outputs": [
    {
     "ename": "FileNotFoundError",
     "evalue": "[Errno 2] No such file or directory: 'logs/CartPole-v1/experiment-2020-04-16_18_05_10/checkpoint.pth'",
     "output_type": "error",
     "traceback": [
      "\u001b[0;31m---------------------------------------------------------------------------\u001b[0m",
      "\u001b[0;31mFileNotFoundError\u001b[0m                         Traceback (most recent call last)",
      "\u001b[0;32m<ipython-input-5-489a273045b5>\u001b[0m in \u001b[0;36m<module>\u001b[0;34m\u001b[0m\n\u001b[0;32m----> 1\u001b[0;31m \u001b[0mwatch\u001b[0m\u001b[0;34m(\u001b[0m\u001b[0mconfig\u001b[0m\u001b[0;34m,\u001b[0m \u001b[0mlogger\u001b[0m\u001b[0;34m.\u001b[0m\u001b[0mlog_file_path\u001b[0m\u001b[0;34m)\u001b[0m\u001b[0;34m\u001b[0m\u001b[0;34m\u001b[0m\u001b[0m\n\u001b[0m",
      "\u001b[0;32m~/Desktop/rl-lib/src/utils/misc.py\u001b[0m in \u001b[0;36mwatch\u001b[0;34m(config, log_file_path)\u001b[0m\n\u001b[1;32m     79\u001b[0m   \u001b[0menv\u001b[0m \u001b[0;34m=\u001b[0m \u001b[0mconfig\u001b[0m\u001b[0;34m.\u001b[0m\u001b[0menv\u001b[0m\u001b[0;34m\u001b[0m\u001b[0;34m\u001b[0m\u001b[0m\n\u001b[1;32m     80\u001b[0m   \u001b[0magent\u001b[0m \u001b[0;34m=\u001b[0m \u001b[0mAgent\u001b[0m\u001b[0;34m(\u001b[0m\u001b[0mstate_size\u001b[0m\u001b[0;34m=\u001b[0m\u001b[0menv\u001b[0m\u001b[0;34m.\u001b[0m\u001b[0mobservation_space\u001b[0m\u001b[0;34m.\u001b[0m\u001b[0mshape\u001b[0m\u001b[0;34m[\u001b[0m\u001b[0;36m0\u001b[0m\u001b[0;34m]\u001b[0m\u001b[0;34m,\u001b[0m \u001b[0maction_size\u001b[0m\u001b[0;34m=\u001b[0m\u001b[0menv\u001b[0m\u001b[0;34m.\u001b[0m\u001b[0maction_space\u001b[0m\u001b[0;34m.\u001b[0m\u001b[0mn\u001b[0m\u001b[0;34m,\u001b[0m \u001b[0mconfig\u001b[0m\u001b[0;34m=\u001b[0m\u001b[0mconfig\u001b[0m\u001b[0;34m)\u001b[0m\u001b[0;34m\u001b[0m\u001b[0;34m\u001b[0m\u001b[0m\n\u001b[0;32m---> 81\u001b[0;31m   \u001b[0magent\u001b[0m\u001b[0;34m.\u001b[0m\u001b[0mqnetwork_local\u001b[0m\u001b[0;34m.\u001b[0m\u001b[0mload_state_dict\u001b[0m\u001b[0;34m(\u001b[0m\u001b[0mtorch\u001b[0m\u001b[0;34m.\u001b[0m\u001b[0mload\u001b[0m\u001b[0;34m(\u001b[0m\u001b[0mlog_file_path\u001b[0m\u001b[0;34m+\u001b[0m\u001b[0;34m'/checkpoint.pth'\u001b[0m\u001b[0;34m)\u001b[0m\u001b[0;34m)\u001b[0m\u001b[0;34m\u001b[0m\u001b[0;34m\u001b[0m\u001b[0m\n\u001b[0m\u001b[1;32m     82\u001b[0m \u001b[0;34m\u001b[0m\u001b[0m\n\u001b[1;32m     83\u001b[0m   \u001b[0;32mfor\u001b[0m \u001b[0mi\u001b[0m \u001b[0;32min\u001b[0m \u001b[0mrange\u001b[0m\u001b[0;34m(\u001b[0m\u001b[0;36m3\u001b[0m\u001b[0;34m)\u001b[0m\u001b[0;34m:\u001b[0m\u001b[0;34m\u001b[0m\u001b[0;34m\u001b[0m\u001b[0m\n",
      "\u001b[0;32m/Library/Frameworks/Python.framework/Versions/3.6/lib/python3.6/site-packages/torch/serialization.py\u001b[0m in \u001b[0;36mload\u001b[0;34m(f, map_location, pickle_module, **pickle_load_args)\u001b[0m\n\u001b[1;32m    380\u001b[0m             \u001b[0;34m(\u001b[0m\u001b[0msys\u001b[0m\u001b[0;34m.\u001b[0m\u001b[0mversion_info\u001b[0m\u001b[0;34m[\u001b[0m\u001b[0;36m0\u001b[0m\u001b[0;34m]\u001b[0m \u001b[0;34m==\u001b[0m \u001b[0;36m2\u001b[0m \u001b[0;32mand\u001b[0m \u001b[0misinstance\u001b[0m\u001b[0;34m(\u001b[0m\u001b[0mf\u001b[0m\u001b[0;34m,\u001b[0m \u001b[0municode\u001b[0m\u001b[0;34m)\u001b[0m\u001b[0;34m)\u001b[0m\u001b[0;34m:\u001b[0m\u001b[0;34m\u001b[0m\u001b[0;34m\u001b[0m\u001b[0m\n\u001b[1;32m    381\u001b[0m         \u001b[0mnew_fd\u001b[0m \u001b[0;34m=\u001b[0m \u001b[0;32mTrue\u001b[0m\u001b[0;34m\u001b[0m\u001b[0;34m\u001b[0m\u001b[0m\n\u001b[0;32m--> 382\u001b[0;31m         \u001b[0mf\u001b[0m \u001b[0;34m=\u001b[0m \u001b[0mopen\u001b[0m\u001b[0;34m(\u001b[0m\u001b[0mf\u001b[0m\u001b[0;34m,\u001b[0m \u001b[0;34m'rb'\u001b[0m\u001b[0;34m)\u001b[0m\u001b[0;34m\u001b[0m\u001b[0;34m\u001b[0m\u001b[0m\n\u001b[0m\u001b[1;32m    383\u001b[0m     \u001b[0;32melif\u001b[0m \u001b[0;34m(\u001b[0m\u001b[0msys\u001b[0m\u001b[0;34m.\u001b[0m\u001b[0mversion_info\u001b[0m\u001b[0;34m[\u001b[0m\u001b[0;36m0\u001b[0m\u001b[0;34m]\u001b[0m \u001b[0;34m==\u001b[0m \u001b[0;36m3\u001b[0m \u001b[0;32mand\u001b[0m \u001b[0misinstance\u001b[0m\u001b[0;34m(\u001b[0m\u001b[0mf\u001b[0m\u001b[0;34m,\u001b[0m \u001b[0mpathlib\u001b[0m\u001b[0;34m.\u001b[0m\u001b[0mPath\u001b[0m\u001b[0;34m)\u001b[0m\u001b[0;34m)\u001b[0m\u001b[0;34m:\u001b[0m\u001b[0;34m\u001b[0m\u001b[0;34m\u001b[0m\u001b[0m\n\u001b[1;32m    384\u001b[0m         \u001b[0mnew_fd\u001b[0m \u001b[0;34m=\u001b[0m \u001b[0;32mTrue\u001b[0m\u001b[0;34m\u001b[0m\u001b[0;34m\u001b[0m\u001b[0m\n",
      "\u001b[0;31mFileNotFoundError\u001b[0m: [Errno 2] No such file or directory: 'logs/CartPole-v1/experiment-2020-04-16_18_05_10/checkpoint.pth'"
     ]
    }
   ],
   "source": [
    "watch(config, logger.log_file_path)"
   ]
  },
  {
   "cell_type": "code",
   "execution_count": null,
   "metadata": {},
   "outputs": [],
   "source": []
  }
 ],
 "metadata": {
  "kernelspec": {
   "display_name": "Python 3",
   "language": "python",
   "name": "python3"
  },
  "language_info": {
   "codemirror_mode": {
    "name": "ipython",
    "version": 3
   },
   "file_extension": ".py",
   "mimetype": "text/x-python",
   "name": "python",
   "nbconvert_exporter": "python",
   "pygments_lexer": "ipython3",
   "version": "3.6.8"
  }
 },
 "nbformat": 4,
 "nbformat_minor": 2
}
