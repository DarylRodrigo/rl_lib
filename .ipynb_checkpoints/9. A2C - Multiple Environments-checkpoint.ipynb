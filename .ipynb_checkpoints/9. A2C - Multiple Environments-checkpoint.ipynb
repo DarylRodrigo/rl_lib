{
 "cells": [
  {
   "cell_type": "code",
   "execution_count": 11,
   "metadata": {},
   "outputs": [
    {
     "name": "stdout",
     "output_type": "stream",
     "text": [
      "The autoreload extension is already loaded. To reload it, use:\n",
      "  %reload_ext autoreload\n"
     ]
    }
   ],
   "source": [
    "%load_ext autoreload\n",
    "%autoreload 2\n",
    "\n",
    "import gym\n",
    "\n",
    "from src.environments.MultiEnv import MultiEnv\n",
    "\n",
    "from matplotlib import pyplot as plt\n",
    "from collections import deque\n",
    "\n",
    "import numpy as np\n",
    "import torch\n",
    "import torch.nn as nn\n",
    "import torch.nn.functional as F\n",
    "import torch.optim as optim\n",
    "from torch.distributions import Categorical"
   ]
  },
  {
   "cell_type": "code",
   "execution_count": 12,
   "metadata": {},
   "outputs": [],
   "source": [
    "class Actor(nn.Module):\n",
    "    \"\"\"Some Information about ActorCritic\"\"\"\n",
    "    def __init__(self, state_size, action_size):\n",
    "        super(Actor, self).__init__()\n",
    "\n",
    "        self.model = nn.Sequential(\n",
    "            nn.Linear(state_size, 64),\n",
    "            nn.ReLU(),\n",
    "            nn.Linear(64, 64),\n",
    "            nn.ReLU(),\n",
    "            nn.Linear(64, action_size)\n",
    "        )\n",
    "\n",
    "    def forward(self, x):\n",
    "        return self.model(x)\n",
    "    \n",
    "class Critic(nn.Module):\n",
    "    \"\"\"Some Information about ActorCritic\"\"\"\n",
    "    def __init__(self, state_size):\n",
    "        super(Critic, self).__init__()\n",
    "\n",
    "        self.model = nn.Sequential(\n",
    "            nn.Linear(state_size, 64),\n",
    "            nn.ReLU(),\n",
    "            nn.Linear(64, 64),\n",
    "            nn.ReLU(),\n",
    "            nn.Linear(64, 1)\n",
    "        )\n",
    "\n",
    "    def forward(self, x):\n",
    "        return self.model(x)\n",
    "\n",
    "class Memory:\n",
    "    def __init__(self):\n",
    "        self.log_probs = []\n",
    "        self.values = []\n",
    "        self.dones = []\n",
    "        self.rewards = []\n",
    "    \n",
    "    def add(self, log_prob, value, done, reward):\n",
    "        self.log_probs.append(log_prob)\n",
    "        self.values.append(value)\n",
    "        self.dones.append(done)\n",
    "        self.rewards.append(reward)\n",
    "    \n",
    "    def clear(self):\n",
    "        self.log_probs = []\n",
    "        self.values = []\n",
    "        self.dones = []\n",
    "        self.rewards = []\n",
    "    \n",
    "    def __len__(self):\n",
    "        return len(self.log_probs)"
   ]
  },
  {
   "cell_type": "code",
   "execution_count": 13,
   "metadata": {},
   "outputs": [],
   "source": [
    "def update(mem, next_state):\n",
    "    q_values = []\n",
    "\n",
    "    # Do not add this one as it's for the next state\n",
    "    running_reward = critic(torch.tensor(next_state).float()).squeeze(dim=1)\n",
    "\n",
    "    for reward, done in zip(reversed(mem.rewards), reversed(mem.dones)):\n",
    "        mask = torch.from_numpy(np.array(1 - done)).float()\n",
    "        reward = torch.from_numpy(np.array(reward)).float()\n",
    "\n",
    "        running_reward = (reward + gamma * running_reward) * mask\n",
    "        q_values.append(running_reward)\n",
    "\n",
    "    values = torch.stack(mem.values).squeeze(dim=2)\n",
    "    log_probs = torch.stack(mem.log_probs)\n",
    "    q_values = torch.stack(q_values)\n",
    "\n",
    "    advantage = q_values - values\n",
    "\n",
    "    critic_loss = torch.pow(advantage, 2).mean()\n",
    "    actor_loss = (-log_probs * advantage).sum(dim=0).mean()\n",
    "\n",
    "    critic_optim.zero_grad()\n",
    "    critic_loss.backward(retain_graph=True)\n",
    "    critic_optim.step()\n",
    "\n",
    "    actor_optim.zero_grad()\n",
    "    actor_loss.backward(retain_graph=True)\n",
    "    actor_optim.step()"
   ]
  },
  {
   "cell_type": "code",
   "execution_count": 14,
   "metadata": {},
   "outputs": [],
   "source": [
    "env_name = \"CartPole-v1\"\n",
    "env = gym.make(env_name)\n",
    "\n",
    "state_space = env.observation_space.shape[0]\n",
    "action_space = env.action_space.n"
   ]
  },
  {
   "cell_type": "code",
   "execution_count": 15,
   "metadata": {},
   "outputs": [],
   "source": [
    "win_condition = 200\n",
    "\n",
    "num_episodes = 500\n",
    "bootstrap_len = 5\n",
    "\n",
    "gamma = 0.99"
   ]
  },
  {
   "cell_type": "code",
   "execution_count": 16,
   "metadata": {},
   "outputs": [],
   "source": [
    "mem = Memory()\n",
    "\n",
    "actor = Actor(state_space, action_space)\n",
    "critic = Critic(state_space)\n",
    "\n",
    "actor_optim = optim.Adam(actor.parameters(), lr=1e-3)\n",
    "critic_optim = optim.Adam(critic.parameters(), lr=1e-3)"
   ]
  },
  {
   "cell_type": "code",
   "execution_count": 17,
   "metadata": {},
   "outputs": [],
   "source": [
    "env = MultiEnv(env_name, 5)"
   ]
  },
  {
   "cell_type": "code",
   "execution_count": null,
   "metadata": {},
   "outputs": [
    {
     "name": "stderr",
     "output_type": "stream",
     "text": [
      "/Library/Frameworks/Python.framework/Versions/3.6/lib/python3.6/site-packages/ipykernel_launcher.py:14: UserWarning: Implicit dimension choice for softmax has been deprecated. Change the call to include dim=X as an argument.\n",
      "  \n"
     ]
    },
    {
     "name": "stdout",
     "output_type": "stream",
     "text": [
      " Episode: 0.000\tAverage Score 15.000\tReward: 15.000\n",
      " Episode: 50.000\tAverage Score 15.039\tReward: 24.000\n",
      " Episode: 100.000\tAverage Score 19.510\tReward: 32.000\n",
      " Episode: 150.000\tAverage Score 35.190\tReward: 59.000\n",
      " Episode: 200.000\tAverage Score 70.190\tReward: 167.000\n",
      " Episode: 250.000\tAverage Score 149.630\tReward: 190.000\n",
      " Episode: 296.000\tAverage Score 314.290\tReward: 237.000"
     ]
    }
   ],
   "source": [
    "score_log = []\n",
    "average_score_log = []\n",
    "running_scores = deque(maxlen=100)\n",
    "\n",
    "for i in range(num_episodes):\n",
    "    state = env.reset()\n",
    "    steps = 0\n",
    "    score = 0\n",
    "    \n",
    "    while True:\n",
    "        steps += 1\n",
    "\n",
    "        value = critic(torch.tensor(state).float())\n",
    "        logits = F.softmax(actor(torch.tensor(state).float()))\n",
    "\n",
    "        probabilities = Categorical(logits)\n",
    "        action = probabilities.sample()\n",
    "        log_probs = probabilities.log_prob(action)\n",
    "\n",
    "        next_state, reward, done, _ = env.step(action.numpy())\n",
    "        score += reward\n",
    "\n",
    "        mem.add(log_probs, value, done, reward)\n",
    "\n",
    "        if (done.any() or steps % bootstrap_len == 0):\n",
    "            update(mem, next_state)\n",
    "            mem.clear()\n",
    "        \n",
    "        if done.any():\n",
    "            break\n",
    "        \n",
    "        state = next_state\n",
    "\n",
    "    score_log.append(score[0])\n",
    "    running_scores.append(score[0])\n",
    "    average_score_log.append(np.mean(running_scores))\n",
    "    \n",
    "    print(\"\\r Episode: {:.3f}\\tAverage Score {:.3f}\\tReward: {:.3f}\".format(i, np.mean(running_scores), score[0]), end=\"\")\n",
    "    if (i % 50 == 0):\n",
    "        print(\"\\r Episode: {:.3f}\\tAverage Score {:.3f}\\tReward: {:.3f}\".format(i, np.mean(running_scores), score[0]))\n",
    "\n",
    "    if np.mean(running_scores) > win_condition:\n",
    "        print(\"Environment Solved!\")\n",
    "        break"
   ]
  },
  {
   "cell_type": "code",
   "execution_count": null,
   "metadata": {},
   "outputs": [],
   "source": [
    "plt.plot(score_log)\n",
    "plt.plot(average_score_log)"
   ]
  },
  {
   "cell_type": "markdown",
   "metadata": {},
   "source": [
    "## Tests"
   ]
  },
  {
   "cell_type": "code",
   "execution_count": null,
   "metadata": {},
   "outputs": [],
   "source": [
    "# state = env.reset()\n",
    "# # logits = F.softmax(actor(torch.tensor(state).float()))\n",
    "# # probabilities = Categorical(logits)\n",
    "# # action = probabilities.sample()\n",
    "\n",
    "# logits = F.softmax(actor(torch.tensor(state).float()))\n",
    "# probs = Categorical(logits)\n",
    "\n",
    "# log_probs = probabilities.log_prob(action)\n",
    "# action = probabilities.sample()\n",
    "\n",
    "# value = critic(torch.tensor(state).float())\n",
    "\n",
    "# state, reward, done, _ = env.step(action.numpy())\n",
    "\n",
    "# mem.add(log_probs, value, done, reward)"
   ]
  },
  {
   "cell_type": "markdown",
   "metadata": {},
   "source": [
    "## Update test\n"
   ]
  },
  {
   "cell_type": "code",
   "execution_count": null,
   "metadata": {},
   "outputs": [],
   "source": [
    "t = 0\n",
    "for i in range(5):\n",
    "    state = env.reset()\n",
    "    steps = 0\n",
    "    score = 0\n",
    "    \n",
    "    steps += 1\n",
    "\n",
    "    value = critic(torch.tensor(state).float())\n",
    "    logits = F.softmax(actor(torch.tensor(state).float()))\n",
    "\n",
    "    probabilities = Categorical(logits)\n",
    "    action = probabilities.sample()\n",
    "    log_probs = probabilities.log_prob(action)\n",
    "\n",
    "    next_state, reward, done, _ = env.step(action.numpy())\n",
    "    score += reward\n",
    "    \n",
    "    print(reward)\n",
    "    print(value)\n",
    "    print(log_probs)\n",
    "    print(\"-\")\n",
    "\n",
    "    mem.add(log_probs, value, done, reward)"
   ]
  },
  {
   "cell_type": "code",
   "execution_count": null,
   "metadata": {},
   "outputs": [],
   "source": [
    "mem.rewards"
   ]
  },
  {
   "cell_type": "code",
   "execution_count": null,
   "metadata": {},
   "outputs": [],
   "source": [
    "torch.stack(mem.values).squeeze(dim=2)"
   ]
  },
  {
   "cell_type": "code",
   "execution_count": null,
   "metadata": {},
   "outputs": [],
   "source": [
    "q_values = []\n",
    "\n",
    "# Do not add this one as it's for the next state\n",
    "running_reward = critic(torch.tensor(next_state).float()).squeeze(dim=1)\n",
    "running_reward"
   ]
  },
  {
   "cell_type": "code",
   "execution_count": null,
   "metadata": {},
   "outputs": [],
   "source": [
    "for reward, done in zip(reversed(mem.rewards), reversed(mem.dones)):\n",
    "    mask = torch.from_numpy(np.array(1 - done)).float()\n",
    "    reward = torch.from_numpy(np.array(reward)).float()\n",
    "    \n",
    "#     print(mask)\n",
    "#     print(reward)\n",
    "#     print(\"-\")\n",
    "    \n",
    "    running_reward = (reward + gamma * running_reward) * mask\n",
    "\n",
    "    q_values.append(running_reward)\n",
    "\n",
    "q_values"
   ]
  },
  {
   "cell_type": "code",
   "execution_count": null,
   "metadata": {},
   "outputs": [],
   "source": [
    "values = torch.stack(mem.values).squeeze(dim=2)\n",
    "log_probs = torch.stack(mem.log_probs)\n",
    "values"
   ]
  },
  {
   "cell_type": "code",
   "execution_count": null,
   "metadata": {},
   "outputs": [],
   "source": [
    "q_values = torch.stack(q_values)"
   ]
  },
  {
   "cell_type": "code",
   "execution_count": null,
   "metadata": {},
   "outputs": [],
   "source": [
    "advantage = q_values - values\n",
    "advantage"
   ]
  },
  {
   "cell_type": "code",
   "execution_count": null,
   "metadata": {},
   "outputs": [],
   "source": [
    "torch.pow(advantage, 2).mean()"
   ]
  },
  {
   "cell_type": "code",
   "execution_count": null,
   "metadata": {},
   "outputs": [],
   "source": [
    "(-log_probs * advantage).sum(dim=0).mean()"
   ]
  },
  {
   "cell_type": "code",
   "execution_count": null,
   "metadata": {},
   "outputs": [],
   "source": [
    "critic_loss = torch.pow(advantage, 2).mean()\n",
    "actor_loss = (-log_probs * advantage).sum()"
   ]
  },
  {
   "cell_type": "code",
   "execution_count": null,
   "metadata": {},
   "outputs": [],
   "source": [
    "critic_optim.zero_grad()\n",
    "critic_loss.backward(retain_graph=True)\n",
    "critic_optim.step()\n",
    "\n",
    "actor_optim.zero_grad()\n",
    "actor_loss.backward(retain_graph=True)\n",
    "actor_optim.step()"
   ]
  },
  {
   "cell_type": "code",
   "execution_count": null,
   "metadata": {},
   "outputs": [],
   "source": []
  }
 ],
 "metadata": {
  "kernelspec": {
   "display_name": "Python 3",
   "language": "python",
   "name": "python3"
  },
  "language_info": {
   "codemirror_mode": {
    "name": "ipython",
    "version": 3
   },
   "file_extension": ".py",
   "mimetype": "text/x-python",
   "name": "python",
   "nbconvert_exporter": "python",
   "pygments_lexer": "ipython3",
   "version": "3.6.8"
  }
 },
 "nbformat": 4,
 "nbformat_minor": 2
}
