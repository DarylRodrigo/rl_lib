{
 "cells": [
  {
   "cell_type": "code",
   "execution_count": 20,
   "metadata": {},
   "outputs": [
    {
     "name": "stdout",
     "output_type": "stream",
     "text": [
      "The autoreload extension is already loaded. To reload it, use:\n",
      "  %reload_ext autoreload\n"
     ]
    }
   ],
   "source": [
    "%load_ext autoreload\n",
    "%autoreload 2"
   ]
  },
  {
   "cell_type": "code",
   "execution_count": 21,
   "metadata": {},
   "outputs": [],
   "source": [
    "from collections import deque, namedtuple\n",
    "from matplotlib import pyplot as plt\n",
    "import numpy as np\n",
    "import random\n",
    "import gym\n",
    "import pdb\n",
    "\n",
    "from src.utils.OUNoise import OUNoise \n",
    "\n",
    "import torch\n",
    "import torch.nn as nn\n",
    "import torch.optim as optim\n",
    "import torch.nn.functional as F\n",
    "from torch.distributions import Categorical"
   ]
  },
  {
   "cell_type": "code",
   "execution_count": 22,
   "metadata": {},
   "outputs": [],
   "source": [
    "device = torch.device(\"cuda:0\" if torch.cuda.is_available() else \"cpu\")"
   ]
  },
  {
   "cell_type": "markdown",
   "metadata": {},
   "source": [
    "## Define Networks"
   ]
  },
  {
   "cell_type": "code",
   "execution_count": 23,
   "metadata": {},
   "outputs": [],
   "source": [
    "class Actor(nn.Module):\n",
    "    def __init__(self, state_space, action_space):\n",
    "        super(Actor, self).__init__()\n",
    "        \n",
    "        self.noise = OUNoise(action_space)\n",
    "        \n",
    "        self.head = nn.Sequential(\n",
    "            nn.Linear(state_space, 512),\n",
    "            nn.ReLU(),\n",
    "            nn.Linear(512, 128),\n",
    "            nn.ReLU(),\n",
    "            nn.Linear(128, action_space),\n",
    "            nn.Tanh()\n",
    "        )\n",
    "    \n",
    "    def forward(self, x):\n",
    "        return self.head(x)\n",
    "    \n",
    "    def act(self, state, add_noise=True):\n",
    "        \n",
    "        state = torch.from_numpy(state).float()\n",
    "        \n",
    "        action = self.forward(state).cpu().data.numpy()\n",
    "        if add_noise:\n",
    "            action += self.noise.noise()\n",
    "\n",
    "        return np.clip(action, -1, 1)\n"
   ]
  },
  {
   "cell_type": "code",
   "execution_count": 24,
   "metadata": {},
   "outputs": [],
   "source": [
    "# class Critic(nn.Module):\n",
    "#     def __init__(self, state_space, action_space):\n",
    "#         super(Critic, self).__init__()\n",
    "        \n",
    "#         self.head = nn.Sequential(\n",
    "#             nn.Linear(state_space, 1024),\n",
    "#             nn.ReLU(),\n",
    "#         )\n",
    "        \n",
    "#         self.body = nn.Sequential(\n",
    "#             nn.Linear(1024 + action_space, 512),\n",
    "#             nn.ReLU(),\n",
    "#             nn.Linear(512, 300),\n",
    "#             nn.ReLU(),\n",
    "#             nn.Linear(300, 1),\n",
    "#         )\n",
    "        \n",
    "#         self.single = nn.Sequential(\n",
    "#             nn.Linear(state_space + action_space, 256),\n",
    "#             nn.ReLU(),\n",
    "#             nn.Linear(256, 256),\n",
    "#             nn.ReLU(),\n",
    "#             nn.Linear(256, 1),\n",
    "#         )\n",
    "    \n",
    "#     def forward(self, x, actions):\n",
    "#         actions = torch.tensor(actions).float()\n",
    "#         x = torch.tensor(x).float()\n",
    "        \n",
    "#         x = self.head(x)\n",
    "#         x = self.body(torch.cat((x, actions), dim=1))\n",
    "        \n",
    "# #         x = self.single(torch.cat((x, actions), dim=1))\n",
    "#         return x"
   ]
  },
  {
   "cell_type": "code",
   "execution_count": 25,
   "metadata": {},
   "outputs": [],
   "source": [
    "class Critic(nn.Module):\n",
    "\n",
    "    def __init__(self, obs_dim, action_dim):\n",
    "        super(Critic, self).__init__()\n",
    "\n",
    "        self.obs_dim = obs_dim\n",
    "        self.action_dim = action_dim\n",
    "\n",
    "        self.linear1 = nn.Linear(self.obs_dim, 1024)\n",
    "        self.linear2 = nn.Linear(1024 + self.action_dim, 512)\n",
    "        self.linear3 = nn.Linear(512, 300)\n",
    "        self.linear4 = nn.Linear(300, 1)\n",
    "\n",
    "    def forward(self, x, a):\n",
    "        x = F.relu(self.linear1(x))\n",
    "        xa_cat = torch.cat([x,a], 1)\n",
    "        xa = F.relu(self.linear2(xa_cat))\n",
    "        xa = F.relu(self.linear3(xa))\n",
    "        qval = self.linear4(xa)\n",
    "\n",
    "        return qval\n",
    "\n",
    "# class Actor(nn.Module):\n",
    "\n",
    "#     def __init__(self, obs_dim, action_dim):\n",
    "#         super(Actor, self).__init__()\n",
    "\n",
    "#         self.obs_dim = obs_dim\n",
    "#         self.action_dim = action_dim\n",
    "\n",
    "#         self.linear1 = nn.Linear(self.obs_dim, 512)\n",
    "#         self.linear2 = nn.Linear(512, 128)\n",
    "#         self.linear3 = nn.Linear(128, self.action_dim)\n",
    "\n",
    "#     def forward(self, obs):\n",
    "#         x = F.relu(self.linear1(obs))\n",
    "#         x = F.relu(self.linear2(x))\n",
    "#         x = torch.tanh(self.linear3(x))\n",
    "\n",
    "#         return x\n",
    "    \n",
    "#     def act(self, obs, add_noise):\n",
    "#         state = torch.FloatTensor(obs).unsqueeze(0)\n",
    "#         action = self.forward(state)\n",
    "#         action = action.squeeze(0).cpu().detach().numpy()\n",
    "\n",
    "#         return action\n",
    "    \n",
    "\n",
    "\n"
   ]
  },
  {
   "cell_type": "markdown",
   "metadata": {},
   "source": [
    "## Create environment with Agents"
   ]
  },
  {
   "cell_type": "code",
   "execution_count": 26,
   "metadata": {},
   "outputs": [
    {
     "name": "stdout",
     "output_type": "stream",
     "text": [
      "State space: 3\n",
      "Action space: 1\n"
     ]
    }
   ],
   "source": [
    "import gym\n",
    "\n",
    "# env = gym.make(\"MountainCarContinuous-v0\")\n",
    "env = gym.make(\"Pendulum-v0\")\n",
    "\n",
    "state_space = env.observation_space.shape[0]\n",
    "action_space = env.action_space.shape[0]\n",
    "\n",
    "print(\"State space: {}\".format(state_space))\n",
    "print(\"Action space: {}\".format(action_space))"
   ]
  },
  {
   "cell_type": "code",
   "execution_count": 27,
   "metadata": {},
   "outputs": [],
   "source": [
    "actor = Actor(state_space, action_space).to(device)\n",
    "critic = Critic(state_space, action_space).to(device)\n",
    "\n",
    "actor_target = Actor(state_space, action_space).to(device)\n",
    "critic_target = Critic(state_space, action_space).to(device)"
   ]
  },
  {
   "cell_type": "markdown",
   "metadata": {},
   "source": [
    "### Replay Buffer"
   ]
  },
  {
   "cell_type": "code",
   "execution_count": 28,
   "metadata": {},
   "outputs": [],
   "source": [
    "class BasicBuffer:\n",
    "\n",
    "  def __init__(self, max_size):\n",
    "      self.max_size = max_size\n",
    "      self.buffer = deque(maxlen=max_size)\n",
    "\n",
    "  def push(self, state, action, reward, next_state, done):\n",
    "      experience = (state, action, np.array([reward]), next_state, done)\n",
    "      self.buffer.append(experience)\n",
    "\n",
    "  def sample(self, batch_size):\n",
    "      state_batch = []\n",
    "      action_batch = []\n",
    "      reward_batch = []\n",
    "      next_state_batch = []\n",
    "      done_batch = []\n",
    "\n",
    "      batch = random.sample(self.buffer, batch_size)\n",
    "\n",
    "      for experience in batch:\n",
    "          state, action, reward, next_state, done = experience\n",
    "          state_batch.append(state)\n",
    "          action_batch.append(action)\n",
    "          reward_batch.append(reward)\n",
    "          next_state_batch.append(next_state)\n",
    "          done_batch.append(done)\n",
    "\n",
    "      return (state_batch, action_batch, reward_batch, next_state_batch, done_batch)\n",
    "\n",
    "  def __len__(self):\n",
    "      return len(self.buffer)"
   ]
  },
  {
   "cell_type": "markdown",
   "metadata": {},
   "source": [
    "## Computing loss and updating Networks"
   ]
  },
  {
   "cell_type": "code",
   "execution_count": 29,
   "metadata": {},
   "outputs": [],
   "source": [
    "actor_optimiser = optim.Adam(actor.parameters(), lr=1e-3)\n",
    "critic_optimiser = optim.Adam(critic.parameters(), lr=1e-3)"
   ]
  },
  {
   "cell_type": "code",
   "execution_count": 37,
   "metadata": {},
   "outputs": [],
   "source": [
    "def learn():\n",
    "\n",
    "    state_batch, action_batch, reward_batch, next_state_batch, masks = mem.sample(batch_size)\n",
    "    \n",
    "    state_batch = torch.FloatTensor(state_batch)\n",
    "    action_batch = torch.FloatTensor(action_batch)\n",
    "    reward_batch = torch.FloatTensor(reward_batch)\n",
    "    next_state_batch = torch.FloatTensor(next_state_batch)\n",
    "    masks = torch.FloatTensor(masks)\n",
    "    \n",
    "#     pdb.set_trace()\n",
    "\n",
    "#     curr_Q = critic.forward(state_batch, action_batch)\n",
    "\n",
    "#     next_actions = actor_target.forward(next_state_batch)\n",
    "#     next_Q = critic_target.forward(next_state_batch, next_actions.detach())\n",
    "#     expected_Q = reward_batch + gamma * next_Q\n",
    "\n",
    "#     # update critic\n",
    "#     q_loss = F.mse_loss(curr_Q, expected_Q.detach())\n",
    "\n",
    "#     critic_optimiser.zero_grad()\n",
    "#     q_loss.backward() \n",
    "#     critic_optimiser.step()\n",
    "\n",
    "\n",
    "    update_critic(\n",
    "        states=state_batch,\n",
    "        next_states=next_state_batch,\n",
    "        actions=action_batch,\n",
    "        rewards=reward_batch,\n",
    "        dones=masks\n",
    "    )\n",
    "    update_actor(states=state_batch)\n",
    "    update_target_networks()\n",
    "\n",
    "# def learn():\n",
    "# #     states, next_states, actions, rewards, dones = mem.sample(batch_size)\n",
    "#     state_batch, action_batch, reward_batch, next_state_batch, masks = mem.sample(batch_size)\n",
    "#     update_actor(states=state_batch)\n",
    "    \n",
    "#     update_critic(\n",
    "#         states=state_batch,\n",
    "#         next_states=next_state_batch,\n",
    "#         actions=action_batch,\n",
    "#         rewards=reward_batch,\n",
    "#         dones=masks\n",
    "#     )\n",
    "    \n",
    "#     update_target_networks()"
   ]
  },
  {
   "cell_type": "markdown",
   "metadata": {},
   "source": [
    "### Actor Update\n",
    "\n",
    "<img src=\"./img/ddpg/actor_update.png\" alt=\"Drawing\" style=\"height: 50px;\"/>"
   ]
  },
  {
   "cell_type": "code",
   "execution_count": 31,
   "metadata": {},
   "outputs": [],
   "source": [
    "def update_actor(states):\n",
    "    actions_pred = actor(states)  \n",
    "#     actions_pred = torch.from_numpy(actions_pred).float()\n",
    "    loss = -critic(states, actions_pred).mean()\n",
    "    \n",
    "    actor_optimiser.zero_grad()\n",
    "    loss.backward()\n",
    "    actor_optimiser.step()"
   ]
  },
  {
   "cell_type": "markdown",
   "metadata": {},
   "source": [
    "### Critic Update\n",
    "\n",
    "Critic Loss:\n",
    "<img src=\"./img/ddpg/critic_loss.png\" alt=\"Drawing\" style=\"height: 30px;\"/>\n",
    "\n",
    "Critic $y_i$:\n",
    "<img src=\"./img/ddpg/critic_yi.png\" alt=\"Drawing\" style=\"height: 35px;\"/>"
   ]
  },
  {
   "cell_type": "code",
   "execution_count": 32,
   "metadata": {},
   "outputs": [],
   "source": [
    "def update_critic(states, next_states, actions, rewards, dones):\n",
    "    next_actions = actor_target.forward(next_states)\n",
    "    \n",
    "#     y_i =  rewards + ( gamma * critic_target(next_states, next_actions).squeeze() * (1-dones ))\n",
    "#     expected_Q = critic(states, actions).squeeze()\n",
    "    \n",
    "    y_i =  rewards + ( gamma * critic_target(next_states, next_actions) * (1-dones ))\n",
    "    expected_Q = critic(states, actions)\n",
    "\n",
    "    loss = F.mse_loss(y_i, expected_Q)\n",
    "    \n",
    "    critic_optimiser.zero_grad()\n",
    "    loss.backward()\n",
    "    critic_optimiser.step()"
   ]
  },
  {
   "cell_type": "markdown",
   "metadata": {},
   "source": [
    "### Copy Weights Over"
   ]
  },
  {
   "cell_type": "code",
   "execution_count": 33,
   "metadata": {},
   "outputs": [],
   "source": [
    "def update_target_networks():\n",
    "    for target, local in zip(actor_target.parameters(), actor.parameters()):\n",
    "        target.data.copy_(tau*local.data + (1.0-tau)*target.data)\n",
    "        \n",
    "    for target, local in zip(critic_target.parameters(), critic.parameters()):\n",
    "        target.data.copy_(tau*local.data + (1.0-tau)*target.data)"
   ]
  },
  {
   "cell_type": "markdown",
   "metadata": {},
   "source": [
    "## Runner"
   ]
  },
  {
   "cell_type": "code",
   "execution_count": 34,
   "metadata": {},
   "outputs": [],
   "source": [
    "max_e = 30\n",
    "max_t = 500\n",
    "buffer_size = 100000\n",
    "batch_size = 32\n",
    "learn_every = 1\n",
    "\n",
    "gamma = 0.99\n",
    "tau = 1e-2"
   ]
  },
  {
   "cell_type": "code",
   "execution_count": 35,
   "metadata": {},
   "outputs": [],
   "source": [
    "mem = BasicBuffer(buffer_size)\n",
    "\n",
    "score_log = []\n",
    "score_window = deque(maxlen=100)"
   ]
  },
  {
   "cell_type": "code",
   "execution_count": null,
   "metadata": {},
   "outputs": [
    {
     "name": "stdout",
     "output_type": "stream",
     "text": [
      "> <ipython-input-37-6024607c7890>(7)learn()\n",
      "-> state_batch = torch.FloatTensor(state_batch)\n",
      "(Pdb) state_batch\n",
      "[array([-0.45584527,  0.89005904,  2.50456439]), array([-0.90986424, -0.41490608,  4.79017627]), array([-0.3202351 , -0.9473381 , -1.60256909]), array([-0.541333  ,  0.84080829, -3.61743093]), array([-0.59060409,  0.80696147,  3.16971148]), array([-0.92840695,  0.37156497, -4.86169109]), array([-0.22789941, -0.97368468,  1.38934785]), array([-0.70046789, -0.71368392, -3.65173657]), array([-0.19633813, -0.98053625,  0.64595639]), array([-0.79505931, -0.60653169,  4.47702773]), array([-0.81967893,  0.57282323, -4.5850387 ]), array([-0.20155169, -0.97947788, -0.10639823]), array([-0.98231812, -0.18721944,  4.93184228]), array([-0.95452666,  0.29812557,  4.66699884]), array([-0.202393  ,  0.97930438,  0.35508188]), array([-0.25508937,  0.96691748,  1.08278515]), array([-0.68375285,  0.72971367, -4.1591411 ]), array([-0.99830329,  0.05822839,  4.88933957]), array([-0.99780426,  0.06623179, -0.59282796]), array([-0.73148413,  0.68185847,  3.77377551]), array([-0.29493469, -0.95551741,  2.11371529]), array([-0.83368471, -0.55224071, -4.1938775 ]), array([-0.51882471, -0.85488065,  3.45278471]), array([-0.9938981 , -0.11030216, -4.8772463 ]), array([-0.39408579, -0.91907366,  2.80805296]), array([-0.99054674,  0.13717566, -4.96273213]), array([-0.40984563,  0.9121549 , -2.99473728]), array([-0.24338007, -0.969931  , -0.85814649]), array([-0.55923776, -0.82900731, -3.02060574]), array([-0.34110622,  0.94002476,  1.80306622]), array([-0.85971838,  0.51076834,  4.28444097]), array([-0.65796621, -0.75304746,  4.01981096])]\n",
      "(Pdb) torch.FloatTensor(state_batch)\n",
      "tensor([[-0.4558,  0.8901,  2.5046],\n",
      "        [-0.9099, -0.4149,  4.7902],\n",
      "        [-0.3202, -0.9473, -1.6026],\n",
      "        [-0.5413,  0.8408, -3.6174],\n",
      "        [-0.5906,  0.8070,  3.1697],\n",
      "        [-0.9284,  0.3716, -4.8617],\n",
      "        [-0.2279, -0.9737,  1.3893],\n",
      "        [-0.7005, -0.7137, -3.6517],\n",
      "        [-0.1963, -0.9805,  0.6460],\n",
      "        [-0.7951, -0.6065,  4.4770],\n",
      "        [-0.8197,  0.5728, -4.5850],\n",
      "        [-0.2016, -0.9795, -0.1064],\n",
      "        [-0.9823, -0.1872,  4.9318],\n",
      "        [-0.9545,  0.2981,  4.6670],\n",
      "        [-0.2024,  0.9793,  0.3551],\n",
      "        [-0.2551,  0.9669,  1.0828],\n",
      "        [-0.6838,  0.7297, -4.1591],\n",
      "        [-0.9983,  0.0582,  4.8893],\n",
      "        [-0.9978,  0.0662, -0.5928],\n",
      "        [-0.7315,  0.6819,  3.7738],\n",
      "        [-0.2949, -0.9555,  2.1137],\n",
      "        [-0.8337, -0.5522, -4.1939],\n",
      "        [-0.5188, -0.8549,  3.4528],\n",
      "        [-0.9939, -0.1103, -4.8772],\n",
      "        [-0.3941, -0.9191,  2.8081],\n",
      "        [-0.9905,  0.1372, -4.9627],\n",
      "        [-0.4098,  0.9122, -2.9947],\n",
      "        [-0.2434, -0.9699, -0.8581],\n",
      "        [-0.5592, -0.8290, -3.0206],\n",
      "        [-0.3411,  0.9400,  1.8031],\n",
      "        [-0.8597,  0.5108,  4.2844],\n",
      "        [-0.6580, -0.7530,  4.0198]])\n",
      "(Pdb) torch.FloatTensor(state_batch).shape\n",
      "torch.Size([32, 3])\n"
     ]
    }
   ],
   "source": [
    "for episode in range(max_e):\n",
    "    state = env.reset()\n",
    "    score = 0\n",
    "    for t in range(max_t):\n",
    "        action = actor.act(state, add_noise=False)\n",
    "        next_state, reward, done, _ = env.step(action)\n",
    "        mem.push(state, action, reward, next_state, done)\n",
    "        score += reward\n",
    "\n",
    "\n",
    "        \n",
    "        if len(mem) > batch_size and t % learn_every == 0:\n",
    "            learn()\n",
    "\n",
    "        if done:\n",
    "            break;\n",
    "        \n",
    "        state = next_state\n",
    "    \n",
    "    score_log.append(score)\n",
    "    score_window.append(score)\n",
    "    \n",
    "#     print(\"\\rEpsiode: {:.1f}\\tWindow Score: {:.4f}\\tScore: {:.4f}\".format(episode, np.mean(score_window), score), end=\"\")    \n",
    "#     if (episode % 100 == 0):\n",
    "#         print(\"\\rEpsiode: {:.1f}\\tWindow Score: {:.4f}\\tScore: {:.4f}\".format(episode, np.mean(score_window), score))\n",
    "    print(\"\\rEpsiode: {:.1f}\\tWindow Score: {:.4f}\\tScore: {:.4f}\".format(episode, np.mean(score_window), score))\n",
    "\n",
    "\n"
   ]
  },
  {
   "cell_type": "code",
   "execution_count": 17,
   "metadata": {
    "scrolled": true
   },
   "outputs": [
    {
     "name": "stderr",
     "output_type": "stream",
     "text": [
      "/Library/Frameworks/Python.framework/Versions/3.6/lib/python3.6/site-packages/ipykernel_launcher.py:10: UserWarning: Using a target size (torch.Size([32, 1])) that is different to the input size (torch.Size([32, 32])). This will likely lead to incorrect results due to broadcasting. Please ensure they have the same size.\n",
      "  # Remove the CWD from sys.path while we load stuff.\n"
     ]
    },
    {
     "name": "stdout",
     "output_type": "stream",
     "text": [
      "Epsiode: 0.0\tWindow Score: -1417.9387\tScore: -1417.9387\n",
      "Epsiode: 1.0\tWindow Score: -1442.9441\tScore: -1467.9496\n",
      "Epsiode: 2.0\tWindow Score: -1383.4366\tScore: -1264.4215\n",
      "Epsiode: 3.0\tWindow Score: -1462.7882\tScore: -1700.8431\n",
      "Epsiode: 4.0\tWindow Score: -1455.4742\tScore: -1426.2184\n",
      "Epsiode: 5.0\tWindow Score: -1415.5411\tScore: -1215.8754\n",
      "Epsiode: 6.0\tWindow Score: -1382.8113\tScore: -1186.4321\n",
      "Epsiode: 7.0\tWindow Score: -1349.0213\tScore: -1112.4914\n",
      "Epsiode: 8.0\tWindow Score: -1324.1632\tScore: -1125.2987\n",
      "Epsiode: 9.0\tWindow Score: -1304.7057\tScore: -1129.5886\n",
      "Epsiode: 10.0\tWindow Score: -1343.3280\tScore: -1729.5504\n",
      "Epsiode: 11.0\tWindow Score: -1231.5028\tScore: -1.4254\n",
      "Epsiode: 12.0\tWindow Score: -1215.4398\tScore: -1022.6844\n",
      "Epsiode: 13.0\tWindow Score: -1204.0406\tScore: -1055.8506\n",
      "Epsiode: 14.0\tWindow Score: -1192.2157\tScore: -1026.6671\n",
      "Epsiode: 15.0\tWindow Score: -1172.2372\tScore: -872.5594\n",
      "Epsiode: 16.0\tWindow Score: -1205.0345\tScore: -1729.7909\n",
      "Epsiode: 17.0\tWindow Score: -1186.8448\tScore: -877.6205\n",
      "Epsiode: 18.0\tWindow Score: -1164.1302\tScore: -755.2676\n",
      "Epsiode: 19.0\tWindow Score: -1148.6503\tScore: -854.5326\n",
      "Epsiode: 20.0\tWindow Score: -1137.4482\tScore: -913.4058\n",
      "Epsiode: 21.0\tWindow Score: -1133.3489\tScore: -1047.2638\n",
      "Epsiode: 22.0\tWindow Score: -1111.3335\tScore: -626.9935\n",
      "Epsiode: 23.0\tWindow Score: -1080.6431\tScore: -374.7650\n",
      "Epsiode: 24.0\tWindow Score: -1071.5637\tScore: -853.6577\n",
      "Epsiode: 25.0\tWindow Score: -1035.2210\tScore: -126.6528\n",
      "Epsiode: 26.0\tWindow Score: -1001.4941\tScore: -124.5953\n",
      "Epsiode: 27.0\tWindow Score: -970.2617\tScore: -126.9867\n",
      "Epsiode: 28.0\tWindow Score: -945.4843\tScore: -251.7164\n",
      "Epsiode: 29.0\tWindow Score: -939.3252\tScore: -760.7117\n"
     ]
    }
   ],
   "source": [
    "for episode in range(max_e):\n",
    "    state = env.reset()\n",
    "    score = 0\n",
    "    for t in range(max_t):\n",
    "        action = actor.act(state, add_noise=False)\n",
    "        next_state, reward, done, _ = env.step(action)\n",
    "        mem.push(state, action, reward, next_state, done)\n",
    "        score += reward\n",
    "\n",
    "\n",
    "        \n",
    "        if len(mem) > batch_size and t % learn_every == 0:\n",
    "            learn()\n",
    "\n",
    "        if done:\n",
    "            break;\n",
    "        \n",
    "        state = next_state\n",
    "    \n",
    "    score_log.append(score)\n",
    "    score_window.append(score)\n",
    "    \n",
    "#     print(\"\\rEpsiode: {:.1f}\\tWindow Score: {:.4f}\\tScore: {:.4f}\".format(episode, np.mean(score_window), score), end=\"\")    \n",
    "#     if (episode % 100 == 0):\n",
    "#         print(\"\\rEpsiode: {:.1f}\\tWindow Score: {:.4f}\\tScore: {:.4f}\".format(episode, np.mean(score_window), score))\n",
    "    print(\"\\rEpsiode: {:.1f}\\tWindow Score: {:.4f}\\tScore: {:.4f}\".format(episode, np.mean(score_window), score))\n",
    "\n"
   ]
  },
  {
   "cell_type": "code",
   "execution_count": 19,
   "metadata": {},
   "outputs": [
    {
     "data": {
      "text/plain": [
       "[<matplotlib.lines.Line2D at 0x11f14ec50>]"
      ]
     },
     "execution_count": 19,
     "metadata": {},
     "output_type": "execute_result"
    },
    {
     "data": {
      "image/png": "[encoded data removed]",
      "text/plain": [
       "<Figure size 432x288 with 1 Axes>"
      ]
     },
     "metadata": {
      "needs_background": "light"
     },
     "output_type": "display_data"
    }
   ],
   "source": [
    "plt.plot(score_log)"
   ]
  },
  {
   "cell_type": "code",
   "execution_count": null,
   "metadata": {},
   "outputs": [],
   "source": []
  }
 ],
 "metadata": {
  "kernelspec": {
   "display_name": "Python 3",
   "language": "python",
   "name": "python3"
  },
  "language_info": {
   "codemirror_mode": {
    "name": "ipython",
    "version": 3
   },
   "file_extension": ".py",
   "mimetype": "text/x-python",
   "name": "python",
   "nbconvert_exporter": "python",
   "pygments_lexer": "ipython3",
   "version": "3.6.8"
  }
 },
 "nbformat": 4,
 "nbformat_minor": 2
}
