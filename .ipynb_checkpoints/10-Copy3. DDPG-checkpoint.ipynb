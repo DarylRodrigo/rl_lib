{
 "cells": [
  {
   "cell_type": "code",
   "execution_count": 1,
   "metadata": {},
   "outputs": [],
   "source": [
    "%load_ext autoreload\n",
    "%autoreload 2"
   ]
  },
  {
   "cell_type": "code",
   "execution_count": 2,
   "metadata": {},
   "outputs": [],
   "source": [
    "from collections import deque, namedtuple\n",
    "from matplotlib import pyplot as plt\n",
    "import numpy as np\n",
    "import random\n",
    "import gym\n",
    "import pdb\n",
    "\n",
    "from src.utils.OUNoise import OUNoise \n",
    "\n",
    "import torch\n",
    "import torch.nn as nn\n",
    "import torch.optim as optim\n",
    "import torch.nn.functional as F\n",
    "from torch.distributions import Categorical"
   ]
  },
  {
   "cell_type": "code",
   "execution_count": 3,
   "metadata": {},
   "outputs": [],
   "source": [
    "device = torch.device(\"cuda:0\" if torch.cuda.is_available() else \"cpu\")"
   ]
  },
  {
   "cell_type": "markdown",
   "metadata": {},
   "source": [
    "## Define Networks"
   ]
  },
  {
   "cell_type": "code",
   "execution_count": 4,
   "metadata": {},
   "outputs": [],
   "source": [
    "class Actor(nn.Module):\n",
    "    def __init__(self, state_space, action_space):\n",
    "        super(Actor, self).__init__()\n",
    "        \n",
    "        self.noise = OUNoise(action_space)\n",
    "        \n",
    "        self.head = nn.Sequential(\n",
    "            nn.Linear(state_space, 512),\n",
    "            nn.ReLU(),\n",
    "            nn.Linear(512, 128),\n",
    "            nn.ReLU(),\n",
    "            nn.Linear(128, action_space),\n",
    "            nn.Tanh()\n",
    "        )\n",
    "    \n",
    "    def forward(self, x):\n",
    "        return self.head(x)\n",
    "    \n",
    "    def act(self, state, add_noise=True):\n",
    "        \n",
    "        state = torch.from_numpy(state).float()\n",
    "        \n",
    "        action = self.forward(state).cpu().data.numpy()\n",
    "        if add_noise:\n",
    "            action += self.noise.noise()\n",
    "\n",
    "        return np.clip(action, -1, 1)\n"
   ]
  },
  {
   "cell_type": "code",
   "execution_count": 5,
   "metadata": {},
   "outputs": [],
   "source": [
    "# class Critic(nn.Module):\n",
    "#     def __init__(self, state_space, action_space):\n",
    "#         super(Critic, self).__init__()\n",
    "        \n",
    "#         self.head = nn.Sequential(\n",
    "#             nn.Linear(state_space, 1024),\n",
    "#             nn.ReLU(),\n",
    "#         )\n",
    "        \n",
    "#         self.body = nn.Sequential(\n",
    "#             nn.Linear(1024 + action_space, 512),\n",
    "#             nn.ReLU(),\n",
    "#             nn.Linear(512, 300),\n",
    "#             nn.ReLU(),\n",
    "#             nn.Linear(300, 1),\n",
    "#         )\n",
    "        \n",
    "#         self.single = nn.Sequential(\n",
    "#             nn.Linear(state_space + action_space, 256),\n",
    "#             nn.ReLU(),\n",
    "#             nn.Linear(256, 256),\n",
    "#             nn.ReLU(),\n",
    "#             nn.Linear(256, 1),\n",
    "#         )\n",
    "    \n",
    "#     def forward(self, x, actions):\n",
    "#         actions = torch.tensor(actions).float()\n",
    "#         x = torch.tensor(x).float()\n",
    "        \n",
    "#         x = self.head(x)\n",
    "#         x = self.body(torch.cat((x, actions), dim=1))\n",
    "        \n",
    "# #         x = self.single(torch.cat((x, actions), dim=1))\n",
    "#         return x"
   ]
  },
  {
   "cell_type": "code",
   "execution_count": 6,
   "metadata": {},
   "outputs": [],
   "source": [
    "class Critic(nn.Module):\n",
    "\n",
    "    def __init__(self, obs_dim, action_dim):\n",
    "        super(Critic, self).__init__()\n",
    "\n",
    "        self.obs_dim = obs_dim\n",
    "        self.action_dim = action_dim\n",
    "\n",
    "        self.linear1 = nn.Linear(self.obs_dim, 1024)\n",
    "        self.linear2 = nn.Linear(1024 + self.action_dim, 512)\n",
    "        self.linear3 = nn.Linear(512, 300)\n",
    "        self.linear4 = nn.Linear(300, 1)\n",
    "\n",
    "    def forward(self, x, a):\n",
    "        x = F.relu(self.linear1(x))\n",
    "        xa_cat = torch.cat([x,a], 1)\n",
    "        xa = F.relu(self.linear2(xa_cat))\n",
    "        xa = F.relu(self.linear3(xa))\n",
    "        qval = self.linear4(xa)\n",
    "\n",
    "        return qval"
   ]
  },
  {
   "cell_type": "markdown",
   "metadata": {},
   "source": [
    "## Create environment with Agents"
   ]
  },
  {
   "cell_type": "code",
   "execution_count": 7,
   "metadata": {},
   "outputs": [
    {
     "name": "stdout",
     "output_type": "stream",
     "text": [
      "State space: 3\n",
      "Action space: 1\n"
     ]
    },
    {
     "name": "stderr",
     "output_type": "stream",
     "text": [
      "/Library/Frameworks/Python.framework/Versions/3.6/lib/python3.6/site-packages/gym/envs/registration.py:14: PkgResourcesDeprecationWarning: Parameters to load are deprecated.  Call .resolve and .require separately.\n",
      "  result = entry_point.load(False)\n"
     ]
    }
   ],
   "source": [
    "import gym\n",
    "\n",
    "# env = gym.make(\"MountainCarContinuous-v0\")\n",
    "env = gym.make(\"Pendulum-v0\")\n",
    "\n",
    "state_space = env.observation_space.shape[0]\n",
    "action_space = env.action_space.shape[0]\n",
    "\n",
    "print(\"State space: {}\".format(state_space))\n",
    "print(\"Action space: {}\".format(action_space))"
   ]
  },
  {
   "cell_type": "code",
   "execution_count": 8,
   "metadata": {},
   "outputs": [],
   "source": [
    "actor = Actor(state_space, action_space).to(device)\n",
    "critic = Critic(state_space, action_space).to(device)\n",
    "\n",
    "actor_target = Actor(state_space, action_space).to(device)\n",
    "critic_target = Critic(state_space, action_space).to(device)"
   ]
  },
  {
   "cell_type": "markdown",
   "metadata": {},
   "source": [
    "### Replay Buffer"
   ]
  },
  {
   "cell_type": "code",
   "execution_count": 9,
   "metadata": {},
   "outputs": [],
   "source": [
    "class ReplayBuffer:\n",
    "    def __init__(self, buffer_size):\n",
    "        self.buffer = deque(maxlen=int(buffer_size))\n",
    "        self.Experience = namedtuple(\"experience\", [\"state\", \"action\", \"reward\", \"next_state\", \"done\"])\n",
    "    \n",
    "    def add(self, state, action, reward, next_state, done):\n",
    "        e = self.Experience(state, action, reward, next_state ,done)\n",
    "        self.buffer.append(e)\n",
    "    \n",
    "    def sample(self, batch_size):\n",
    "        samples = random.sample(self.buffer, batch_size)\n",
    "        \n",
    "#         states = torch.stack([ torch.tensor(exp.state) for exp in samples]).float().to(device)\n",
    "#         actions = torch.stack([ torch.tensor(exp.action) for exp in samples]).float().to(device)\n",
    "#         rewards = torch.stack([ torch.tensor(exp.reward) for exp in samples]).float().to(device)\n",
    "#         next_states = torch.stack([ torch.tensor(exp.next_state) for exp in samples]).float().to(device)\n",
    "#         dones = torch.stack([ torch.tensor(exp.done) for exp in samples]).float().to(device)\n",
    "        \n",
    "        states = [ exp.state for exp in samples]\n",
    "        actions = [ exp.action for exp in samples]\n",
    "        rewards = [ exp.reward for exp in samples]\n",
    "        next_states = [ exp.next_state for exp in samples]\n",
    "        dones = [ exp.done for exp in samples]\n",
    "        \n",
    "        return (states, actions, rewards, next_states, dones)\n",
    "    \n",
    "    def __len__(self):\n",
    "        return len(self.buffer)\n",
    "\n",
    "# class ReplayBuffer:\n",
    "\n",
    "#   def __init__(self, max_size):\n",
    "#       self.max_size = max_size\n",
    "#       self.buffer = deque(maxlen=max_size)\n",
    "\n",
    "#   def add(self, state, action, reward, next_state, done):\n",
    "#       experience = (state, action, np.array([reward]), next_state, done)\n",
    "#       self.buffer.append(experience)\n",
    "\n",
    "#   def sample(self, batch_size):\n",
    "#       state_batch = []\n",
    "#       action_batch = []\n",
    "#       reward_batch = []\n",
    "#       next_state_batch = []\n",
    "#       done_batch = []\n",
    "\n",
    "#       batch = random.sample(self.buffer, batch_size)\n",
    "\n",
    "#       for experience in batch:\n",
    "#           state, action, reward, next_state, done = experience\n",
    "#           state_batch.append(state)\n",
    "#           action_batch.append(action)\n",
    "#           reward_batch.append(reward)\n",
    "#           next_state_batch.append(next_state)\n",
    "#           done_batch.append(done)\n",
    "\n",
    "#       return (state_batch, action_batch, reward_batch, next_state_batch, done_batch)\n",
    "\n",
    "#   def __len__(self):\n",
    "#       return len(self.buffer)"
   ]
  },
  {
   "cell_type": "markdown",
   "metadata": {},
   "source": [
    "## Computing loss and updating Networks"
   ]
  },
  {
   "cell_type": "code",
   "execution_count": 10,
   "metadata": {},
   "outputs": [],
   "source": [
    "actor_optimiser = optim.Adam(actor.parameters(), lr=1e-3)\n",
    "critic_optimiser = optim.Adam(critic.parameters(), lr=1e-3)"
   ]
  },
  {
   "cell_type": "code",
   "execution_count": 18,
   "metadata": {},
   "outputs": [],
   "source": [
    "def learn():\n",
    "\n",
    "    state_batch, action_batch, reward_batch, next_state_batch, masks = mem.sample(batch_size)\n",
    "    \n",
    "#     pdb.set_trace()\n",
    "    \n",
    "    state_batch = torch.FloatTensor(state_batch)\n",
    "    action_batch = torch.FloatTensor(action_batch)\n",
    "    reward_batch = torch.FloatTensor(reward_batch)\n",
    "    next_state_batch = torch.FloatTensor(next_state_batch)\n",
    "    masks = torch.FloatTensor(masks)\n",
    "\n",
    "    update_critic(\n",
    "        states=state_batch,\n",
    "        actions=action_batch,\n",
    "        rewards=reward_batch,\n",
    "        next_states=next_state_batch,\n",
    "        dones=masks\n",
    "    )\n",
    "    update_actor(states=state_batch)\n",
    "    update_target_networks()"
   ]
  },
  {
   "cell_type": "markdown",
   "metadata": {},
   "source": [
    "### Actor Update\n",
    "\n",
    "<img src=\"./img/ddpg/actor_update.png\" alt=\"Drawing\" style=\"height: 50px;\"/>"
   ]
  },
  {
   "cell_type": "code",
   "execution_count": 12,
   "metadata": {},
   "outputs": [],
   "source": [
    "def update_actor(states):\n",
    "    actions_pred = actor(states)  \n",
    "#     actions_pred = torch.from_numpy(actions_pred).float()\n",
    "    loss = -critic(states, actions_pred).mean()\n",
    "    \n",
    "    actor_optimiser.zero_grad()\n",
    "    loss.backward()\n",
    "    actor_optimiser.step()"
   ]
  },
  {
   "cell_type": "markdown",
   "metadata": {},
   "source": [
    "### Critic Update\n",
    "\n",
    "Critic Loss:\n",
    "<img src=\"./img/ddpg/critic_loss.png\" alt=\"Drawing\" style=\"height: 30px;\"/>\n",
    "\n",
    "Critic $y_i$:\n",
    "<img src=\"./img/ddpg/critic_yi.png\" alt=\"Drawing\" style=\"height: 35px;\"/>"
   ]
  },
  {
   "cell_type": "code",
   "execution_count": 13,
   "metadata": {},
   "outputs": [],
   "source": [
    "def update_critic(states, actions, rewards, next_states, dones):\n",
    "#     pdb.set_trace()\n",
    "    next_actions = actor_target.forward(next_states)\n",
    "    \n",
    "#     y_i =  rewards + ( gamma * critic_target(next_states, next_actions).squeeze() * (1-dones ))\n",
    "#     expected_Q = critic(states, actions).squeeze()\n",
    "    \n",
    "    y_i =  rewards + ( gamma * critic_target(next_states, next_actions) * (1-dones ))\n",
    "    expected_Q = critic(states, actions)\n",
    "\n",
    "    loss = F.mse_loss(y_i, expected_Q)\n",
    "    \n",
    "    critic_optimiser.zero_grad()\n",
    "    loss.backward()\n",
    "    critic_optimiser.step()"
   ]
  },
  {
   "cell_type": "markdown",
   "metadata": {},
   "source": [
    "### Copy Weights Over"
   ]
  },
  {
   "cell_type": "code",
   "execution_count": 14,
   "metadata": {},
   "outputs": [],
   "source": [
    "def update_target_networks():\n",
    "    for target, local in zip(actor_target.parameters(), actor.parameters()):\n",
    "        target.data.copy_(tau*local.data + (1.0-tau)*target.data)\n",
    "        \n",
    "    for target, local in zip(critic_target.parameters(), critic.parameters()):\n",
    "        target.data.copy_(tau*local.data + (1.0-tau)*target.data)"
   ]
  },
  {
   "cell_type": "markdown",
   "metadata": {},
   "source": [
    "## Runner"
   ]
  },
  {
   "cell_type": "code",
   "execution_count": 15,
   "metadata": {},
   "outputs": [],
   "source": [
    "max_e = 30\n",
    "max_t = 500\n",
    "buffer_size = 100000\n",
    "batch_size = 32\n",
    "learn_every = 1\n",
    "\n",
    "gamma = 0.99\n",
    "tau = 1e-2"
   ]
  },
  {
   "cell_type": "code",
   "execution_count": 16,
   "metadata": {},
   "outputs": [],
   "source": [
    "mem = ReplayBuffer(buffer_size)\n",
    "\n",
    "score_log = []\n",
    "score_window = deque(maxlen=100)"
   ]
  },
  {
   "cell_type": "code",
   "execution_count": null,
   "metadata": {
    "scrolled": true
   },
   "outputs": [
    {
     "name": "stdout",
     "output_type": "stream",
     "text": [
      "> <ipython-input-18-e7c3897805cb>(7)learn()\n",
      "-> state_batch = torch.FloatTensor(state_batch)\n",
      "(Pdb) state_batch\n",
      "[array([-0.71126355,  0.70292543, -7.86754903]), array([-0.97205774, -0.2347419 ,  0.84490126]), array([-0.9970827 , -0.07632877, -4.10122866]), array([0.58574083, 0.81049841, 5.98689864]), array([-0.16776309,  0.98582734, -2.25997446]), array([ 0.22030381,  0.9754313 , -4.18445993]), array([-0.84392079, -0.5364678 ,  3.77926961]), array([ 0.03187483, -0.99949187,  1.12673023]), array([-0.95132502, -0.3081894 ,  1.45544488]), array([-0.51708513, -0.85593397,  7.66735147]), array([-0.03191645, -0.99949054, -3.93868436]), array([-0.97107518,  0.23877395, -6.09972824]), array([-0.97547275,  0.22012022,  6.41757077]), array([ 0.7450116 , -0.66705151, -1.03615545]), array([0.91424705, 0.40515717, 1.89215589]), array([-0.99091649, -0.13447867, -0.82814506]), array([-0.25477774, -0.96699964,  3.71658265]), array([ 0.71136657, -0.70282117, -0.58231535]), array([ 0.24803471, -0.96875115, -0.02151192]), array([-0.8749674 ,  0.48418184,  4.31708584]), array([-0.99321334,  0.11630675, -4.49366859]), array([-0.95237715,  0.30492254,  0.28575401]), array([-0.99990337,  0.01390134, -3.85753592]), array([ 0.99326089, -0.1159    ,  4.65226351]), array([-0.91603196, -0.40110529, -0.19203346]), array([-0.95437626, -0.29860668,  0.78565184]), array([-0.4252234 , -0.90508842, -2.85056205]), array([-0.43465773,  0.90059572,  1.30259795]), array([-0.01754408, -0.99984609,  6.86547691]), array([-0.19231443, -0.98133336, -2.9673102 ]), array([-0.97687414, -0.21381515,  0.84630788]), array([ 0.99571562, -0.09246845, -4.73208291])]\n",
      "(Pdb) torch.FloatTensor(state_batch)\n",
      "tensor([[-0.7113,  0.7029, -7.8675],\n",
      "        [-0.9721, -0.2347,  0.8449],\n",
      "        [-0.9971, -0.0763, -4.1012],\n",
      "        [ 0.5857,  0.8105,  5.9869],\n",
      "        [-0.1678,  0.9858, -2.2600],\n",
      "        [ 0.2203,  0.9754, -4.1845],\n",
      "        [-0.8439, -0.5365,  3.7793],\n",
      "        [ 0.0319, -0.9995,  1.1267],\n",
      "        [-0.9513, -0.3082,  1.4554],\n",
      "        [-0.5171, -0.8559,  7.6674],\n",
      "        [-0.0319, -0.9995, -3.9387],\n",
      "        [-0.9711,  0.2388, -6.0997],\n",
      "        [-0.9755,  0.2201,  6.4176],\n",
      "        [ 0.7450, -0.6671, -1.0362],\n",
      "        [ 0.9142,  0.4052,  1.8922],\n",
      "        [-0.9909, -0.1345, -0.8281],\n",
      "        [-0.2548, -0.9670,  3.7166],\n",
      "        [ 0.7114, -0.7028, -0.5823],\n",
      "        [ 0.2480, -0.9688, -0.0215],\n",
      "        [-0.8750,  0.4842,  4.3171],\n",
      "        [-0.9932,  0.1163, -4.4937],\n",
      "        [-0.9524,  0.3049,  0.2858],\n",
      "        [-0.9999,  0.0139, -3.8575],\n",
      "        [ 0.9933, -0.1159,  4.6523],\n",
      "        [-0.9160, -0.4011, -0.1920],\n",
      "        [-0.9544, -0.2986,  0.7857],\n",
      "        [-0.4252, -0.9051, -2.8506],\n",
      "        [-0.4347,  0.9006,  1.3026],\n",
      "        [-0.0175, -0.9998,  6.8655],\n",
      "        [-0.1923, -0.9813, -2.9673],\n",
      "        [-0.9769, -0.2138,  0.8463],\n",
      "        [ 0.9957, -0.0925, -4.7321]])\n",
      "(Pdb) torch.FloatTensor(state_batch).shape\n",
      "torch.Size([32, 3])\n"
     ]
    }
   ],
   "source": [
    "for episode in range(max_e):\n",
    "    state = env.reset()\n",
    "    score = 0\n",
    "    for t in range(max_t):\n",
    "        action = actor.act(state, add_noise=False)\n",
    "        next_state, reward, done, _ = env.step(action)\n",
    "#         mem.add(state, action, reward, next_state, done)\n",
    "        mem.add(state, action, reward, next_state, done)\n",
    "        score += reward\n",
    "\n",
    "\n",
    "        \n",
    "        if len(mem) > batch_size and t % learn_every == 0:\n",
    "            learn()\n",
    "\n",
    "        if done:\n",
    "            break;\n",
    "        \n",
    "        state = next_state\n",
    "    \n",
    "    score_log.append(score)\n",
    "    score_window.append(score)\n",
    "    \n",
    "#     print(\"\\rEpsiode: {:.1f}\\tWindow Score: {:.4f}\\tScore: {:.4f}\".format(episode, np.mean(score_window), score), end=\"\")    \n",
    "#     if (episode % 100 == 0):\n",
    "#         print(\"\\rEpsiode: {:.1f}\\tWindow Score: {:.4f}\\tScore: {:.4f}\".format(episode, np.mean(score_window), score))\n",
    "    print(\"\\rEpsiode: {:.1f}\\tWindow Score: {:.4f}\\tScore: {:.4f}\".format(episode, np.mean(score_window), score))\n",
    "\n"
   ]
  },
  {
   "cell_type": "code",
   "execution_count": null,
   "metadata": {},
   "outputs": [],
   "source": [
    "plt.plot(score_log)"
   ]
  },
  {
   "cell_type": "code",
   "execution_count": null,
   "metadata": {},
   "outputs": [],
   "source": []
  }
 ],
 "metadata": {
  "kernelspec": {
   "display_name": "Python 3",
   "language": "python",
   "name": "python3"
  },
  "language_info": {
   "codemirror_mode": {
    "name": "ipython",
    "version": 3
   },
   "file_extension": ".py",
   "mimetype": "text/x-python",
   "name": "python",
   "nbconvert_exporter": "python",
   "pygments_lexer": "ipython3",
   "version": "3.6.8"
  }
 },
 "nbformat": 4,
 "nbformat_minor": 2
}
