{
 "cells": [
  {
   "cell_type": "code",
   "execution_count": 18,
   "metadata": {},
   "outputs": [
    {
     "name": "stdout",
     "output_type": "stream",
     "text": [
      "The autoreload extension is already loaded. To reload it, use:\n",
      "  %reload_ext autoreload\n"
     ]
    }
   ],
   "source": [
    "%load_ext autoreload\n",
    "%autoreload 2"
   ]
  },
  {
   "cell_type": "code",
   "execution_count": 19,
   "metadata": {},
   "outputs": [],
   "source": [
    "import numpy as np\n",
    "from collections import deque\n",
    "\n",
    "import torch\n",
    "import torch.nn as nn\n",
    "import torch.optim as optim\n",
    "import torch.nn.functional as F\n",
    "from torch.distributions import Categorical\n",
    "\n",
    "class Network(nn.Module):\n",
    "    def __init__(self, state_space, action_space, seed):\n",
    "        super(Network, self).__init__()\n",
    "\n",
    "        self.model = nn.Sequential(\n",
    "            nn.Linear(state_space, 16),\n",
    "            nn.ReLU(),\n",
    "#             nn.Linear(64, 64),\n",
    "#             nn.ReLU(),\n",
    "            nn.Linear(16, action_space)\n",
    "        )\n",
    "\n",
    "    def forward(self, x):\n",
    "        return F.softmax(self.model(torch.tensor(x).float()))\n",
    "    \n",
    "    \n",
    "    def act(self, x):\n",
    "        # https://pytorch.org/docs/stable/distributions.html#score-function\n",
    "        probabilities = self.forward(x)\n",
    "        m = Categorical(probabilities)\n",
    "        action = m.sample()\n",
    "        log = m.log_prob(action)\n",
    "        \n",
    "        return action, log\n",
    "        "
   ]
  },
  {
   "cell_type": "code",
   "execution_count": 20,
   "metadata": {},
   "outputs": [],
   "source": [
    "import gym\n",
    "env = gym.make(\"CartPole-v1\")\n",
    "\n",
    "state_space = env.observation_space.shape[0]\n",
    "action_space =env.action_space.n"
   ]
  },
  {
   "cell_type": "code",
   "execution_count": 21,
   "metadata": {},
   "outputs": [],
   "source": [
    "max_episodes = 2000\n",
    "max_t = 200\n",
    "update_every = 4\n",
    "gamma = 0.99"
   ]
  },
  {
   "cell_type": "code",
   "execution_count": 22,
   "metadata": {},
   "outputs": [
    {
     "name": "stderr",
     "output_type": "stream",
     "text": [
      "/Library/Frameworks/Python.framework/Versions/3.6/lib/python3.6/site-packages/ipykernel_launcher.py:23: UserWarning: Implicit dimension choice for softmax has been deprecated. Change the call to include dim=X as an argument.\n"
     ]
    },
    {
     "name": "stdout",
     "output_type": "stream",
     "text": [
      "Episode: 0\tmean reward: 47.0\n",
      "Episode: 100\tmean reward: 9.55\n",
      "Episode: 200\tmean reward: 9.33\n",
      "Episode: 300\tmean reward: 9.31\n",
      "Episode: 400\tmean reward: 9.39\n",
      "Episode: 500\tmean reward: 9.32\n",
      "Episode: 600\tmean reward: 9.3\n",
      "Episode: 700\tmean reward: 9.31\n",
      "Episode: 800\tmean reward: 9.25\n",
      "Episode: 900\tmean reward: 9.47\n",
      "Episode: 1000\tmean reward: 9.35\n",
      "Episode: 1100\tmean reward: 9.33\n",
      "Episode: 1200\tmean reward: 9.53\n",
      "Episode: 1300\tmean reward: 9.42\n",
      "Episode: 1400\tmean reward: 9.34\n",
      "Episode: 1500\tmean reward: 9.15\n",
      "Episode: 1600\tmean reward: 9.3\n",
      "Episode: 1700\tmean reward: 9.42\n",
      "Episode: 1800\tmean reward: 9.27\n",
      "Episode: 1900\tmean reward: 9.37\n"
     ]
    }
   ],
   "source": [
    "model = Network(state_space, action_space, 1234)\n",
    "optimiser = optim.Adam(model.parameters(),lr=1e-2)\n",
    "\n",
    "scores_deque = deque(maxlen=100)\n",
    "\n",
    "for episode in range(max_episodes):\n",
    "    state = env.reset()\n",
    "    \n",
    "    policy_log = []\n",
    "    reward_log = []\n",
    "    \n",
    "    for t in range(max_t):\n",
    "        action, log = model.act(state)\n",
    "        state, reward, done, info = env.step(action.item())\n",
    "        \n",
    "        reward_log.append(reward)\n",
    "        policy_log.append(log)\n",
    "        \n",
    "        if done:\n",
    "            break\n",
    "        \n",
    "    discounts = [gamma ** i for i in range(len(reward_log)+1)]    \n",
    "    rewards = [discount * reward for (discount, reward) in zip(discounts, reward_log)]\n",
    "    G = np.array(rewards).sum()\n",
    "    \n",
    "    policy_loss = np.array([ -log * G for log in policy_log]).sum()\n",
    "    \n",
    "    optimiser.zero_grad()\n",
    "    policy_loss.backward()\n",
    "    optimiser.step()\n",
    "    \n",
    "    scores_deque.append(np.array(reward_log).sum())\n",
    "    \n",
    "    \n",
    "    if episode % 100 == 0:\n",
    "        print(\"Episode: {}\\tmean reward: {}\".format(episode, np.array(scores_deque).mean()))\n",
    "        "
   ]
  }
 ],
 "metadata": {
  "kernelspec": {
   "display_name": "Python 3",
   "language": "python",
   "name": "python3"
  }
 },
 "nbformat": 4,
 "nbformat_minor": 2
}
